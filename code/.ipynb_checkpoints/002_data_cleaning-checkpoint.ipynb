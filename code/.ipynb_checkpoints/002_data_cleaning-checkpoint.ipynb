{
 "cells": [
  {
   "cell_type": "code",
   "execution_count": 1,
   "metadata": {},
   "outputs": [],
   "source": [
    "import pandas as pd\n",
    "import numpy as np\n",
    "import regex as re\n",
    "import pickle\n",
    "import string\n",
    "from langdetect import detect\n",
    "\n",
    "pd.set_option('display.max_colwidth', -1)\n",
    "\n",
    "pd.set_option('display.max_rows', 1000)\n",
    "#pd.set_option('display.max_columns', 500)"
   ]
  },
  {
   "cell_type": "markdown",
   "metadata": {},
   "source": [
    "## Data cleaning hurricane tweets"
   ]
  },
  {
   "cell_type": "markdown",
   "metadata": {},
   "source": [
    "### Read in all hurricane tweets from pickle"
   ]
  },
  {
   "cell_type": "code",
   "execution_count": 2,
   "metadata": {},
   "outputs": [
    {
     "name": "stderr",
     "output_type": "stream",
     "text": [
      "/Users/joshuakong/opt/anaconda3/lib/python3.7/site-packages/IPython/core/interactiveshell.py:3058: DtypeWarning: Columns (4,12,18,19) have mixed types. Specify dtype option on import or set low_memory=False.\n",
      "  interactivity=interactivity, compiler=compiler, result=result)\n"
     ]
    }
   ],
   "source": [
    "hurricanes = pd.read_csv(\"../Data/hurricane_tweets.csv\")\n",
    "floods = pd.read_csv(\"../Data/df_floods.csv\")\n",
    "fires = pd.read_csv(\"../Data/all_fires.csv\")"
   ]
  },
  {
   "cell_type": "markdown",
   "metadata": {},
   "source": [
    "#### Merge dataframes into one"
   ]
  },
  {
   "cell_type": "code",
   "execution_count": 6,
   "metadata": {},
   "outputs": [
    {
     "name": "stdout",
     "output_type": "stream",
     "text": [
      "hurricane    36436\n",
      "Name: disaster, dtype: int64\n",
      "(36444, 22)\n",
      "floods    896\n",
      "Name: disaster, dtype: int64\n",
      "(896, 23)\n",
      "fire    40382\n",
      "Name: disaster, dtype: int64\n",
      "(40382, 23)\n"
     ]
    }
   ],
   "source": [
    "print(hurricanes['disaster'].value_counts())\n",
    "print(hurricanes.shape)\n",
    "print(floods['disaster'].value_counts())\n",
    "print(floods.shape)\n",
    "print(fires['disaster'].value_counts())\n",
    "print(fires.shape)"
   ]
  },
  {
   "cell_type": "code",
   "execution_count": null,
   "metadata": {},
   "outputs": [],
   "source": []
  },
  {
   "cell_type": "code",
   "execution_count": 56,
   "metadata": {},
   "outputs": [],
   "source": [
    "# merge dataframes together\n",
    "df = pd.concat([hurricanes, floods, fires], sort = False)"
   ]
  },
  {
   "cell_type": "code",
   "execution_count": 57,
   "metadata": {},
   "outputs": [],
   "source": [
    "df.drop(columns = \"Unnamed: 0\", inplace = True)"
   ]
  },
  {
   "cell_type": "code",
   "execution_count": 58,
   "metadata": {},
   "outputs": [],
   "source": [
    "df[\"text\"] = df['text'].astype(str)"
   ]
  },
  {
   "cell_type": "code",
   "execution_count": 225,
   "metadata": {},
   "outputs": [],
   "source": [
    "# for text in hurricanes[\"text\"]:\n",
    "#     try:\n",
    "#         detect(text)\n",
    "#     except:\n",
    "#         noLang"
   ]
  },
  {
   "cell_type": "code",
   "execution_count": 156,
   "metadata": {},
   "outputs": [],
   "source": [
    "# for key, valu in onlyText.items():\n",
    "#         try:\n",
    "#             if detect(val[0]) !=\"en\":\n",
    "#                 foreignLangs[key]= val\n",
    "#                 foreignLangs[key].append(detect(val[0]))\n",
    "\n",
    "#         except:\n",
    "#             noLang[key] = val"
   ]
  },
  {
   "cell_type": "code",
   "execution_count": 157,
   "metadata": {},
   "outputs": [],
   "source": [
    "# hurricanes[\"language\"] = hurricanes[\"text\"].apply(detect)"
   ]
  },
  {
   "cell_type": "markdown",
   "metadata": {},
   "source": [
    "## Clean text columns"
   ]
  },
  {
   "cell_type": "code",
   "execution_count": 59,
   "metadata": {},
   "outputs": [],
   "source": [
    "df = df[[\"text\", \"disaster\"]]"
   ]
  },
  {
   "cell_type": "code",
   "execution_count": 54,
   "metadata": {},
   "outputs": [
    {
     "data": {
      "text/plain": [
       "0      OFFICALLY TROPICAL STORM DORIAN Where is it Going? Tropical Depression 5 Hurricane Dorian Track 2019 https://youtu.be/SKCqARFvsQw  The latest on the STORM'S TRACK!  in the above YOUTUBE LINK!!! @FlyRts @FearRTs @GFXCoach #dorian #florida #hurricane #hurricanedorian #tropicalstormdorianpic.twitter.com/RpMN7ewuLs                                                                                         \n",
       "1      Tropical Storm Dorian Projected Path, Spaghetti Models #Dorian #TropicalStormDorian #HurricaneDorian #SpaghettiModels http://www.brevardtimes.com/2019/08/noaa-tropical-storm-dorian-projected-path-spaghetti-models/amp/ …pic.twitter.com/t4O2L6wEr3                                                                                                                                                            \n",
       "2      Futura tormenta tropical #Dorian pasando por el sur de Puerto Rico.\\n#DorianPR #Caturrito #TormentaTropical #Temporadadehuracanes #Boletin #hurricane #HurricaneDorian #StormDorian #Atlantic #VamosCaturrito #PuertoRico #TSDorianpic.twitter.com/xdbjsykE3o                                                                                                                                                    \n",
       "3      *#CARIBBEAN:#Dorian #99L\\n-#TrinidadandTobago #Grenada #SaintVincent #Grenadines #StLucia #Barbados #Martinique #Dominica #Guadeloupe #Antigua #Barbuda #StKitts #Nevis #Anguilla #TropicalDepressionDorian #TropicalStormDorian #HurricaneDorian\\n-BLOG/MAPS/INFO\\nhttps://www.facebook.com/HurricaneTyphoonCyclone-Alerts-640446339341581/ …pic.twitter.com/36jYQlmzSI                                         \n",
       "4      *#CARIBBEAN:#Dorian #99L\\n-#TrinidadandTobago #Grenada #SaintVincent #Grenadines #StLucia #Barbados #Martinique #Dominica #Guadeloupe #Antigua #Barbuda #StKitts #Nevis #Anguilla #TropicalDepressionDorian #TropicalStormDorian #HurricaneDorian\\n-BLOG/MAPS/INFO\\nhttps://www.facebook.com/HurricaneTyphoonCyclone-Alerts-640446339341581/ …pic.twitter.com/Sj41w04kPc                                         \n",
       "5      #TDFIVE TO BECOME A #Hurricane THIS WEEK\\n\\nA system, located hundreds of miles from the Lesser Antilles, is expected to become #TropicalStormDorian tomorrow.  It is also forecast to become #HurricaneDorian later this week!  Start preparing now!\\n\\n#apexwx #tropics #Atlantic #stormpic.twitter.com/kWJsv9XpIX                                                                                             \n",
       "6      #TDFIVE TO BECOME A #Hurricane THIS WEEK\\n\\nA system, located hundreds of miles from the Lesser Antilles, is expected to become #TropicalStormDorian tomorrow.  It is also forecast to become #HurricaneDorian later this week!  Start preparing now!\\n\\n#apexwx #tropics #Atlantic #stormpic.twitter.com/MsRpq4mRRZ                                                                                             \n",
       "7      UPDATE: Tropical Storm Dorian strengthens, expected to become hurricane https://www.wesh.com/article/tropical-storm-dorian-strengthens-expected-to-become-hurricane/28809861 … #DORIAN #HURRICANEDORIAN                                                                                                                                                                                                          \n",
       "8      * #CARIBBEAN: #Dorian\\n-#TrinidadandTobago #Grenada #StVincent #Grenadines #StLucia #Barbados #Martinique #Dominica #Guadeloupe #Antigua #Barbuda #StKitts #Nevis #Anguilla #TropicalStormDorian #HurricaneDorian #LesserAntilles #Windwards\\n-BLOG/MAPS/INFO:\\nhttps://www.facebook.com/HurricaneTyphoonCyclone-Alerts-640446339341581/ …pic.twitter.com/ooJ05V60MH                                             \n",
       "9      * #CARIBBEAN: #Dorian\\n-#TrinidadandTobago #Grenada #StVincent #Grenadines #StLucia #Barbados #Martinique #Dominica #Guadeloupe #Antigua #Barbuda #StKitts #Nevis #Anguilla #TropicalStormDorian #HurricaneDorian #LesserAntilles #Windwards\\n-BLOG/MAPS/INFO:\\nhttps://www.facebook.com/HurricaneTyphoonCyclone-Alerts-640446339341581/ …pic.twitter.com/Pn3K73WS7g                                             \n",
       "10     LIVE TONIGHT 9PM EST!!! https://www.youtube.com/channel/UCnfqnffP8yyLhaNngximRtA/live … D-Railed Episode 76: PGA Tour Fed Ex Cup Lightning Strike, Hurricane Dorian, Wizard of Oz List @FlyRts @FearRTs @GFXCoach #pgatour #fedexcup #lightningstrike #hurricanedorian #tropicalstormdorian #wizardofoz #wizardofoz80pic.twitter.com/DOZS43anfO                                                                  \n",
       "11     #PuertoRico my little 35X100 island doesn’t need this.  Still so many houses with #BlueTarps #HurricaneDorian go visit Ttrump https://twitter.com/KPRC2Justin/status/1165742597136166912 …                                                                                                                                                                                                                       \n",
       "12     * #CARIBBEAN: #Dorian\\n-#TrinidadandTobago #Grenada #StVincent #Grenadines #StLucia #Barbados #Martinique #Dominica #Guadeloupe #Antigua #Barbuda #StKitts #Nevis #Anguilla #TropicalStormDorian #HurricaneDorian #LesserAntilles #Windwards\\n-BLOG/MAPS/INFO:\\nhttps://www.facebook.com/HurricaneTyphoonCyclone-Alerts-640446339341581/ …pic.twitter.com/GP4JJCFlXH                                             \n",
       "13     @ErasmoProvenza @Telemundo @TelemundoPR  Ustedes estan siguiendo la noticias del #HurricaneDorian   . Como afectaria esto las grabacciones y la competencia #ExatlonEEUU  ( espero alguien conteste )                                                                                                                                                                                                            \n",
       "14     Así está la tormenta tropical #Dorian.\\nLa #TormentaTropical tiene 40mph y una presión de 1008mb\\n#TormentaTropicalDorian #TormentaDorian #Caturrito #DorianPR #DorianRD #TiempoPR #TiempoRD #VamosCaturrito #StormDorian #HuracanDorian #TSDorian #HurricaneDorian pic.twitter.com/GEUgKAviK6                                                                                                                   \n",
       "15     #weather #meteorology #hurricane #HurricaneDorian https://twitter.com/KerrinJeromin/status/1165684643040878592 …                                                                                                                                                                                                                                                                                                 \n",
       "16     Breaking News! Allure of the Seas Changes Itinerary To Avoid Hurricane Dorian https://youtu.be/5CP4KWOhmLQ  Over 5000 cruisers on ship #allureoftheseas #royalcaribbean #hurricanedorian #stkittsandnevis #cruiseshipnews #caribbeancruisenews #hurricane #harmonyoftheseas #symphonyoftheseaspic.twitter.com/AX9xMtywEl                                                                                         \n",
       "17     * #CARIBBEAN: #Dorian\\n-#TrinidadandTobago #Grenada #StVincent #Grenadines #StLucia #Barbados #Martinique #Dominica #Guadeloupe #Antigua #Barbuda #StKitts #Nevis #Anguilla #TropicalStormDorian #HurricaneDorian #LesserAntilles #Windwards\\n-BLOG/MAPS/INFO:\\nhttps://www.facebook.com/HurricaneTyphoonCyclone-Alerts-640446339341581/ …pic.twitter.com/W8ZMcPxWzP                                             \n",
       "18     * #CARIBBEAN: #Dorian\\n-#TrinidadandTobago #Grenada #StVincent #Grenadines #StLucia #Barbados #Martinique #Dominica #Guadeloupe #Antigua #Barbuda #StKitts #Nevis #Anguilla #TropicalStormDorian #HurricaneDorian #LesserAntilles #Windwards\\n-BLOG/MAPS/INFO:\\nhttps://www.facebook.com/HurricaneTyphoonCyclone-Alerts-640446339341581/ …pic.twitter.com/jg7NKRCku3                                             \n",
       "19     * #CARIBBEAN: #Dorian\\n-#TrinidadandTobago #Grenada #StVincent #Grenadines #StLucia #Barbados #Martinique #Dominica #Guadeloupe #Antigua #Barbuda #StKitts #Nevis #Anguilla #TropicalStormDorian #HurricaneDorian #LesserAntilles #Windwards\\n-BLOG/MAPS/INFO:\\nhttps://www.facebook.com/HurricaneTyphoonCyclone-Alerts-640446339341581/ …pic.twitter.com/LjAXtAnENI                                             \n",
       "20     * #CARIBBEAN: #Dorian\\n-#TrinidadandTobago #Grenada #StVincent #Grenadines #StLucia #Barbados #Martinique #Dominica #Guadeloupe #Antigua #Barbuda #StKitts #Nevis #Anguilla #TropicalStormDorian #HurricaneDorian #LesserAntilles #Windwards\\n-BLOG/MAPS/INFO:\\nhttps://www.facebook.com/HurricaneTyphoonCyclone-Alerts-640446339341581/ …pic.twitter.com/XimUsLOEDh                                             \n",
       "21     * #CARIBBEAN: #Dorian\\n-#TrinidadandTobago #Grenada #StVincent #Grenadines #StLucia #Barbados #Martinique #Dominica #Guadeloupe #Antigua #Barbuda #StKitts #Nevis #Anguilla #TropicalStormDorian #HurricaneDorian #LesserAntilles #Windwards\\n-BLOG/MAPS/INFO:\\nhttps://www.facebook.com/HurricaneTyphoonCyclone-Alerts-640446339341581/ …pic.twitter.com/ZfiAU4Ld7o                                             \n",
       "22     * #CARIBBEAN: #Dorian\\n-#TrinidadandTobago #Grenada #StVincent #Grenadines #StLucia #Barbados #Martinique #Dominica #Guadeloupe #Antigua #Barbuda #StKitts #Nevis #Anguilla #TropicalStormDorian #HurricaneDorian #LesserAntilles #Windwards\\n-BLOG/MAPS/INFO:\\nhttps://www.facebook.com/HurricaneTyphoonCyclone-Alerts-640446339341581/ …pic.twitter.com/tGmxUshVEg                                             \n",
       "23     * #CARIBBEAN: #Dorian\\n-#TrinidadandTobago #Grenada #SaintVincent #Grenadines #StLucia #Barbados #Martinique #Dominica #Guadeloupe #Antigua #Barbuda #StKitts #Nevis #Anguilla #TropicalStormDorian #HurricaneDorian #LesserAntilles #Windwards\\n-BLOG/MAPS/INFO:\\nhttps://www.facebook.com/HurricaneTyphoonCyclone-Alerts-640446339341581/ …pic.twitter.com/zDpAUMm1dz                                          \n",
       "24     * #CARIBBEAN: #Dorian\\n-#TrinidadandTobago #Grenada #SaintVincent #Grenadines #StLucia #Barbados #Martinique #Dominica #Guadeloupe #Antigua #Barbuda #StKitts #Nevis #Anguilla #TropicalStormDorian #HurricaneDorian #LesserAntilles #Windwards\\n-BLOG/MAPS/INFO:\\nhttps://www.facebook.com/HurricaneTyphoonCyclone-Alerts-640446339341581/ …pic.twitter.com/mJdJwhi7jh                                          \n",
       "25     * #CARIBBEAN: #Dorian\\n-#TrinidadandTobago #Grenada #SaintVincent #Grenadines #StLucia #Barbados #Martinique #Dominica #Guadeloupe #Antigua #Barbuda #StKitts #Nevis #Anguilla #TropicalStormDorian #HurricaneDorian #LesserAntilles #Windwards\\n-BLOG/MAPS/INFO:\\nhttps://www.facebook.com/HurricaneTyphoonCyclone-Alerts-640446339341581/ …pic.twitter.com/uzFhx4k6Do                                          \n",
       "26     * #CARIBBEAN: #Dorian\\n-#TrinidadandTobago #Grenada #SaintVincent #Grenadines #StLucia #Barbados #Martinique #Dominica #Guadeloupe #Antigua #Barbuda #StKitts #Nevis #Anguilla #TropicalStormDorian #HurricaneDorian #LesserAntilles #Windwards\\n-BLOG/MAPS/INFO:\\nhttps://www.facebook.com/HurricaneTyphoonCyclone-Alerts-640446339341581/ …pic.twitter.com/GIDOPx6YtV                                          \n",
       "27     * #CARIBBEAN: #Dorian\\n-#TrinidadandTobago #Grenada #SaintVincent #Grenadines #StLucia #Barbados #Martinique #Dominica #Guadeloupe #Antigua #Barbuda #StKitts #Nevis #Anguilla #TropicalStormDorian #HurricaneDorian #LesserAntilles #Windwards\\n-BLOG/MAPS/INFO:\\nhttps://www.facebook.com/HurricaneTyphoonCyclone-Alerts-640446339341581/ …pic.twitter.com/5LbfoYhVvc                                          \n",
       "28     * #CARIBBEAN: #Dorian\\n-#TrinidadandTobago #Grenada #SaintVincent #Grenadines #StLucia #Barbados #Martinique #Dominica #Guadeloupe #Antigua #Barbuda #StKitts #Nevis #Anguilla #TropicalStormDorian #HurricaneDorian #LesserAntilles #Windwards\\n-BLOG/MAPS/INFO:\\nhttps://www.facebook.com/HurricaneTyphoonCyclone-Alerts-640446339341581/ …pic.twitter.com/1coCfTAVjZ                                          \n",
       "29     What’s up #HurricaneDorian?                                                                                                                                                                                                                                                                                                                                                                                      \n",
       "30     * #CARIBBEAN: #Dorian\\n-#TrinidadandTobago #Grenada #SaintVincent #Grenadines #StLucia #Barbados #Martinique #Dominica #Guadeloupe #Antigua #Barbuda #StKitts #Nevis #Anguilla #TropicalStormDorian #HurricaneDorian #LesserAntilles #Windwards\\n-BLOG/MAPS/INFO:\\nhttps://www.facebook.com/HurricaneTyphoonCyclone-Alerts-640446339341581/ …pic.twitter.com/nRBCaQoz2G                                          \n",
       "31     * #CARIBBEAN: #Dorian\\n-#TrinidadandTobago #Grenada #SaintVincent #Grenadines #StLucia #Barbados #Martinique #Dominica #Guadeloupe #Antigua #Barbuda #StKitts #Nevis #Anguilla #TropicalStormDorian #HurricaneDorian #LesserAntilles #Windwards\\n-BLOG/MAPS/INFO\\nhttps://www.facebook.com/HurricaneTyphoonCyclone-Alerts-640446339341581/ …pic.twitter.com/cK2F8VpZZK                                           \n",
       "32     Here we go!!\\nBetter be prepared and hope #PuertoRico learned from #HurricaneMaria .. NO $ to politicians.\\n@PuertoRicoPUR\\n#HurricaneDorian\\n@fema\\n@DavidBegnaud\\n\\nTropical Storm Dorian forms in Atlantic, could become hurricane by Tuesdayhttps://www.foxnews.com/weather/tropical-storm-dorian-caribbean-hurricane …                                                                                      \n",
       "33     #TropicalStormDorian is threatening the Caribbean and more storms could soak the US coast http://a.msn.com/04/en-us/AAGeJyz?ocid=st … More than likely #hurricanedorian later this week                                                                                                                                                                                                                          \n",
       "34     11 Cruise Ships 38000 Passengers May Be Affected By Hurricane Dorian This Week https://youtu.be/NGNcYkhnvvw  May hit Puerto Rico #carnival #RoyalCaribbean #Norwegian #MSC #disney #HurricaneDorian #Barbados #dominica #StThomas #StMaarten #bahamas #cruiseshipnews #Caribbeancruisepic.twitter.com/mpCZeSAJ43                                                                                                 \n",
       "35     It is official, we now have #tropicalstormDorian #hurricaneDorian \\nAre you ready for #HurricaneSeason ?\\nComplete #HurricanePrep checklisthttps://jentheredonethat.com/hurricane-preparation-checklist/ …                                                                                                                                                                                                       \n",
       "36     Look, I’m a hurricane. #stlucia and #Barbados friends and family please be prepared and safe!!! #dorian #hurricanedorian https://www.instagram.com/p/B1kQpxCgil1/?igshid=1un7mk61sqbum …                                                                                                                                                                                                                         \n",
       "37     yeah I heard lol                                                                                                                                                                                                                                                                                                                                                                                                 \n",
       "38     Me thinks if #HurricaneDorian is anything like it’s namesake John Dorian, all it wants is a hug off @JohnCMcGinley.\\n\\n@jcmfanclub\\n@zachbraff                                                                                                                                                                                                                                                                   \n",
       "39     Just have your president drop a nuclear bomb to the hurrican—\\n(It’s actually something he suggested)                                                                                                                                                                                                                                                                                                            \n",
       "40     #HurricaneDorian has nothing on Vlamis.\\n#WelcomeToTheCaribbean\\n#IslandLife                                                                                                                                                                                                                                                                                                                                     \n",
       "41     South Florida about to have a very musical Hurricane on our hands  #HurricaneDorian #HurricaneSeason #musichttps://apple.news/Adesec3dBTtGCtPpxLbsneg …                                                                                                                                                                                                                                                          \n",
       "42     And don’t forget #VeroBeach whats coming to us ! #HurricaneDorian Get your water  !!! People #sunday or even Saturdaypic.twitter.com/aI6Ly5seLy                                                                                                                                                                                                                                                                  \n",
       "43     * #CARIBBEAN: #Dorian\\n-#TrinidadandTobago #Grenada #StVincent #Grenadines #StLucia #Barbados #Martinique #Dominica #Guadeloupe #Antigua #Barbuda #StKitts #Saba #StEustatius #TropicalStormDorian #HurricaneDorian #LesserAntilles #Windwards\\n-BLOG/MAPS/INFO: \\nhttps://www.facebook.com/HurricaneTyphoonCyclone-Alerts-640446339341581/ …pic.twitter.com/Zo6eKJh6YV                                          \n",
       "44     *#CARIBBEAN: #TSDorian #Dorian\\n-#PuertoRico #Grenada #StVincent #Grenadines #StLucia #Barbados #Martinique #Dominica #Guadeloupe #Antigua #Barbuda #Nevis #Saba #StEustatius #TropicalStormDorian #HurricaneDorian #Culebra #Vieques #Montserrat\\n-BLOG/MAPS/INFO\\nhttps://www.facebook.com/HurricaneTyphoonCyclone-Alerts-640446339341581/ …pic.twitter.com/AVwQdwXOSj                                         \n",
       "45     Caribbean storm coming, we may get the edges of Hurricane Dorian tomorrow #caribbean #caribbeanstorm #antigua #hurricanedorian @ Soldier Bay https://www.instagram.com/p/B1pQtN_ppMQ/?igshid=fmacwf87m3wx …                                                                                                                                                                                                      \n",
       "46     This A serious storm #Dorian\\nIRONICO MI NOMBRE Y SOY KLEEMA COMO EL CLIMA LOL\\n\\nWORD!\\n\\nI feal gifted\\nI AM KLEEMA EL CLIMA\\n\\n#HurricaneDorian https://www.instagram.com/p/B1pQngiB7wQ/?igshid=1ntx3lgrsmtw7 …                                                                                                                                                                                               \n",
       "47     * #CARIBBEAN: #TSDorian #Dorian\\n-#PuertoRico #Grenada #StVincent #Grenadines #StLucia #Barbados #Martinique #Dominica #Guadeloupe #Antigua #Barbuda #StKitts #Saba #StEustatius #TropicalStormDorian #HurricaneDorian #Culebra #Vieques\\n-BLOG/MAPS/INFO\\nhttps://www.facebook.com/HurricaneTyphoonCyclone-Alerts-640446339341581/ …pic.twitter.com/5XCRho8xYB                                                  \n",
       "48     Sooooo, #TropicalStormDorian will be #HurricaneDorian. I'm loaded with beer, and water. #FuckMe                                                                                                                                                                                                                                                                                                                  \n",
       "49     * #CARIBBEAN: #Dorian\\n-#TrinidadandTobago #Grenada #StVincent #Grenadines #StLucia #Barbados #Martinique #Dominica #Guadeloupe #Antigua #Barbuda #StKitts #Saba #StEustatius #TropicalStormDorian #HurricaneDorian #LesserAntilles #Windwards\\n-BLOG/MAPS/INFO: \\nhttps://www.facebook.com/HurricaneTyphoonCyclone-Alerts-640446339341581/ …pic.twitter.com/iBniRiG5vf                                          \n",
       "50     Again  #HurricaneDorian  https://twitter.com/DavidBegnaud/status/1166090006592675842 …                                                                                                                                                                                                                                                                                                                           \n",
       "51     Puerto Rico declaring State of Emergency. #HurricaneDorian                                                                                                                                                                                                                                                                                                                                                       \n",
       "52     Barbados, St. Lucia and everyone in Dorian path be safe and be smart #Dorian #HurricaneDorian                                                                                                                                                                                                                                                                                                                    \n",
       "53     Possible #HurricaneDorian ?   That cant be good @robinstrasser @KassieDePaiva @krisalderson                                                                                                                                                                                                                                                                                                                      \n",
       "54     Regarding #TropicalStormDorian aka #StormDorian\\n\\n1. I hopw it dont turn into #HurricaneDorian\\n\\n2. I hope @ShePoison_Ivee & @wildfresa \\n\\nand others in Florida and Georgia & Louisiana & Alabama & Mississippi \\n\\nstay well and be well                                                                                                                                                                    \n",
       "55     :(                                                                                                                                                                                                                                                                                                                                                                                                               \n",
       "56     FUCK, NO DUDE I HAVE SHIT PLANNED REEEEEE THIS AIN'T GOOD                                                                                                                                                                                                                                                                                                                                                        \n",
       "57     Hoping this is a good place to share this thread. #HurricaneDorian #hurricanehttps://twitter.com/notnormalindstr/status/1166088125698850816?s=21 …                                                                                                                                                                                                                                                               \n",
       "58     I have a friend named Dorian. lived close to me. haven't seen him in a minute\\n\\n#hurricanedorian                                                                                                                                                                                                                                                                                                                \n",
       "59     Being bored on house arrest doesn’t mean passing time watching #HurricaneDorian updates                                                                                                                                                                                                                                                                                                                          \n",
       "60     #LIVE COVERAGE: #PuertoRico prepares for possible #hurricane as TROPICAL STORM #DORIAN approaches.\\nvia @NoticentroWAPA [BROADCAST & CABLE IN PUERTO RICO][MAINLAND USA: CHECK LOCAL CABLE LISTINGS FOR \"WAPA AMERICA\" @WapaAmerica] #TSDorian #HurricaneDorian                                                                                                                                                  \n",
       "61     yes sir                                                                                                                                                                                                                                                                                                                                                                                                          \n",
       "62     Wait, you live in Florida?                                                                                                                                                                                                                                                                                                                                                                                       \n",
       "63     aY YO @hurricanedorian YOU BETTER CUT IT OUT BRO BAD TIMING i HAVE THINGS PLANNED THIS WEEKEND BGONE WANNABE IRMA I WILL FIGHT YOU pic.twitter.com/BgRO7Zqtxs                                                                                                                                                                                                                                                    \n",
       "64     \"Puerto Rico forecast to feel impact of Hurricane Dorian this week\" https://www.orlandosentinel.com/weather/hurricane/os-ne-puerto-rico-hurricane-dorian-20190826-2u2qr46dsngbvkqoaqpflw44ca-story.html … #PuertoRico #HurricaneDorian                                                                                                                                                                           \n",
       "65      Boletín 5pmAumenta la posibilidad de impacto de #hurricanedorian al sur de #puertorico  Pueblos del sur DEBEN estar preparados https://www.instagram.com/p/B1pCtwihaf4/?igshid=vxcm4kzuj04r …                                                                                                                                                                                                                   \n",
       "66     If you want to slow down the upcoming epic levels of FL panic hoarding, just nudge the graphic a bit to show the storm may consciously decided to just ignore us.#HurricaneDorian pic.twitter.com/bpF532cP12                                                                                                                                                                                                     \n",
       "67     Will the city be helping Puerto Rico with recovery post #HurricaneDorian?                                                                                                                                                                                                                                                                                                                                        \n",
       "68     Stay the fuck away @HurricaneDorian pic.twitter.com/YVGtDi3rN6                                                                                                                                                                                                                                                                                                                                                   \n",
       "69     Fingers crossed it passes us #keepingsafe #HurricaneDorian https://twitter.com/philklotzbach/status/1166031622740688896 …                                                                                                                                                                                                                                                                                        \n",
       "70     You guys are panicking everything going to be fine (please help us!) #HurricaneDorian pic.twitter.com/lZq4OIJng0                                                                                                                                                                                                                                                                                                 \n",
       "71     Stay safe #Dorian #stormdorian #TropicalStormDorian #HurricaneDorian #Barbadoshttps://twitter.com/NHC_Atlantic/status/1166005770485260288 …                                                                                                                                                                                                                                                                      \n",
       "72     It looks like rain #hurricanedorian https://www.instagram.com/p/B1o5oathNKw/?igshid=w7tyq1nbspr1 …                                                                                                                                                                                                                                                                                                               \n",
       "73     well it is that time again. Right on cue I Will keep you all dated but most of all keep all my close friends posted on this. because this could be down played tons.\\n\\n#TropicalStormDorian #HurricaneDorian pic.twitter.com/WKzx5GcgFe                                                                                                                                                                         \n",
       "74      #LALATE  #BREAKINGNEWS\\n#HurricaneDorian Projected Path: #National #Hurricane Center\\nOMG  http://news.lalate.com/2019/08/26/hurricane-dorian-projected-path-national-hurricane-center/ …\\n#Dorian \"DORIAN\" C                                                                                                                                                                                                   \n",
       "75     A little love to this pup in #PuertoRico After Hurricane Maria. Hoping #HurricaneDorian will sit & stay away!\\n#InternationalDogDaypic.twitter.com/aO3kcHtOVS                                                                                                                                                                                                                                                    \n",
       "76     Instead of having grey matter in #DPOTUS brain, he has straw full on brown matter from a Donkey SHAT.\\nNUKE HURRICANE DORIAN?\\nLunacy isn’t a strong enough word!\\n\\nIF HE ONLY HAD A BRAIN\\n\\n#DonaldTrumpDumbass\\n#DonaldTrump$hatForBrains\\n#HurricaneDorian\\n#DORIAN\\n#Monday https://twitter.com/marq_word/status/1166049950775431168 …pic.twitter.com/ICLsinzwi9                                           \n",
       "77     The long line for boxes of water at Sams #HurricaneDorian https://www.instagram.com/p/B1oy9KUpIt70hn4yt9xJTigS9dMAJ1q9qPQeIQ0/?igshid=x8hlo0pz2d6w …                                                                                                                                                                                                                                                             \n",
       "78     Hurricane Dorian is going to hit too close for comfort so we are moving south to be as far as we can get from landfall!\\n#thecrabbycaptainandthesunnysailor #hurricanedorian #outrunningahurricane #sailingthecaribbean… https://www.instagram.com/p/B1oo3MlgAuS/?igshid=iu12w66xqpe4 …                                                                                                                          \n",
       "79     * #CARIBBEAN: #Dorian\\n-#TrinidadandTobago #Grenada #StVincent #Grenadines #StLucia #Barbados #Martinique #Dominica #Guadeloupe #Antigua #Barbuda #StKitts #Saba #StEustatius #TropicalStormDorian #HurricaneDorian #LesserAntilles #Windwards\\n-BLOG/MAPS/INFO: \\nhttps://www.facebook.com/HurricaneTyphoonCyclone-Alerts-640446339341581/ …pic.twitter.com/HnowyIUm2P                                          \n",
       "80     #HurricaneDORIAN Winds of 67 miles an hour everyone on the East Coast Georgia South Carolina and North Carolina should be prepared for hurricane pic.twitter.com/kgq2Gi1NTs                                                                                                                                                                                                                                      \n",
       "81     * #CARIBBEAN: #Dorian\\n-#TrinidadandTobago #Grenada #StVincent #Grenadines #StLucia #Barbados #Martinique #Dominica #Guadeloupe #Antigua #Barbuda #StKitts #Saba #StEustatius #TropicalStormDorian #HurricaneDorian #LesserAntilles #Windwards\\n-BLOG/MAPS/INFO: \\nhttps://www.facebook.com/HurricaneTyphoonCyclone-Alerts-640446339341581/ …pic.twitter.com/9y6BiOINHW                                          \n",
       "82     Let this storm come and go in peace we the ppl of svg don't need no stress ok #hurricaneDorian                                                                                                                                                                                                                                                                                                                   \n",
       "83     * #CARIBBEAN: #TSDorian\\n-#TrinidadandTobago #Grenada #StVincent #Grenadines #StLucia #Barbados #Martinique #Dominica #Guadeloupe #Antigua #Barbuda #StKitts #Nevis #Anguilla #TropicalStormDorian #HurricaneDorian #LesserAntilles #Windwards\\n-BLOG/MAPS/INFO:\\nhttps://www.facebook.com/HurricaneTyphoonCyclone-Alerts-640446339341581/ …pic.twitter.com/KlMcRlYV6x                                           \n",
       "84     * #CARIBBEAN: #Dorian\\n-#TrinidadandTobago #Grenada #StVincent #Grenadines #StLucia #Barbados #Martinique #Dominica #Guadeloupe #Antigua #Barbuda #StKitts #Nevis #Anguilla #TropicalStormDorian #HurricaneDorian #LesserAntilles #Windwards\\n-BLOG/MAPS/INFO:\\nhttps://www.facebook.com/HurricaneTyphoonCyclone-Alerts-640446339341581/ …pic.twitter.com/Lk2zovhErO                                             \n",
       "85     * #CARIBBEAN: #TSDorian\\n-#TrinidadandTobago #Grenada #StVincent #Grenadines #StLucia #Barbados #Martinique #Dominica #Guadeloupe #Antigua #Barbuda #StKitts #Nevis #Anguilla #TropicalStormDorian #HurricaneDorian #LesserAntilles #Windwards\\n-BLOG/MAPS/INFO:\\nhttps://www.facebook.com/HurricaneTyphoonCyclone-Alerts-640446339341581/ …pic.twitter.com/l8cDWrnbsU                                           \n",
       "86     @Florida Hurricane #HurricaneDorian Has its eyes on Central Florida -We will see-We are due again.\\nNext weekend maybe another #LaborDay HurricaneFrenzyhttps://www.clickorlando.com/weather/hurricane/tropical-storm-dorian-track-computer-models-satellite …                                                                                                                                                   \n",
       "87     #HurricaneDorian =94/247 \\nFourth of September =247 \\n9/4 is the 247th Day of the Year\\n\\nWEATHER MANIPULATORS =247 \\nCategory 2 Hurricane =94  @NOAA =94\\n\\n@NHC_Atlantic @NASAHurricane @53rdWRS #Gematriapic.twitter.com/kV02tJxZE2                                                                                                                                                                           \n",
       "88     Tropical Storm #Dorian approaching to Bridgetown. \\n#TSDorian #HuracanDorian #HurricaneDorian #Valparaiso #TormentatropicalDorian #Caturrito #TropicalStormDorian #StormDorian #DorianRD #DorianPR #Barbados #Caribe #Boletinpic.twitter.com/aLQR6NZjjY                                                                                                                                                          \n",
       "89     No esperen al miércoles pa capiar\\n\\n#HurricaneDorian                                                                                                                                                                                                                                                                                                                                                            \n",
       "90     Así está ACTUALMENTE la #Tormenta Tropical #Dorian frente a #Barbados en las Antillas Menores.\\n¡Luce bastante bien! Parece ser que será denominado #Huracán en las próximas horas.\\n#hurricaneDorian #Caturrito #Satellite #StormDorian #DorianPR #DorianRD #VamosCaturrito #TSDorianpic.twitter.com/Iqlwa97cvw                                                                                                 \n",
       "91     #HurricaneDorian #PuertoRicohttps://twitter.com/washingtonpost/status/1166014111852957702 …                                                                                                                                                                                                                                                                                                                      \n",
       "92     I was REALLY hoping not to need my annual Hurricane Supplies List, but #HurricaneDorian looks to be heading this way. Stocking up today, just in case! https://buff.ly/2E5gJiP pic.twitter.com/DADG9d4Lyn                                                                                                                                                                                                        \n",
       "93     Anywhere from South Florida to the Outer Banks should keep a close on on #TSDorian potential #HurricaneDorian this Labor Day weekend.                                                                                                                                                                                                                                                                            \n",
       "94     #whitehouse staff have asked the #potus to do \"a little\" practicing with regards to #hurricanedorian pic.twitter.com/hWcRNNM2Rh                                                                                                                                                                                                                                                                                  \n",
       "95     #hurricanedorian #disney #HurricaneSeason #floridahttps://heavy.com/news/2019/08/hurricane-dorian-disney-world/ …                                                                                                                                                                                                                                                                                                \n",
       "96     Oh God, please no\\n#hurricanedorian\\n#HurricaneMaria\\n#PRStrong\\n#MeEncantahttps://twitter.com/TIME/status/1165987287299166220 …                                                                                                                                                                                                                                                                                 \n",
       "97     I’m happy ⁦@RoyalCaribbean⁩ ⁦@JamesVanFleet⁩ and #Harmonyoftheseas have a #perfectdayatcococay today, and that we decided to change itinerary and not cruising East towards #HurricaneDorian this week. #sunnyskies #bettersafethansorrypic.twitter.com/tZc8GZpNph                                                                                                                                               \n",
       "98     Mr. President #hurricanedorian is bearing down on the South.\\n\\nNuke it.\\n\\nWhat?\\n\\nWhat?\\n\\nWhat?\\n\\nNuke it.                                                                                                                                                                                                                                                                                                  \n",
       "99     #HurricaneDorian seems to be on track for #Florida...good times tis the season but still to early to tell                                                                                                                                                                                                                                                                                                        \n",
       "100    Uh-oh...\\n#hurricanedorian https://images.app.goo.gl/8UuU53QRLEKt55mo6 …                                                                                                                                                                                                                                                                                                                                         \n",
       "101    * #CARIBBEAN: #TSDorian\\n-#TrinidadandTobago #Grenada #StVincent #Grenadines #StLucia #Barbados #Martinique #Dominica #Guadeloupe #Antigua #Barbuda #StKitts #Nevis #Anguilla #TropicalStormDorian #HurricaneDorian #LesserAntilles #Windwards\\n-BLOG/MAPS/INFO:\\nhttps://www.facebook.com/HurricaneTyphoonCyclone-Alerts-640446339341581/ …pic.twitter.com/Ut82mh9nyt                                           \n",
       "102    * #CARIBBEAN: #Dorian\\n-#TrinidadandTobago #Grenada #StVincent #Grenadines #StLucia #Barbados #Martinique #Dominica #Guadeloupe #Antigua #Barbuda #StKitts #Nevis #Anguilla #TropicalStormDorian #HurricaneDorian #LesserAntilles #Windwards\\n-BLOG/MAPS/INFO:\\nhttps://www.facebook.com/HurricaneTyphoonCyclone-Alerts-640446339341581/ …pic.twitter.com/nw99PnB63N                                             \n",
       "103    * #CARIBBEAN: #TSDorian\\n-#TrinidadandTobago #Grenada #StVincent #Grenadines #StLucia #Barbados #Martinique #Dominica #Guadeloupe #Antigua #Barbuda #StKitts #Nevis #Anguilla #TropicalStormDorian #HurricaneDorian #LesserAntilles #Windwards\\n-BLOG/MAPS/INFO:\\nhttps://www.facebook.com/HurricaneTyphoonCyclone-Alerts-640446339341581/ …pic.twitter.com/X2kXDNPzSA                                           \n",
       "104    * #CARIBBEAN: #Dorian\\n-#TrinidadandTobago #Grenada #StVincent #Grenadines #StLucia #Barbados #Martinique #Dominica #Guadeloupe #Antigua #Barbuda #StKitts #Nevis #Anguilla #TropicalStormDorian #HurricaneDorian #LesserAntilles #Windwards\\n-BLOG/MAPS/INFO:\\nhttps://www.facebook.com/HurricaneTyphoonCyclone-Alerts-640446339341581/ …pic.twitter.com/pPHuLPB1Kf                                             \n",
       "105    Our top stories on @news965wdbo: The #G72019 Summit wraps up today. China says it wants to talk again about trade.  It's the 1st day of classes for @UCF students, including those at the new downtown campus.  And #TropicalStormDorian could soon be #HurricaneDorian w FL in its path                                                                                                                         \n",
       "106    UPDATE: Tropical Storm Dorian up to 60 mph, forecast tracks target Florida  https://www.orlandosentinel.com/weather/hurricane/os-ne-tropical-storm-dorian-update-20190825-koiaunm2zfcajj527oupyj6dyu-story.html … #HurricaneDorian @HurricaneDorian #BePrepared                                                                                                                                                  \n",
       "107    #ThunderstormDorian is expected to get a pay raise & become #HurricaneDorian Grey. Residents are asked to hide all mirrors. Kinda like the #USNavy hid the ships named after Senator #JohnMcCain from Trump.                                                                                                                                                                                                     \n",
       "108    #Meteorologists expect #ThunderstormDorian to morph into #HurricaneDorian Grey! “Yeah but don’t expect him to be looking into any mirrors to self inspect his rakish digs from the new #DonnatellaVersace new pretentiously expensive line.                                                                                                                                                                      \n",
       "109    Dorian could be hurricane when it reaches Puerto Rico http://a.msn.com/04/en-us/AAGjCSX?ocid=st … #TropicalStormDorian #HurricaneDorian #PuertoRico                                                                                                                                                                                                                                                              \n",
       "110    Praying for Puerto Rico. I pray that God will protect all families and homes. In Jesus mighty name! #HurricaneDorian                                                                                                                                                                                                                                                                                             \n",
       "111    LIVE NOW!!! https://www.youtube.com/channel/UCnfqnffP8yyLhaNngximRtA/live … D-Railed Episode 76: PGA Tour Fed Ex Cup Lightning Strike, Hurricane Dorian, Wizard of Oz List \\n@FlyRts\\n@FearRTs\\n@GFXCoach\\n#pgatour #fedexcup #lightningstrike #hurricanedorian #tropicalstormdorian #wizardofoz #wizardofoz80pic.twitter.com/BLFwCM3ZBP                                                                         \n",
       "112    #JoinTheChallenge #HurricaneDorian #CareforOthers #nursingexcellencepic.twitter.com/62uu4NaIK3                                                                                                                                                                                                                                                                                                                   \n",
       "113    New video by @GlobalAgenda @BD007Marky: \"Hurricane Dorian: Predictictive Programming in Literature: 'The Invisible Death' By Victor Rousseau, 2010\" https://youtu.be/Z-fWOVUXwLY \\n#AbacoIslands #InvisibleDeath #LandGrab #HurricaneDorian\\n#Dorianpic.twitter.com/S5ITqAqN6T                                                                                                                                   \n",
       "114    A link to a Gofundme for those being affected by the #hurricaneDorian in the Bahamas. It has helped in the past with Hurricane Mathew. Please use your platform and help share it. https://www.gofundme.com/f/headknowles-emergency-funds …                                                                                                                                                                      \n",
       "115    After disasters like #HurricaneDorian, it is inspiring to see individuals and organizations collaborating to meet the needs of those in crisis. Today we are thrilled to have partnered with @chefjoseandres and @wckitchen as we provided safe water for their work in the Abacos.pic.twitter.com/MbVPshmLFJ                                                                                                    \n",
       "116    How convenient to make a #GasPriceHike\\nOr was that also our own Government, like #Stingray?\\nOur Military should know #SaudiArabia or the USA Attacked the Oil Refinery.\\nTop off?\\nI have 40 gallons from #HurricaneDorian https://twitter.com/TomPorterDC/status/1173017925034397698 …                                                                                                                        \n",
       "117    Help us reach the goal of $10,000 to help with the USF Health relief efforts for the hurricane-ravaged #Bahamas.  Every penny helps, donate today: http://bit.ly/2kjFuyH  #HurricaneDorian \\n\\nLearn more: http://bit.ly/2kzqqx6 pic.twitter.com/yVdUsVF6tO                                                                                                                                                      \n",
       "118    Family, You've already contributed SO much for us to aid those who were affected by #HurricaneDorian! If you would like to aid us, simply lay your contribution at the altar tomorrow at 10am. We ask that you would refrain from sending clothes, however. \\n#WeCareAtTheShippic.twitter.com/yJNV3vUQUW – at Fellowship Bible Baptist Church                                                                    \n",
       "119    The work continues...Hurricane Dorian Relief Collection \\nSunday 9/15~2-6PM \\n.\\n.\\n#bahamasstrong #hurricarerelief\\n#hurricanedorian\\n#bulllcity #durham #rdu #nc\\n#lovemovement #rebuildchurchncpic.twitter.com/oc78YnFYk6                                                                                                                                                                                     \n",
       "120    One week ago today that a Crane collapsed that hit a building under Construction in Halifax because of Hurricane Dorian! #HurricaneDorian #HurricaneDorian2019 #Halifax                                                                                                                                                                                                                                          \n",
       "121    #Orlando we are doing our best to help the #Bahamas in their time of need ...  please join us . #bahamasrelief #BahamaStrong #LetsDoOurPart #DonJulioMexicanKitchen #OnlyGoodVibes #HurricaneDorian pic.twitter.com/qhs1CWHpa9 – at Don Julio Mexican Grill                                                                                                                                                      \n",
       "122    Thousands lost their homes when #HurricaneDorian swept through the #Bahamas. Please continue to pray for this ongoing crisis. Pray for help and resolution for disaster victims.\\n\\nhttp://www.ob.org/OBDisaster pic.twitter.com/m6pPPZibwv                                                                                                                                                                      \n",
       "123    Lutheran World Relief is responding to the crisis in the #Bahamas, where #HurricaneDorian has caused massive damage. We are coordinating with our partners in the Caribbean to assess the damage and plan a relief response. https://qoo.ly/zps4w ?pic.twitter.com/QmIvB0dCo9                                                                                                                                    \n",
       "124    Lutheran World Relief is responding to the crisis in the #Bahamas, where #HurricaneDorian has caused massive damage. We are coordinating with our partners in the Caribbean to assess the damage and plan a relief response. https://qoo.ly/zps4u ?pic.twitter.com/OsZ0niltsH                                                                                                                                    \n",
       "125    Think how this would help in areas like the Bahamas after #HurricaneDorian ...would seem to me to be a fairly quick way to help in areas where people have lost their home...just a thought https://twitter.com/1ideaatatime/status/1173010736810881025 …                                                                                                                                                        \n",
       "126    #UPDATE - #TropicalStormHumberto moved away from the Bahamas after dumping rain on parts of the archipelago's northwest region that were already hammered by #HurricaneDorian two weeks ago. The system is currently packing maximum sustained winds of 50 mph.  https://wsvn.com/news/us-world/still-reeling-from-dorian-bahamas-hit-by-tropical-storm-humberto/ …                                              \n",
       "127    TikiTender's Weather Report (Palm Coast Marina) --------- | Temp: 82F | Humidity: 84% | Winds: Northeast 16 MPH | #Wx #DorianFlorida #HurricaneDorian                                                                                                                                                                                                                                                            \n",
       "128    After Category 5 #HurricaneDorian ravaged the Bahamas, media news outlets completely ignored the incredible ways the private market had already started to help while nobody was paying attention. @ChloeAnagnoshttps://www.aier.org/article/cruise-ships-respond-dorian-hauling-doctors-and-supplies-bahamas …                                                                                                  \n",
       "129    Thank you to @wholefoods West Palm Beach for donating over 200 gallons of water for the Bahamas!  #hurricanedorian #bahamasrelief #communitypic.twitter.com/e89eUaBsZU                                                                                                                                                                                                                                           \n",
       "130    #国連 の @antonioguterres 事務総長、#HurricaneDorian が襲った #Bahamas で、「これほどまでの破壊は初めて見た、ドリアンはカテゴリー5でなく地獄級のカテゴリー。今こそ緊急に #ClimateAction を！」とhttps://twitter.com/antonioguterres/status/1172940053171113984 …                                                                                                                                                                                                                 \n",
       "131    Thank you Councilor Ken Clifton for the hard work and dedication.\\n#bahamasrelief #hurricanedorian #randolph #massachusetts https://www.facebook.com/story.php?story_fbid=709456506197672&id=635138016962855 …                                                                                                                                                                                                   \n",
       "132    As part of PBDA’s various #HurricaneDorian relief efforts, 2nd and 3rd Grades made cards this week for the #bahamasreliefcruise to deliver to families in the Bahamas this weekend. The cards will be included in care packages filled with food and hygiene products.pic.twitter.com/qTZCAEx4ib                                                                                                                 \n",
       "133    We’re still collecting supplies to SUPPORT our BROTHERS & SISTERS recently impacted by #HurricaneDorian in the BAHAMAS. Review the RELIEF items needed, and HELP US, HELP THEM by picking up some of the items and dropping them off at the @dReamcenteratl on tomorrow during WORSHIPpic.twitter.com/GB7ih9FjLX                                                                                                 \n",
       "134    HEART 9/11 #HurricaneDorian Rapid Response Team 3 reports the devastation in the Bahamas is difficult to comprehend. #Bahamas #DisaterResponsepic.twitter.com/92vMxFAQzR                                                                                                                                                                                                                                         \n",
       "135    Un peu de l’information technique avant de discuter les effets de #HurricaneDorian sur les peuples, l’environnement, le gouvernement & l’économie des Bahamas. Bringing #CurrentEvents into the classroom  #SAMSrPS @samsrps @LC3_TDSB @TDSB @TDSB_RValles @TDSB_fsl #TDSB #TDSBFrImmpic.twitter.com/2WYfWplvBY                                                                                                  \n",
       "136    #HurricaneDorian forced blood drive cancellations & donation center closures in impacted areas. In times like these, we call on donors across the U.S. to step up and help out to ensure blood needs can be met in storm impacted areas & around the U.S. Give: http://rcblood.org/appt pic.twitter.com/HvzVRp9cFR                                                                                               \n",
       "137    Thanks to all who came to Top Golf yesterday!! We were also able to gather a lot of donations for Hurricane Dorian Relief . #slgnfaa #nfaagammas #communityservice #hurricanedorian #topgolf #bahamas #gammasgivebackpic.twitter.com/KFjrPd8NZj                                                                                                                                                                  \n",
       "138    Help Me, Help the Victims of Hurricane Dorian! @wyattsgarage #wyattsgarage #hurricanedorian #hurricanedorian2019 #hurricane #bahamas #givingisgood https://buff.ly/2HjXnTR pic.twitter.com/BQUPEHGAiU                                                                                                                                                                                                            \n",
       "139    How you can help in the wake of #HurricaneDorian: http://nbcnews.to/2lHKayz . On the list  Donate blood. Learn more at http://rcblood.org/appt .                                                                                                                                                                                                                                                                 \n",
       "140    well, there is the solution to a problem already in practice.\\n#problemsolver #innovativedesign #hurricaneDorian #letsfixAbacoandGrandBahama                                                                                                                                                                                                                                                                     \n",
       "141    Thank you @Devonbank cama and Everyone who came out and participated, and donated in the #hurricanedorian relief fund. It was a great success and we are continuing to accept donations at http://www.millsreal.com . Any… https://www.instagram.com/p/B2aHYRXHmdS/?igshid=3hfc6nwy96tz …                                                                                                                        \n",
       "142    (GRAND BAHAMA) JUST IN: #TropicalStormHumberto Lashes an already devastated parts with heavy rain and strong winds on Saturday#HurricaneDorian #AceNewsDesk reports https://jandjranch.wordpress.com/2019/09/14/grand-bahama-just-in-tropicalstormhumberto-lashes-an-already-devastated-parts-with-heavy-rain-and-strong-winds-on-saturdayhurricanedorian-acenewsdesk-reports/ …pic.twitter.com/ARj2AsWpaq       \n",
       "143    Country Music  AllStars Coming Together with @iHeartRadio  to raise money  for the relief efforts in the Bahamas  #HurricaneDorian victims Tune in and #donate Thanks https://www.iheart.com/content/2019-09-12-dierks-bentley-darius-rucker-and-more-to-perform-hurricane-relief-concert/ …                                                                                                                     \n",
       "144    In the wake of #HurricaneDorian, Nick Sealy-Thompson is embedded in the Bahamas’ National Emergency Management Agency’s EOC working with government and relief agencies to coordinate logistic support and ID critical infrastructure needs.\\n#emergencymanagement #disasterresponsepic.twitter.com/NaNrkfi3qz                                                                                                   \n",
       "145    It's still not too late! \\nA day out for a #goodcause! \\n#PTAsupport #familyandfriends #bahamasstrong #hurricanedorian pic.twitter.com/t6Rb0PJLp8                                                                                                                                                                                                                                                                \n",
       "146    TikiTender's Weather Report (Palm Coast Marina) --------- | Temp: 85F | Humidity: 77% | Winds: Northeast 17 MPH | #Wx #DorianFlorida #HurricaneDorian                                                                                                                                                                                                                                                            \n",
       "147    Our hearts with @HurricaneDorian victims , we pray for God give them safety , calling for global to supporting you UN general secretary for your biggest efforts.                                                                                                                                                                                                                                                \n",
       "148    It’s our FGM Come see what our club is all about and/or drop off any of your #HurricaneDorian donations! pic.twitter.com/WMiQHcP6R1                                                                                                                                                                                                                                                                              \n",
       "149    As response to #HurricaneDorian continues,  Dr. Erin Hughey of PDC discusses how mega-storms are leading to changes in anticipatory sciences and the role of the National Disaster Preparedness Baseline Assessment (#NDPBA). #SaferWorldhttps://youtu.be/a-ksOvTJHkw                                                                                                                                            \n",
       "150    #michaeljordan el mejor de la #nba donó 1 #millon de dólares para la recuperación de las #bahamas devastadas por el #huracan #hurricanedorian he is #amazing https://www.instagram.com/p/B2aD6ZSpsGN/?igshid=9zttmkl9hdqa …                                                                                                                                                                                      \n",
       "151    Have you checked out the latest episodes of #TheTatianaShow? This past week we talk crypto, cannabis, + #HurricaneDorian. TY to our sponsors @SALTLending, @HavenApp, and @Vaultoro for making it happen. You can hear it all at http://thetatianashow.com !\\n\\nShout out to @TheLTBNetwork!                                                                                                                     \n",
       "152    BBC News - New storm hits #Bahamas two weeks after #HurricaneDorian\\nhttps://www.bbc.co.uk/news/world-latin-america-49694397 …\\nStorm #Humberto                                                                                                                                                                                                                                                                  \n",
       "153    Chillin in my new shirt!! Thanks @HotTopic and #supernatural for donating the proceeds to @RandomActsOrg Acts of Kindness for #hurricaneDorian victims. @mishacollins @JensenAckles @jarpadpic.twitter.com/ntPxYT9JxX                                                                                                                                                                                            \n",
       "154    “We care for you and although this may take time, we will get through this together,” said Peter Kerr, president of the church in the Atlantic Caribbean Union to dozens of church members from Abaco and Grand Bahama taking shelter across #Nassau #TheBahamas after #HurricaneDorian pic.twitter.com/0EeksqyyLf                                                                                               \n",
       "155    Grateful to be listed on @CharityNav as an organization providing relief to those impacted by #HurricaneDorian. https://twitter.com/BarackObama/status/1172210852415643650 …                                                                                                                                                                                                                                     \n",
       "156    The other night my customers thanked me for “bringing joy to their evening”, and then left an incredibly generous tip. So I decided to pay some of it forward to two causes that have been weighing heavy on my heart this month #AmazonFire #HurricaneDorian #payitforward pic.twitter.com/hk8hsE8m9Z                                                                                                           \n",
       "157    We need all hands on deck for our path to recovery, united we will grow stronger. #OneBahamas #PrayforBahamas #HurricaneDorian pic.twitter.com/JmMOyrfko6                                                                                                                                                                                                                                                        \n",
       "158    “Become tender with the Earth” #HurricaneDorian Was a #ClimateInjustice - #GetOffTheBench. It’s past time for #ClimateActionhttps://www.newyorker.com/news/news-desk/hurricane-dorian-was-a-climate-injustice …                                                                                                                                                                                                  \n",
       "159    #HurricaneDorian reached Category 5 intensity on September 1, becoming the strongest #hurricane to affect the northwestern Bahamas in the modern record. https://bit.ly/2LzMLnz  via @AIRWorldwide #Dorian                                                                                                                                                                                                       \n",
       "160    RT UNDP \"RT antonioguterres: I just landed in Abaco in the Bahamas. I’m horrified by the level of devastation - I’ve never seen anything like this. \\n\\n#HurricaneDorian was not category 5, but category hell. \\n\\nIt’s time to wake up and take urgent #Clim… pic.twitter.com/VAlSWJUfOq\"                                                                                                                      \n",
       "161    #BahamasStrong #BahamaStrong #Bahamas #HurricaneDorian2019 #HurricaneDorian #Dorian #Freeport #AbacoIslands #Abaco #Thisisacrisis #BahamasRelief #marshharbourhttps://twitter.com/UPS/status/1172961486949486592 …                                                                                                                                                                                               \n",
       "162    Please join @Wild_Adventures and help support #HurricaneDorian relief efforts. Text DORIAN to 90999 to donate $10. #RedCrosspic.twitter.com/I78T0fHaSY                                                                                                                                                                                                                                                           \n",
       "163    #DORIAN JOB OPENINGS: Our #staff applications are now open for the #Bahamas! As we ramp up our operations after #HurricaneDorian, we are looking to fill a couple of key positions. Please share, RT or directly apply here: http://bit.ly/2lQFd6D pic.twitter.com/LG4K559ya2                                                                                                                                    \n",
       "164    #BahamasStrong #BahamaStrong #Bahamas #HurricaneDorian2019 #HurricaneDorian #Dorian #Freeport #AbacoIslands #Abaco #Thisisacrisis #BahamasRelief #marshharbour #Humanityhttps://twitter.com/antonioguterres/status/1172940053171113984 …                                                                                                                                                                         \n",
       "165    TikiTender's Weather Report (Palm Coast Marina) --------- | Temp: 85F | Humidity: 77% | Winds: Northeast 21 MPH | #Wx #DorianFlorida #HurricaneDorian                                                                                                                                                                                                                                                            \n",
       "166    #BahamasStrong #BahamaStrong #Bahamas #HurricaneDorian2019 #HurricaneDorian #Dorian #Freeport #AbacoIslands #Abaco #Thisisacrisis #BahamasRelief #marshharbour #Humanityhttps://twitter.com/SenWarren/status/1172878434864906243 …                                                                                                                                                                               \n",
       "167    Rihanna to help Bahamas recovery #Bahamas #BahamaStrong #HurricaneDorian\\nhttps://www.youtube.com/watch?v=0dVsKafMu9M …                                                                                                                                                                                                                                                                                          \n",
       "168    Thread by @paulmuaddib61: \"@Consortiumnews @SOTN_Newsflash @TheMillenniumR2 @Independent @wikileaks @OpenSecretsDC @BreakingNews @2016Disclos@POTUS @goodmedicine4us […]\" #WeatherModificationExposed #HurricaneDorian #GravityWaves #MesoscaleConvectionVortexhttps://threadreaderapp.com/thread/1169665976444604416.html …                                                                                     \n",
       "169    Top story: @antonioguterres: 'This is the control room from where the response to #HurricaneDorian is being coordinated by the Bahamas Government & other organizations. \\n\\nI was very proud to see UN colleagues be part of… pic.twitter.com/1cD9zELdT6, see more http://tweetedtimes.com/GGiftedEducate?s=tnp …                                                                                               \n",
       "170    Finally got out to photograph some of the birds that hurricane Dorian brought in! This laughing gull was the perfect model today at sunrise. #birding #HurricaneDorian #dorianNS #Dorian2019pic.twitter.com/5ES42jAvRv                                                                                                                                                                                           \n",
       "171    Still reeling from Dorian, Bahamas faces Tropical Storm Humberto #HurricaneDorian #TropicalStormHumbertohttps://www.whec.com/weather/still-reeling-from-dorian-bahamas-faces-tropical-storm/5492593/#.XX1PgGDnLTk.twitter …                                                                                                                                                                                      \n",
       "172    Long day for Team 1 & Team 2 from our Rescue Response Team. #voluteernc\\n#hurricanedorian #okracokeislandpic.twitter.com/3nFYg5TO6h                                                                                                                                                                                                                                                                              \n",
       "173    ASTRA Club is having a bake sale on Tuesday, September 17. All proceeds will go to a Bahamas Relief Fund to provide assistance for damage from Hurricane Dorian.\\n\\n#disasterrelief #hurricanedorian #bahamas #astra #ecslc https://ift.tt/2LxKBGc pic.twitter.com/WKL3R5cUy6                                                                                                                                    \n",
       "174    #Bahamas #USAR #SAR #HurricaneDorian #VATF1 #News/https://twitter.com/VATF1/status/1172937882019012608 …                                                                                                                                                                                                                                                                                                         \n",
       "175    Just arrived back in Terrace,BC and saw my English Professor at Walmart, and the way he hugged me and told me he was so happy to see me made me even more grateful.  #BahamasStrong #HurricaneDorian                                                                                                                                                                                                             \n",
       "176    Thank you #DreamDinnersofAustin for hosting this project through their #FightAgainstHungerFoundation, allowing our #EagleVolleyball players the opportunity to help prepare 50,000 for the victims of #HurricaneDorian in the #Bahamas .pic.twitter.com/FRPnnGd4uR                                                                                                                                               \n",
       "177    LUXE Carnival Hurricane Dorian Relief Drive\\n——\\nDonations of any value are welcomed and appreciated. All proceeds go directly to the Bahamas for hurricane relief efforts.\\n\\n#BahamasStrong #HurricaneDorian #LUXECarnivalpic.twitter.com/DOHtsFxFeR                                                                                                                                                           \n",
       "178    Dear @realDonaldTrump, this is what a REAL #POTUS looks, sounds, and ACTS like. Sadly, you wouldn’t know anything about this, so, just continue directing government business to your resorts. #DonaldTrump, you are disgusting. #HurricaneDorian #Trump2020 #KAG #MAGA2020 #Trump2020https://twitter.com/BarackObama/status/1172210649654616067 …                                                               \n",
       "179    We miss having a #POTUS who cares about people. #HurricaneDorian                                                                                                                                                                                                                                                                                                                                                 \n",
       "180    #RT @UN: RT @antonioguterres: I just landed in Abaco in the Bahamas. I’m horrified by the level of devastation - I’ve never seen anything like this. \\n\\n#HurricaneDorian was not category 5, but category hell. \\n\\nIt’s time to wake up and take urgent #Climate…pic.twitter.com/VAlSWJUfOq                                                                                                                    \n",
       "181    So proud of our #LadyEagles! In 2 hours, they helped pack 50,000 meals  to go to the #Bahamas to help the victims of #HurricaneDorian. \\n\\nToday was an AMAZING day to be an Eagle!! #SavioSpirit #HomeIsHere #HeartsOnFire #SavioClap #EagleVolleyballpic.twitter.com/qWrMGQudzM                                                                                                                                \n",
       "182    Are you and your pet ready for #HurricaneDorian? Download your free #pet disaster preparedness checklist now http://stuf.in/b1h1kn                                                                                                                                                                                                                                                                               \n",
       "183    Join me in partnering with @BassProShops @Cabelas & @ConvoyofHope to deliver help and hope to those affected by #HurricaneDorian in the Bahamas:\\nhttps://www.convoyofhope.org/donate/anglers-for-the-bahamas/ …                                                                                                                                                                                                 \n",
       "184    About That Life  Feat. Lil Joey ( Prod By LOTHAMONSTA And Ariaizagc) https://youtu.be/LZ-ayG85yJQ  via @YouTube Thank y’all for supporting ‘About That Life’ Click here if U about that \\n#NewMusicFriday #MusicBNK48 #new #MusicBusiness #producer #ManCity #JLo #HurricaneDorian                                                                                                                               \n",
       "185    #RT @UN: RT @antonioguterres: I just landed in Abaco in the Bahamas. I’m horrified by the level of devastation - I’ve never seen anything like this. \\n\\n#HurricaneDorian was not category 5, but category hell. \\n\\nIt’s time to wake up and take urgent #Climate…pic.twitter.com/0TEjFVwvKu                                                                                                                    \n",
       "186    Naples Fla. billionaire philanthropist #donated his yacht to #rescue 50 #dogs & deliver 30 tons of supplies to #HurricaneDorian torn #Bahamas . GLOBAL #humanitarianism Very caring..Thank you @ThomasGolisano . Now #TropicalStormHumberto is hitting.https://www.naplesnews.com/story/news/local/2019/09/12/hurricane-dorian-naples-billionaire-provides-yacht-aid-relief-effort/2301438001/ …                 \n",
       "187    According to @TheMiamiTimes, 281 #NaturalDisasters of 2018 impacted over 60 million people #worldwide: https://bit.ly/2Lu00qR . #HurricaneDorian may have passed, but #HurricaneSeason isn’t over yet. #BePrepared #NationalPreparednessMonth                                                                                                                                                                    \n",
       "188    Helping some Bahamian children in the aftermath of #HurricaneDorian this weeeknd. #Bahamaspic.twitter.com/JbaxPpmZrI                                                                                                                                                                                                                                                                                             \n",
       "189    headknowlesfoundation needs your help in their new location...\\n\\n#Bahamas #TheBahamas #Hurricane #HurricaneDorian #HurricaneDorian2019 https://www.instagram.com/p/B2Z2FmMhtqN/?igshid=37qj74rbuao8 …                                                                                                                                                                                                           \n",
       "190    DORIAN UPDATE: As new storms threaten the safety of the people of the #Bahamas, NetHope works to bring the powerline of #connectivity to aid first responders & those already impacted by #HurricaneDorian. Keep this work going with YOUR GIFT: http://bit.ly/NH-Hurricane-Dorian-Response …pic.twitter.com/O5lRJgOlzK                                                                                          \n",
       "191    If you are on #IncomeAssistance and lost belongings due to #HurricaneDorian, please see this article for particulars on how you may qualify to receive some funds. (Funds provided will NOT be clawed back.)\\n\\nhttps://www.cbc.ca/news/canada/nova-scotia/community-services-emergency-funding-dorian-1.5279928?__vfz=medium%3Dsharebar …                                                                       \n",
       "192    بالفيديو ـ هكذا فاجأت \"ديزني\" طفلا ساعد ضحايا إعصار \"دوريان\" !\\nhttps://nbntv.me/?p=144622 \\n#Disney\\n#hurricaneDorian                                                                                                                                                                                                                                                                                           \n",
       "193    They Lost 113 Of Their Companions In #HurricaneDorian. Now These #Dogs And #Cats Are Ready For New Homes \\n\\nhttps://www.buzzfeednews.com/article/briannasacks/bahamas-hurricane-dorian-dogs-cats-us-adoption … via @bri_sacks \\n\\ncc: @Barbi_Twins @KenWahl1 @morgfair @shicooks @theresamaxpic.twitter.com/SxsDwNpeJt                                                                                          \n",
       "194    Hi, my name is Sam Wyatt and I want to help the people in the Bahamas that lost everything to Hurricane Dorian. I made these hats to help those in need. 100% of the proceeds will go to a Hurricane Dorian Bahamas Relief Fund. @wyattsgarage #wyattsgarage #hurricanedorian #bahamaspic.twitter.com/ey026lOv2Y                                                                                                 \n",
       "195    Football resumes: Atlantic too much for Seabreeze https://is.gd/BanCkQ \\n\\nLocal prep teams are glad to be back to playing #football after #HurricaneDorian wiped out games and practices last week. On Monday, pic.twitter.com/gDuA0rXKWZ                                                                                                                                                                       \n",
       "196    I went to Kelly's to support the survivors of #HurricaneDorian by giving blood. I was the last donor of the day. #242Strong #BahamasStrong  @ Kelly's House and Home https://www.instagram.com/p/B2Z0c33h2Q-/?igshid=q20dq5fi6am8 …                                                                                                                                                                              \n",
       "197     Join @nwsymphony Fellows this Sunday, Sept. 15 from 4-6 PM at the 1111 Lincoln Road stage for a FREE, benefit concert for those needing monetary help in the Bahamas after being hit by #HurricaneDorian. #BahamasStrong #MiamiBeach #LincolnRoad #NWSFellows @miamibeachnewspic.twitter.com/qm0GV5e5sV                                                                                                         \n",
       "198    An anonymous shopper is being praised for spending thousands of dollars on electrical #generators to benefit #HurricaneDorian victims in the #Bahamas. https://hubs.ly/H0kGkkv0  #gooddeed #hurricane #donation                                                                                                                                                                                                  \n",
       "199    We're hosting a second webinar on #HurricaneDorian Sept. 17 at 2 pm ET. Register and join us to learn about the situation on the ground in affected communities and how best to support long-term recovery: http://ow.ly/RKoI50w5M9E  #CDP4Recovery                                                                                                                                                              \n",
       "200    Meet the cats who survived the Bahamas' Hurricane. \\nNow they're in #NewJersey and need your help >>>\\n\\n#AnimalRescue #HurricaneDorian #grandbahama #Bahamas\\n#Freeport #cats #Hurricane #Dorianhttps://expo.nj.com/news/g66l-2019/09/714cfcc92b9710/meet-the-cats-who-survived-the-bahamas-hurricane-now-theyre-in-nj-and-need-your-help.html …                                                                \n",
       "201    Newsweek: Florida Governor Ron DeSantis wants Bahamians fleeing widespread destruction caused by #HurricaneDorian to stop coming to his state:  https://www.newsweek.com/florida-governor-ron-desantis-deter-bahamians-fleeing-hurricane-dorian-destruction-1459106 …                                                                                                                                            \n",
       "202    Passend zu #rancollege könnt ihr natürlich auch alle #Charity-Armbänder in den Teamfarben bestellen!!\\nEinfach anfragen!! Spenden gehen ebenfalls an die #hurricanedorian Opfer auf den #Bahamas!!\\n#ranNFL @ProSiebenMAXX @ransport @BjoernWerner @EsumePatrick @vermuellertpic.twitter.com/vGkUqlaMDH                                                                                                          \n",
       "203    If you haven’t sent anything yet, take some time this weekend, and send some needed supplies to the Bahamas and #HurricaneDorian survivors. Even if it’s $10, it helps. I’m sending old clothes, and lots of canned soups. pic.twitter.com/Tc4gEoYyI1                                                                                                                                                            \n",
       "204    #HurricaneDorian #HurricaneDorian2019 #ClimateChangehttps://twitter.com/antonioguterres/status/1172940053171113984 …                                                                                                                                                                                                                                                                                             \n",
       "205    TikiTender's Weather Report (Palm Coast Marina) --------- | Temp: 86F | Humidity: 76% | Winds: Northeast 21 MPH | #Wx #DorianFlorida #HurricaneDorian                                                                                                                                                                                                                                                            \n",
       "206    A second Florida-to-Bahamas round-trip humanitarian cruise was set to sail this weekend.\\nhttp://ow.ly/VI3850w8PJ6 \\n#HurricaneDorian #HurricaneRelief #BahamasStrong\\n@CatholicRelief @CCharitiesUSA @CatholicNewsSvc                                                                                                                                                                                           \n",
       "207    #HurricaneDorian Was a #Climate Injustice | The @NewYorkerhttps://www.newyorker.com/news/news-desk/hurricane-dorian-was-a-climate-injustice …                                                                                                                                                                                                                                                                    \n",
       "208    Proud to partner with @UPS, which today delivered @USAID\\n emergency relief supplies to #TheBahamas to help communities affected by #HurricaneDorian. A great example of the U.S. Government + U.S. private sector working together to save lives! http://ow.ly/TBNG50w9Di5 pic.twitter.com/bMILqJdGbZ                                                                                                           \n",
       "209    #HurricaneDorian Raises Alarm on #Resiliencehttps://www.enr.com/articles/47493-category-5-hurricane-dorian-raises-alarm-on-resilience#.XXppJGtIlRI.twitter …                                                                                                                                                                                                                                                     \n",
       "210    SOL Relief's hangar may be full, but JJ LYON GUARD Foundation is still accepting #HurricaneDorian Relief Supplies!\\n\\nAddress: 802 North 12th Street Tampa, 33602. OPEN 7 DAYS PER WEEK 9 AM to 7 PM! \\n\\nHere is a photo of some of the 400,000 lbs. of #Bahamas supplies. Thank you! pic.twitter.com/yEaheUMYTL                                                                                                \n",
       "211    now that #HurricaneDorian is long past, I figured it was time to come up. fired a off a ping today but it ended up being  a z-ping. sorry pic.twitter.com/j7b0UsdlnK                                                                                                                                                                                                                                             \n",
       "212    Thousands of #Bahamians #struggle to find #work after #HurricaneDorian https://www.local10.com/news/international/thousands-of-bahamians-struggle-to-find-work-after-hurricane-dorian?__vfz=medium%3Dsharebar …                                                                                                                                                                                                  \n",
       "213    A 24/7 Disaster Distress Helpline is available at 1-800-985-5990. The @distressline provides immediate crisis counseling for people who are experiencing emotional distress related to disasters like #HurricaneDorian. https://www.samhsa.gov/find-help/disaster-distress-helpline … @NCEmergency @nc_211pic.twitter.com/Pd5jcumeHG                                                                             \n",
       "214    #DukeEnergy has restored #power to 288,000+ customers in eastern #NorthCarolina following #HurricaneDorian\\nhttp://ow.ly/NsXS50w8Ipn                                                                                                                                                                                                                                                                             \n",
       "215    Please, if you can.\\nhttps://www.gofundme.com/f/beds-in-boxes-for-bahamas …\\n#HurricaneDorian                                                                                                                                                                                                                                                                                                                    \n",
       "216    There's more trouble for the hurricane-ravaged #Bahamas.\\n#TropicalStorm #Humberto is threatening #GrandBahama Island, creating new worries for more than 2,000 people living in shelters after #HurricaneDorian\\nhttps://www.cbsnews.com/news/bahamas-tropical-storm-humberto-threatens-islands-after-hurricane-dorian-track-path-latest-updates-2019-09-14/ …\\n#PrayForBahamas #HurricaneDorian2019 #GreatAbaco\n",
       "217    #HurricaneDorian #. #weather #Caturday   OF   @a. #qa# ## # # #.  ABSCBNBall2019#. #Bahamas#.  #a.  #w# #                                                                                                                                                                                                                                                                                                        \n",
       "218    Una de las tantas vías afectadas por el huracán Dorian a su paso por Freeport, Grand Bahama. (Septiembre 10, 2019)\\n\\nOn assignment for @americares\\n#bahamas #hurricanedorian #freeport #photojournalismpic.twitter.com/3ybGbKKqws                                                                                                                                                                              \n",
       "219     Thank you to all those who have donated to our #HurricaneDorian Emergency Response. Together, we can help restore health and hope to those in need in the #Bahamas. \\n\\nBe part of the response today: http://bit.ly/IMC-Dorian-HELP pic.twitter.com/GZJXV7MYo9                                                                                                                                                 \n",
       "220    RT antonioguterres: I just landed in Abaco in the Bahamas. I’m horrified by the level of devastation - I’ve never seen anything like this. \\n\\n#HurricaneDorian was not category 5, but category hell. \\n\\nIt’s time to wake up and take urgent #ClimateAction.pic.twitter.com/0TEjFVwvKu                                                                                                                        \n",
       "221    RT antonioguterres: I just landed in Abaco in the Bahamas. I’m horrified by the level of devastation - I’ve never seen anything like this. \\n\\n#HurricaneDorian was not category 5, but category hell. \\n\\nIt’s time to wake up and take urgent #ClimateAction.pic.twitter.com/LGfh2CGxso                                                                                                                        \n",
       "222    Our Visitor Center is teaming up with @SunnFunFlyIn to assist those impacted by #HurricaneDorian through the month of September. Drop-off nonperishable food, water, toiletries, batteries, flashlights and baby products to 101 Adventure Court, Davenport, FL. #CentralFLVICpic.twitter.com/BM7QsHUnv5                                                                                                         \n",
       "223    #Abaco #GrandBahama #Bahamas #NEMA #CDEMA #EM #SMEM #HurricaneDorian #Dorian #DisasterRelief #Disaster #News/https://twitter.com/cdemacu/status/1172933013220536322 …                                                                                                                                                                                                                                            \n",
       "224    For this week's #DoGoodChallenge, find a way to help those affected by #HurricaneDorian. It could be something as simple as a prayer. To help fund our disaster relief efforts in the Bahamas, click here: https://buff.ly/2EpcnmW pic.twitter.com/Ghdf61qTgW                                                                                                                                                    \n",
       "225    RT @REALTORSCare: We’re encouraging all REALTORS® and friends to donate to the @redcrosscanada to help those impacted by #HurricaneDorian. Let’s show the world how REALTORS Care®: http://www.redcross.ca/dorian/realtorscare …pic.twitter.com/3MEZVDnaAY                                                                                                                                                       \n",
       "226    Infrastructure, climate change after Dorian https://is.gd/MUv1uQ \\n#HurricaneDorian has drowned the #Bahamas and devastated the coasts of North and South #Carolina. There are trillions of dollars’ worth of damages.\\n#JulianneMalveaux, #Hurricane #Dorian,pic.twitter.com/bwwcR3ccuc                                                                                                                         \n",
       "227    WHEELS UP & HUGE thanks to @vatf1’s search & rescue! An amazing group of people & dogs who worked so hard on @USAID's #HurricaneDorian response - searching more than 1K homes & buildings in the #Bahamas for survivors. Safe travels as you head home to #Virginia!pic.twitter.com/f5EsTrxMC6                                                                                                                  \n",
       "228    I just landed in Abaco in the Bahamas. I’m horrified by the level of devastation - I’ve never seen anything like this. \\n\\n#HurricaneDorian was not category 5, but category hell. \\n\\nIt’s time to wake up and take urgent #ClimateAction.pic.twitter.com/vklrPkove8                                                                                                                                            \n",
       "229    Humanitarian aid is still needed to help the people of the Bahamas ravaged by #HurricaneDorian Have a read and please donate here——>>  http://gf.me/u/u9wdty  #hurricanedorian #grandbahama #abaco #redcross #help #eastbourne #fundraising #disaster please RT pic.twitter.com/yfHWDRKEPs                                                                                                                       \n",
       "230    JUST LANDED: More @USAID has arrived in #TheBahamas, thanks to our partner @UPS! The critical relief supplies delivered today will help at least 10,000 people recovering from #HurricaneDorian pic.twitter.com/1VbOfMVZji                                                                                                                                                                                       \n",
       "231    #TropicalStormHumberto lashes #Bahamas, seen becoming #hurricane, just weeks after #HurricaneDorian ravaged the islands. \\nhttps://reut.rs/2O30Vk2                                                                                                                                                                                                                                                               \n",
       "232    To the people of the Bahamas: We are humbled by your strength and resilience after #HurricaneDorian.  We wish you the best in your ongoing rebuilding and recovery.\\n\\n@theOFDA\\n@USAID\\n@USAIDMarkGreen\\n@ffxfirerescue\\n@USEmbassyNassaupic.twitter.com/EkoFIXIJVb                                                                                                                                             \n",
       "233    #HurricaneDorian #PEIStorm #PrinceEdwardIslandhttps://twitter.com/MECLPEI/status/1172934879090216960 …                                                                                                                                                                                                                                                                                                           \n",
       "234    TikiTender's Weather Report (Palm Coast Marina) --------- | Temp: 84F | Humidity: 78% | Winds: Northeast 22 MPH | #Wx #DorianFlorida #HurricaneDorian                                                                                                                                                                                                                                                            \n",
       "235    Tropical storm #Humberto lashed the #Bahamas with rain and wind on Saturday, possibly slowing down relief efforts in the wake of the devastation wrought less than two weeks ago by #HurricaneDorian\\nhttp://firstpost.com/world/rains-lash-bahamas-again-as-tropical-storm-humberto-slows-down-relief-efforts-in-aftermath-of-hurricane-dorian-7340881.html …                                                   \n",
       "236    Starting #vacation #staycation #50thbirthday week off right with a #doublepackedred donation with #theamericanredcross #imakeadifference #onedonationsavesthreelives #hurricanedorian hit… https://www.instagram.com/p/B2ZrO8bnJn14WODpt829t_cQndpq72vk2bLybc0/?igshid=y6wgyoz6r1v6 …                                                                                                                            \n",
       "237    TRUMP & HURRICANE DORIAN https://is.gd/OaKrUH \\n#VISUALVIEWPOINT, #TRUMP, #HURRICANEDORIAN, #DAVEWHAMOND, #POLITICALCARTOONS,pic.twitter.com/hTlfWpiRwY                                                                                                                                                                                                                                                          \n",
       "238    Data shows a 31% drop in the number of federal flood insurance policies in the 59 counties that were under #HurricaneDorian evacuation orders. Education is needed to help property owners understand #floodrisk.https://hubs.ly/H0kL6LB0                                                                                                                                                                        \n",
       "239    The situation in the #Bahamas remains critical with thousands left homeless and food and water scarce. Please continue to pray that relief and hope would touch the lives of those who have lost so much. #HurricaneDorian\\nhttp://www.ob.org/OBDisaster pic.twitter.com/5Wx5J3yvXZ                                                                                                                              \n",
       "240    The devastation of the Bahamas caused by #HurricaneDorian is heartbreaking: Homes, schools and businesses no longer exist. People are in dire need of medical care, shelter, food, water, clothing and materials to rebuild. This weekend's #secondcollection is for disaster relief!pic.twitter.com/GbpNWE81lO                                                                                                  \n",
       "241    On the ground: UN Secretary-General @antonioguterres showing support to all humanitarian workers in #Abaco, the most badly affected area in the #Bahamas. #HurricaneDorian pic.twitter.com/Wjxna8yIBm                                                                                                                                                                                                            \n",
       "242    just bought a #SupernaturalDay tee !! so happy that ⁦@cw_spn⁩ teamed up with hot topic to help with #HurricaneDorian. #SPNFamily, let's break the site, again!⁦ ⁦@JensenAckles⁩ ⁦@jarpad⁩ ⁦@mishacollins⁩pic.twitter.com/SNNRjaHwir                                                                                                                                                                              \n",
       "243    N55 Adventure embarking on an aid mission to the Bahamas\\nhttps://nordhavn.com/n55-adventure-embarking-on-an-aid-mission-to-the-bahamas/ …\\n#hurricanedorian #bahamasaidpic.twitter.com/6M3tRsu77E                                                                                                                                                                                                               \n",
       "244    https://youtu.be/s2haHFHLB3E  #HurricaneDorian #hurricane #AbacoIsland                                                                                                                                                                                                                                                                                                                                           \n",
       "245    Want to help out after #HurricaneDorian? Donate to the North Carolina Disaster Relief Fund. https://governor.nc.gov/donate-hurricane-recovery … @NC_Governor #DorianNC @NCEmergencypic.twitter.com/nJtDQfJXmB                                                                                                                                                                                                    \n",
       "246    #Humberto #TropicalStormHumberto #TSHumberto #HurricaneHumberto #HurricaneDorian #Dorian #Bahamas #animallovers #caturday #dogsoftwitter #catsoftwitter #animalrescue \\n\\nPlease give a RT of the attached tweet to help out stranded, homeless animals!https://twitter.com/MissFuzzball/status/1171242133262622720 …                                                                                            \n",
       "247    Just like that 2 packages sent for some of our friends and family who were affected by #HurricaneDorian #WeAreStrongerTogether #AbacoStrong #Bahamas #CarePackages #Clothes #GoAbaco2019 https://www.instagram.com/p/B2ZnW0LJ9fv/?igshid=1re136w9wmqwi …                                                                                                                                                         \n",
       "248    Press Release \\n#PRRU #Dorian #HurricaneDorian #BahamasStrong #Bahamas @pic.twitter.com/P2fOeGjdEy                                                                                                                                                                                                                                                                                                               \n",
       "249    Knowing #HurricaneDorian could cause unprecedented damage, @realDonaldTrump STILL chose to transfer funding from @FEMA to support his #RemainInMexico policy.\\n\\nWhy? To move forward his political agenda, ignoring the safety of Americans & refugees.                                                                                                                                                         \n",
       "Name: text, dtype: object"
      ]
     },
     "execution_count": 54,
     "metadata": {},
     "output_type": "execute_result"
    }
   ],
   "source": [
    "df[\"text\"].head(250)"
   ]
  },
  {
   "cell_type": "code",
   "execution_count": 36,
   "metadata": {},
   "outputs": [
    {
     "data": {
      "text/plain": [
       "\"OFFICALLY TROPICAL STORM DORIAN Where is it Going? Tropical Depression 5 Hurricane Dorian Track 2019 https://youtu.be/SKCqARFvsQw\\xa0 The latest on the STORM'S TRACK!  in the above YOUTUBE LINK!!! @FlyRts @FearRTs @GFXCoach #dorian #florida #hurricane #hurricanedorian #tropicalstormdorianpic.twitter.com/RpMN7ewuLs\""
      ]
     },
     "execution_count": 36,
     "metadata": {},
     "output_type": "execute_result"
    }
   ],
   "source": [
    "df.iloc[0,0]"
   ]
  },
  {
   "cell_type": "code",
   "execution_count": 37,
   "metadata": {
    "scrolled": true
   },
   "outputs": [
    {
     "data": {
      "text/plain": [
       "'#TDFIVE TO BECOME A #Hurricane THIS WEEK\\n\\nA system, located hundreds of miles from the Lesser Antilles, is expected to become #TropicalStormDorian tomorrow.  It is also forecast to become #HurricaneDorian later this week!  Start preparing now!\\n\\n#apexwx #tropics #Atlantic #stormpic.twitter.com/MsRpq4mRRZ'"
      ]
     },
     "execution_count": 37,
     "metadata": {},
     "output_type": "execute_result"
    }
   ],
   "source": [
    "df.iloc[6,0]"
   ]
  },
  {
   "cell_type": "code",
   "execution_count": 38,
   "metadata": {},
   "outputs": [],
   "source": [
    "#df[df[\"text\"].str.contains(\"blog\")].head(100)"
   ]
  },
  {
   "cell_type": "code",
   "execution_count": 30,
   "metadata": {},
   "outputs": [],
   "source": [
    "# # this code was adapted from this stackoverflow answer\n",
    "# # https://stackoverflow.com/questions/8376691/how-to-remove-hashtag-user-link-of-a-tweet-using-regular-expression\n",
    "# def strip_all_entities(text):\n",
    "#     entity_prefixes = ['@','#']\n",
    "#     for separator in  string.punctuation:\n",
    "#         if separator not in entity_prefixes :\n",
    "#             text = text.replace(separator,'')\n",
    "#     words = []\n",
    "#     for word in text.split():\n",
    "#         word = word.strip()\n",
    "#         if word:\n",
    "#             if word[0] not in entity_prefixes:\n",
    "#                 words.append(word)\n",
    "#     return ' '.join(words)"
   ]
  },
  {
   "cell_type": "code",
   "execution_count": 60,
   "metadata": {},
   "outputs": [],
   "source": [
    "# lowercase text\n",
    "df[\"text\"] = df[\"text\"].str.lower()\n",
    "\n",
    "\n",
    "\n",
    "# remove URLs\n",
    "df['text'] = df['text'].map(lambda x: re.sub('http[s]?:\\/\\/[^\\s]*', ' ', x))\n",
    "\n",
    "\n",
    "# remove URL cutoffs\n",
    "df['text'] = df['text'].map(lambda x: re.sub('\\\\[^\\s]*', ' ', x))\n",
    "\n",
    "\n",
    "\n",
    "# remove spaces\n",
    "df['text'] = df['text'].map(lambda x: re.sub('\\n', ' ', x))\n",
    "\n",
    "\n",
    "# remove picture URLs\n",
    "df['text'] = df['text'].map(lambda x: re.sub('pic.twitter.com\\/[^\\s]*', ' ', x))\n",
    "\n",
    "# remove blog/map type\n",
    "df['text'] = df['text'].map(lambda x: re.sub('blog\\/maps\\/info\\/[^\\s]*', ' ', x))\n",
    "\n",
    "\n",
    "\n",
    "# remove hashtags =\n",
    "df[\"text\"] = df[\"text\"].map(lambda x: re.sub(\"\\#[\\w]*\", \"\", x))\n",
    "\n",
    "\n",
    "# remove AT users\n",
    "df[\"text\"] = df[\"text\"].map(lambda x: re.sub(\"\\@[\\w]*\", \"\", x))\n",
    "\n",
    "#df['text'] = df['text'].apply(strip_all_entities)\n",
    "\n",
    "\n",
    "\n",
    "# remove single quotations\n",
    "df[\"text\"] = df[\"text\"].map(lambda x: re.sub(\"'\", \"\", x))\n",
    "df[\"text\"] = df[\"text\"].map(lambda x: re.sub(\"'\", \"\", x))\n",
    "\n",
    "\n",
    "\n",
    "\n",
    "# remove characters that are not word characters or digits\n",
    "df[\"text\"] = df[\"text\"].map(lambda x: re.sub(\"[^\\w\\d]\", \" \", x))\n",
    "\n",
    "# remove all characters that are not letters\n",
    "df['text'] = df['text'].map(lambda x: re.sub(\"[^a-zA-Z]\", \" \", x))\n",
    "\n",
    "# remove multiple spaces\n",
    "df['text'] = df['text'].map(lambda x: re.sub(\"\\s{2,6}\", \" \", x))"
   ]
  },
  {
   "cell_type": "code",
   "execution_count": 62,
   "metadata": {},
   "outputs": [],
   "source": [
    "# remove tweets with this url type\n",
    "df = df[~df[\"text\"].str.contains(\"blogmapsinfo\")]"
   ]
  },
  {
   "cell_type": "code",
   "execution_count": 63,
   "metadata": {},
   "outputs": [
    {
     "data": {
      "text/plain": [
       "(77722, 2)"
      ]
     },
     "execution_count": 63,
     "metadata": {},
     "output_type": "execute_result"
    }
   ],
   "source": [
    "df.shape"
   ]
  },
  {
   "cell_type": "code",
   "execution_count": 64,
   "metadata": {},
   "outputs": [],
   "source": [
    "# drop duplicate rows\n",
    "df.drop_duplicates(subset='text', keep='first', inplace=True)"
   ]
  },
  {
   "cell_type": "code",
   "execution_count": 103,
   "metadata": {},
   "outputs": [],
   "source": [
    "# remove multiple spaces\n",
    "df['text'] = df['text'].map(lambda x: re.sub(\"\\s{3,20}\", \"\", x))"
   ]
  },
  {
   "cell_type": "code",
   "execution_count": 104,
   "metadata": {},
   "outputs": [],
   "source": [
    "# drop row with only one space\n",
    "df = df[~(df[\"text\"]== \" \")]"
   ]
  },
  {
   "cell_type": "code",
   "execution_count": 105,
   "metadata": {},
   "outputs": [],
   "source": [
    "# drop row with multiple spaces\n",
    "df = df[~(df[\"text\"]== \"  \")]"
   ]
  },
  {
   "cell_type": "code",
   "execution_count": 106,
   "metadata": {},
   "outputs": [],
   "source": [
    "# drop row with multiple spaces\n",
    "df = df[~(df[\"text\"]== \" \")]"
   ]
  },
  {
   "cell_type": "code",
   "execution_count": 107,
   "metadata": {},
   "outputs": [],
   "source": [
    "# drop empty row\n",
    "df = df[~(df[\"text\"]== \"\")]"
   ]
  },
  {
   "cell_type": "markdown",
   "metadata": {},
   "source": [
    "## Detect languages of tweets"
   ]
  },
  {
   "cell_type": "code",
   "execution_count": 21,
   "metadata": {},
   "outputs": [],
   "source": [
    "# this code was used to test for errors that would prevent the detect function from running\n",
    "# languages = []\n",
    "# for i in range(101,150):\n",
    "#     try:\n",
    "#         languages.append(detect(df.iloc[i, 0]))\n",
    "#     except:\n",
    "#         print(f\"error in row {i}\")"
   ]
  },
  {
   "cell_type": "code",
   "execution_count": 127,
   "metadata": {},
   "outputs": [],
   "source": [
    "# apply detect function on text column\n",
    "df[\"languages\"] = df[\"text\"].apply(detect)"
   ]
  },
  {
   "cell_type": "code",
   "execution_count": 128,
   "metadata": {},
   "outputs": [
    {
     "data": {
      "text/plain": [
       "(63711, 3)"
      ]
     },
     "execution_count": 128,
     "metadata": {},
     "output_type": "execute_result"
    }
   ],
   "source": [
    "df.shape"
   ]
  },
  {
   "cell_type": "code",
   "execution_count": 130,
   "metadata": {},
   "outputs": [],
   "source": [
    "## Select for tweets that are English only\n",
    "## this dropped 3_335 rows \n",
    "df_en = df[df[\"languages\"] == \"en\"]"
   ]
  },
  {
   "cell_type": "code",
   "execution_count": 131,
   "metadata": {},
   "outputs": [
    {
     "data": {
      "text/plain": [
       "(60352, 3)"
      ]
     },
     "execution_count": 131,
     "metadata": {},
     "output_type": "execute_result"
    }
   ],
   "source": [
    "df_en.shape"
   ]
  },
  {
   "cell_type": "markdown",
   "metadata": {},
   "source": [
    "## Continue cleaning on english column"
   ]
  },
  {
   "cell_type": "markdown",
   "metadata": {},
   "source": [
    "Here we are removing multiple copies of the same letter. For example \"thanksssssssss\" is updated to \"thanks\"."
   ]
  },
  {
   "cell_type": "code",
   "execution_count": 132,
   "metadata": {},
   "outputs": [
    {
     "name": "stderr",
     "output_type": "stream",
     "text": [
      "/opt/anaconda3/lib/python3.7/site-packages/pandas/core/indexing.py:576: SettingWithCopyWarning: \n",
      "A value is trying to be set on a copy of a slice from a DataFrame.\n",
      "Try using .loc[row_indexer,col_indexer] = value instead\n",
      "\n",
      "See the caveats in the documentation: http://pandas.pydata.org/pandas-docs/stable/user_guide/indexing.html#returning-a-view-versus-a-copy\n",
      "  self.obj[item_labels[indexer[info_axis]]] = value\n"
     ]
    }
   ],
   "source": [
    "# Wrote this as a function but it took forever to run, so breaking it out individually\n",
    "# Saving code for future reference\n",
    "\n",
    "# # list of all English letters\n",
    "# letters = list(string.ascii_lowercase)\n",
    "\n",
    "# # list of letters that typically don't repeat twice in an English word\n",
    "# double_letters = [\"q\", \"u\", \"w\", \"y\"]\n",
    "\n",
    "# def remove_repeats(letters):\n",
    "#     for letter in letters:\n",
    "#         if letter in double_letters:\n",
    "#             df_en[\"text\"].map(lambda x: re.sub(re.escape(letter)+\"{2,10}\", re.escape(letter), x))\n",
    "#         else:\n",
    "#             df_en[\"text\"].map(lambda x: re.sub(re.escape(letter)+\"{3,10}\", re.escape(letter), x))\n",
    "\n",
    "\n",
    "# df_en.loc[:, \"text\"] = df_en[\"text\"].map(remove_repeats)\n",
    "\n",
    "df_en.loc[:, \"text\"] = df_en['text'].map(lambda x: re.sub(\"a{3,10}\", \"a\", x))\n",
    "df_en.loc[:, \"text\"] = df_en['text'].map(lambda x: re.sub(\"b{3,10}\", \"b\", x))\n",
    "df_en.loc[:, \"text\"] = df_en['text'].map(lambda x: re.sub(\"c{3,10}\", \"c\", x))\n",
    "df_en.loc[:, \"text\"] = df_en['text'].map(lambda x: re.sub(\"d{3,10}\", \"d\", x))\n",
    "df_en.loc[:, \"text\"] = df_en['text'].map(lambda x: re.sub(\"e{3,10}\", \"e\", x))\n",
    "df_en.loc[:, \"text\"] = df_en['text'].map(lambda x: re.sub(\"f{3,10}\", \"f\", x))\n",
    "df_en.loc[:, \"text\"] = df_en['text'].map(lambda x: re.sub(\"g{3,10}\", \"g\", x))\n",
    "df_en.loc[:, \"text\"] = df_en['text'].map(lambda x: re.sub(\"h{3,10}\", \"h\", x))\n",
    "df_en.loc[:, \"text\"] = df_en['text'].map(lambda x: re.sub(\"i{3,10}\", \"i\", x))\n",
    "df_en.loc[:, \"text\"] = df_en['text'].map(lambda x: re.sub(\"j{3,10}\", \"j\", x))\n",
    "df_en.loc[:, \"text\"] = df_en['text'].map(lambda x: re.sub(\"k{3,10}\", \"k\", x))\n",
    "df_en.loc[:, \"text\"] = df_en['text'].map(lambda x: re.sub(\"l{3,10}\", \"l\", x))\n",
    "df_en.loc[:, \"text\"] = df_en['text'].map(lambda x: re.sub(\"m{3,10}\", \"m\", x))\n",
    "df_en.loc[:, \"text\"] = df_en['text'].map(lambda x: re.sub(\"n{3,10}\", \"n\", x))\n",
    "df_en.loc[:, \"text\"] = df_en['text'].map(lambda x: re.sub(\"o{3,10}\", \"o\", x))\n",
    "df_en.loc[:, \"text\"] = df_en['text'].map(lambda x: re.sub(\"p{3,10}\", \"p\", x))\n",
    "df_en.loc[:, \"text\"] = df_en['text'].map(lambda x: re.sub(\"q{2,10}\", \"q\", x))\n",
    "df_en.loc[:, \"text\"] = df_en['text'].map(lambda x: re.sub(\"r{3,10}\", \"r\", x))\n",
    "df_en.loc[:, \"text\"] = df_en['text'].map(lambda x: re.sub(\"s{3,10}\", \"s\", x))\n",
    "df_en.loc[:, \"text\"] = df_en['text'].map(lambda x: re.sub(\"t{3,10}\", \"t\", x))\n",
    "df_en.loc[:, \"text\"] = df_en['text'].map(lambda x: re.sub(\"u{2,10}\", \"u\", x))\n",
    "df_en.loc[:, \"text\"] = df_en['text'].map(lambda x: re.sub(\"v{3,10}\", \"v\", x))\n",
    "df_en.loc[:, \"text\"] = df_en['text'].map(lambda x: re.sub(\"x{3,10}\", \"x\", x))\n",
    "df_en.loc[:, \"text\"] = df_en['text'].map(lambda x: re.sub(\"y{2,10}\", \"y\", x))\n",
    "df_en.loc[:, \"text\"] = df_en['text'].map(lambda x: re.sub(\"z{3,10}\", \"z\", x))"
   ]
  },
  {
   "cell_type": "code",
   "execution_count": 133,
   "metadata": {},
   "outputs": [
    {
     "data": {
      "text/plain": [
       "(60352, 3)"
      ]
     },
     "execution_count": 133,
     "metadata": {},
     "output_type": "execute_result"
    }
   ],
   "source": [
    "df_en.shape"
   ]
  },
  {
   "cell_type": "markdown",
   "metadata": {},
   "source": [
    "## Write to CSV"
   ]
  },
  {
   "cell_type": "code",
   "execution_count": 134,
   "metadata": {},
   "outputs": [],
   "source": [
    "# write to csf\n",
    "df_en.to_csv(\"../Data/all_tweets_clean.csv\", index = False)"
   ]
  }
 ],
 "metadata": {
  "kernelspec": {
   "display_name": "Python 3",
   "language": "python",
   "name": "python3"
  },
  "language_info": {
   "codemirror_mode": {
    "name": "ipython",
    "version": 3
   },
   "file_extension": ".py",
   "mimetype": "text/x-python",
   "name": "python",
   "nbconvert_exporter": "python",
   "pygments_lexer": "ipython3",
   "version": "3.7.4"
  }
 },
 "nbformat": 4,
 "nbformat_minor": 2
}
