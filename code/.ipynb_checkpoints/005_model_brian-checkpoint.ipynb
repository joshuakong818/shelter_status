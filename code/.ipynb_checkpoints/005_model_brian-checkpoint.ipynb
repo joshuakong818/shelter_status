{
 "cells": [
  {
   "cell_type": "code",
   "execution_count": 28,
   "metadata": {},
   "outputs": [],
   "source": [
    "import datetime as dt\n",
    "import pandas as pd\n",
    "import re\n",
    "import numpy as np\n",
    "import nltk\n",
    "import regex as reg\n",
    "import matplotlib.pyplot as plt\n",
    "\n",
    "from twitterscraper import query_tweets\n",
    "from sklearn.decomposition import LatentDirichletAllocation as LDA\n",
    "from nltk.stem import WordNetLemmatizer\n",
    "from nltk.tokenize import RegexpTokenizer\n",
    "from nltk.stem.porter import PorterStemmer\n",
    "from nltk.corpus import stopwords\n",
    "from sklearn.model_selection import train_test_split, GridSearchCV, RandomizedSearchCV\n",
    "from sklearn.feature_extraction.text import CountVectorizer, TfidfVectorizer\n",
    "from sklearn.feature_extraction import stop_words\n",
    "from sklearn.linear_model import LogisticRegression\n",
    "from sklearn.neighbors import KNeighborsClassifier\n",
    "from sklearn.pipeline import Pipeline\n",
    "from sklearn.datasets import make_multilabel_classification\n",
    "from sklearn.svm import SVC\n",
    "from sklearn.naive_bayes import MultinomialNB, GaussianNB\n",
    "from sklearn.metrics import accuracy_score\n",
    "from sklearn.metrics import confusion_matrix\n",
    "from bs4 import BeautifulSoup\n",
    "\n",
    "pd.set_option('display.max_colwidth',-1)\n",
    "pd.set_option('display.max_rows', 1500)\n",
    "pd.set_option('display.max_columns', 500)"
   ]
  },
  {
   "cell_type": "markdown",
   "metadata": {},
   "source": [
    "## EXPLORATORY DATA ANALYSIS ALL LABELED TWEETS FIRE & HURRICANE"
   ]
  },
  {
   "cell_type": "code",
   "execution_count": 13,
   "metadata": {},
   "outputs": [],
   "source": [
    "df8 =pd.read_csv('df8_SUPER.csv')"
   ]
  },
  {
   "cell_type": "code",
   "execution_count": 14,
   "metadata": {},
   "outputs": [],
   "source": [
    "df9=df8[['text','requesting_help','disaster']]"
   ]
  },
  {
   "cell_type": "code",
   "execution_count": 15,
   "metadata": {},
   "outputs": [],
   "source": [
    "X = df9['text']\n",
    "y= df9['requesting_help']"
   ]
  },
  {
   "cell_type": "code",
   "execution_count": 16,
   "metadata": {},
   "outputs": [
    {
     "data": {
      "text/plain": [
       "disaster   requesting_help\n",
       "fire       0                  427\n",
       "           1                  75 \n",
       "hurricane  0                  351\n",
       "           1                  153\n",
       "Name: requesting_help, dtype: int64"
      ]
     },
     "execution_count": 16,
     "metadata": {},
     "output_type": "execute_result"
    }
   ],
   "source": [
    "df9.groupby('disaster')['requesting_help'].value_counts()"
   ]
  },
  {
   "cell_type": "code",
   "execution_count": 41,
   "metadata": {},
   "outputs": [
    {
     "data": {
      "text/plain": [
       "1006"
      ]
     },
     "execution_count": 41,
     "metadata": {},
     "output_type": "execute_result"
    }
   ],
   "source": [
    "427+75+351+153"
   ]
  },
  {
   "cell_type": "code",
   "execution_count": 42,
   "metadata": {},
   "outputs": [
    {
     "data": {
      "text/plain": [
       "228"
      ]
     },
     "execution_count": 42,
     "metadata": {},
     "output_type": "execute_result"
    }
   ],
   "source": [
    "75+153"
   ]
  },
  {
   "cell_type": "code",
   "execution_count": 44,
   "metadata": {},
   "outputs": [
    {
     "data": {
      "text/plain": [
       "0.7733598409542743"
      ]
     },
     "execution_count": 44,
     "metadata": {},
     "output_type": "execute_result"
    }
   ],
   "source": [
    "# Baseline\n",
    "1 - 228/1006"
   ]
  },
  {
   "cell_type": "markdown",
   "metadata": {},
   "source": [
    "## MODELING"
   ]
  },
  {
   "cell_type": "code",
   "execution_count": 17,
   "metadata": {},
   "outputs": [],
   "source": [
    "X_train, X_test, y_train, y_test = train_test_split(X,y,stratify=y, random_state=42)"
   ]
  },
  {
   "cell_type": "markdown",
   "metadata": {},
   "source": [
    "## LOGISTIC REGRESSION WITH COUNT VECTORIZER (SEE LAB 5.02)"
   ]
  },
  {
   "cell_type": "code",
   "execution_count": 37,
   "metadata": {},
   "outputs": [
    {
     "name": "stdout",
     "output_type": "stream",
     "text": [
      "Gridsearch with Count Vectorizer for training data is 0.993368700265252\n",
      "\n",
      "Gridsearch with Count Vectorizer for test data is 0.8928571428571429\n"
     ]
    }
   ],
   "source": [
    "# Instantiate Pipline for Logistic Regression using Count Vectorizer\n",
    "# Found this terrific website that explains the different solver options in LogisticRegression\n",
    "# https://towardsdatascience.com/dont-sweat-the-solver-stuff-aea7cddc3451\n",
    "pipe_a = Pipeline([\n",
    "    ('cvec_a', CountVectorizer()),\n",
    "    ('lr_a', LogisticRegression(solver= 'lbfgs'))\n",
    "])\n",
    "\n",
    "params_a = {\n",
    "    'cvec_a__max_features': [2000, 3000, 4000, 5000],\n",
    "    'cvec_a__min_df': [2, 3],\n",
    "    'cvec_a__max_df': [.9, .95],\n",
    "    'cvec_a__ngram_range': [(1,1), (1,4)],\n",
    "    'cvec_a__stop_words':['english', None]\n",
    "}\n",
    "\n",
    "gs_a = GridSearchCV(pipe_a,params_a, cv=5, n_jobs=3)\n",
    "    \n",
    "gs_a.fit(X_train, y_train)\n",
    "    \n",
    "print(f'Gridsearch with Count Vectorizer for training data is {gs_a.score(X_train, y_train)}')\n",
    "print()\n",
    "print(f'Gridsearch with Count Vectorizer for test data is {gs_a.score(X_test, y_test)}')"
   ]
  },
  {
   "cell_type": "code",
   "execution_count": 40,
   "metadata": {},
   "outputs": [
    {
     "data": {
      "text/plain": [
       "{'cvec_a__max_df': 0.9,\n",
       " 'cvec_a__max_features': 2000,\n",
       " 'cvec_a__min_df': 2,\n",
       " 'cvec_a__ngram_range': (1, 1),\n",
       " 'cvec_a__stop_words': None}"
      ]
     },
     "execution_count": 40,
     "metadata": {},
     "output_type": "execute_result"
    }
   ],
   "source": [
    "gs_a.best_params_"
   ]
  },
  {
   "cell_type": "markdown",
   "metadata": {},
   "source": [
    "## LOGIST REGRESSION WITH TFIDF VECTORIZER"
   ]
  },
  {
   "cell_type": "code",
   "execution_count": 46,
   "metadata": {},
   "outputs": [
    {
     "name": "stdout",
     "output_type": "stream",
     "text": [
      "Gridsearch with TFIDF Vectorizer for training data is 0.8952254641909815\n",
      "\n",
      "Gridsearch with TFIDF Vectorizer for test data is 0.8650793650793651\n"
     ]
    }
   ],
   "source": [
    "pipe_b = Pipeline([\n",
    "    ('tfid_b', TfidfVectorizer()),\n",
    "    ('lr_b', LogisticRegression(solver= 'lbfgs'))\n",
    "])\n",
    "\n",
    "params_b = {\n",
    "    'tfid_b__max_features': [2000, 3000, 4000, 5000],\n",
    "    'tfid_b__min_df': [2, 3],\n",
    "    'tfid_b__max_df': [.9, .95],\n",
    "    'tfid_b__ngram_range': [(1,1), (1,4)],\n",
    "    'tfid_b__stop_words':['english', None]\n",
    "}\n",
    "\n",
    "gs_b = GridSearchCV(pipe_b,params_b, cv=5, n_jobs=3)\n",
    "    \n",
    "gs_b.fit(X_train, y_train)\n",
    "    \n",
    "print(f'Gridsearch with TFIDF Vectorizer for training data is {gs_b.score(X_train, y_train)}')\n",
    "print()\n",
    "print(f'Gridsearch with TFIDF Vectorizer for test data is {gs_b.score(X_test, y_test)}')"
   ]
  },
  {
   "cell_type": "code",
   "execution_count": 48,
   "metadata": {},
   "outputs": [
    {
     "data": {
      "text/plain": [
       "{'tfid_b__max_df': 0.9,\n",
       " 'tfid_b__max_features': 2000,\n",
       " 'tfid_b__min_df': 3,\n",
       " 'tfid_b__ngram_range': (1, 1),\n",
       " 'tfid_b__stop_words': 'english'}"
      ]
     },
     "execution_count": 48,
     "metadata": {},
     "output_type": "execute_result"
    }
   ],
   "source": [
    "gs_b.best_params_"
   ]
  },
  {
   "cell_type": "markdown",
   "metadata": {},
   "source": [
    "## SVC WITH COUNT VECTORIZER"
   ]
  },
  {
   "cell_type": "code",
   "execution_count": 23,
   "metadata": {},
   "outputs": [
    {
     "name": "stdout",
     "output_type": "stream",
     "text": [
      "Gridsearch with Count Vectorizer for training data is 0.9960212201591512\n",
      "\n",
      "Gridsearch with Count Vectorizer for test data is 0.9126984126984127\n"
     ]
    }
   ],
   "source": [
    "pipe_c = Pipeline([\n",
    "    ('cvec_c', CountVectorizer()),\n",
    "    ('svc', SVC(C=2,gamma='scale'))\n",
    "])\n",
    "\n",
    "params_c = {\n",
    "    'cvec_c__max_features': [2000, 3000, 4000, 5000],\n",
    "    'cvec_c__min_df': [2, 3],\n",
    "    'cvec_c__max_df': [.9, .95],\n",
    "    'cvec_c__ngram_range': [(1,1), (1,4)],\n",
    "    'cvec_c__stop_words':['english', None]\n",
    "}\n",
    "\n",
    "gs_c = GridSearchCV(pipe_c,params_c, cv=5, n_jobs=3)\n",
    "    \n",
    "gs_c.fit(X_train, y_train)\n",
    "    \n",
    "print(f'Gridsearch with Count Vectorizer for training data is {gs_c.score(X_train, y_train)}')\n",
    "print()\n",
    "print(f'Gridsearch with Count Vectorizer for test data is {gs_c.score(X_test, y_test)}')"
   ]
  },
  {
   "cell_type": "code",
   "execution_count": 26,
   "metadata": {},
   "outputs": [
    {
     "data": {
      "text/plain": [
       "0.7936507936507936"
      ]
     },
     "execution_count": 26,
     "metadata": {},
     "output_type": "execute_result"
    }
   ],
   "source": [
    "# Measure performance based on accuracy.\n",
    "\n",
    "accuracy_score(y_test, y_pred)"
   ]
  },
  {
   "cell_type": "code",
   "execution_count": 29,
   "metadata": {},
   "outputs": [
    {
     "data": {
      "text/plain": [
       "array([[195,   0],\n",
       "       [ 52,   5]])"
      ]
     },
     "execution_count": 29,
     "metadata": {},
     "output_type": "execute_result"
    }
   ],
   "source": [
    "# Generate confusion matrix.\n",
    "# Documentation here: https://scikit-learn.org/stable/modules/generated/sklearn.metrics.confusion_matrix.html\n",
    "# tn, fp  positive = asking for help\n",
    "# fn, tp  negative = not asking for help\n",
    "confusion_matrix(y_test, # True values.\n",
    "                 y_pred)  # Predicted values."
   ]
  },
  {
   "cell_type": "code",
   "execution_count": 25,
   "metadata": {},
   "outputs": [],
   "source": [
    "y_pred = gs_f.predict(X_test)"
   ]
  },
  {
   "cell_type": "code",
   "execution_count": 24,
   "metadata": {},
   "outputs": [
    {
     "data": {
      "text/plain": [
       "array([0, 0, 0, 0, 0, 0, 0, 0, 0, 1, 0, 0, 0, 0, 0, 0, 0, 0, 0, 0, 0, 0,\n",
       "       0, 0, 0, 0, 0, 0, 0, 0, 0, 0, 0, 0, 0, 0, 0, 0, 0, 0, 0, 0, 0, 0,\n",
       "       0, 0, 0, 0, 0, 0, 1, 0, 0, 0, 0, 0, 0, 0, 0, 0, 0, 0, 0, 0, 0, 0,\n",
       "       0, 0, 0, 0, 0, 0, 0, 0, 0, 0, 0, 0, 0, 0, 0, 0, 0, 0, 0, 0, 0, 0,\n",
       "       0, 0, 0, 0, 0, 0, 0, 0, 0, 0, 0, 0, 0, 0, 0, 0, 0, 0, 0, 0, 0, 0,\n",
       "       0, 0, 0, 0, 0, 0, 0, 0, 0, 0, 0, 0, 0, 0, 0, 0, 0, 1, 0, 0, 0, 0,\n",
       "       0, 0, 0, 0, 0, 0, 0, 0, 0, 0, 0, 0, 0, 0, 0, 0, 0, 0, 0, 0, 0, 0,\n",
       "       0, 0, 0, 0, 0, 0, 0, 0, 0, 0, 0, 0, 0, 0, 0, 0, 0, 0, 0, 0, 0, 0,\n",
       "       0, 0, 0, 0, 0, 0, 0, 0, 0, 0, 0, 0, 0, 0, 0, 0, 0, 0, 0, 0, 0, 0,\n",
       "       0, 0, 0, 0, 0, 0, 0, 0, 0, 0, 1, 0, 0, 0, 0, 0, 0, 0, 1, 0, 0, 0,\n",
       "       0, 0, 0, 0, 0, 0, 0, 0, 0, 0, 0, 0, 0, 0, 0, 0, 0, 0, 0, 0, 0, 0,\n",
       "       0, 0, 0, 0, 0, 0, 0, 0, 0, 0])"
      ]
     },
     "execution_count": 24,
     "metadata": {},
     "output_type": "execute_result"
    }
   ],
   "source": [
    "preds"
   ]
  },
  {
   "cell_type": "markdown",
   "metadata": {},
   "source": [
    "## SVC WITH TFIDF VECTORIZER"
   ]
  },
  {
   "cell_type": "code",
   "execution_count": 50,
   "metadata": {},
   "outputs": [
    {
     "name": "stdout",
     "output_type": "stream",
     "text": [
      "Gridsearch with Count Vectorizer for training data is 1.0\n",
      "\n",
      "Gridsearch with Count Vectorizer for test data is 0.9087301587301587\n"
     ]
    }
   ],
   "source": [
    "pipe_d = Pipeline([\n",
    "    ('tfid_d', TfidfVectorizer()),\n",
    "    ('svc', SVC(C=2,gamma='scale'))\n",
    "])\n",
    "\n",
    "params_d = {\n",
    "    'tfid_d__max_features': [2000, 3000, 4000, 5000],\n",
    "    'tfid_d__min_df': [2, 3],\n",
    "    'tfid_d__max_df': [.9, .95],\n",
    "    'tfid_d__ngram_range': [(1,1), (1,4)],\n",
    "    'tfid_d__stop_words':['english', None]\n",
    "}\n",
    "\n",
    "gs_d = GridSearchCV(pipe_d,params_d, cv=5, n_jobs=3)\n",
    "    \n",
    "gs_d.fit(X_train, y_train)\n",
    "    \n",
    "print(f'Gridsearch with Count Vectorizer for training data is {gs_d.score(X_train, y_train)}')\n",
    "print()\n",
    "print(f'Gridsearch with Count Vectorizer for test data is {gs_d.score(X_test, y_test)}')"
   ]
  },
  {
   "cell_type": "markdown",
   "metadata": {},
   "source": [
    "## MULTINOMIAL NAIVE BAYES"
   ]
  },
  {
   "cell_type": "code",
   "execution_count": 20,
   "metadata": {},
   "outputs": [
    {
     "name": "stdout",
     "output_type": "stream",
     "text": [
      "Gridsearch with Count Vectorizer for training data is 0.980106100795756\n",
      "Gridsearch with Count Vectorizer for test data is 0.9007936507936508\n"
     ]
    }
   ],
   "source": [
    "pipe_e = Pipeline([\n",
    "    ('cvec_e', CountVectorizer()),\n",
    "    ('mnb', MultinomialNB())\n",
    "])\n",
    "\n",
    "params_e = {}\n",
    "\n",
    "gs_e = GridSearchCV(pipe_e, params_e, cv=5, n_jobs=3)\n",
    "\n",
    "gs_e.fit(X_train, y_train)\n",
    "\n",
    "print(f'Gridsearch with Count Vectorizer for training data is {gs_e.score(X_train, y_train)}')\n",
    "print(f'Gridsearch with Count Vectorizer for test data is {gs_e.score(X_test, y_test)}')"
   ]
  },
  {
   "cell_type": "code",
   "execution_count": 19,
   "metadata": {},
   "outputs": [
    {
     "data": {
      "text/plain": [
       "(754,)"
      ]
     },
     "execution_count": 19,
     "metadata": {},
     "output_type": "execute_result"
    }
   ],
   "source": [
    "X_train.shape"
   ]
  },
  {
   "cell_type": "markdown",
   "metadata": {},
   "source": [
    "## GAUSSIAN NAIVE BAYES"
   ]
  },
  {
   "cell_type": "code",
   "execution_count": 11,
   "metadata": {},
   "outputs": [
    {
     "name": "stdout",
     "output_type": "stream",
     "text": [
      "Gridsearch with Tfidf Vectorizer for training data is 0.8355437665782494\n",
      "Gridsearch with Tfidf Vectorizer for training data is 0.8355437665782494\n"
     ]
    }
   ],
   "source": [
    "pipe_f = Pipeline([\n",
    "    ('tfid_e', TfidfVectorizer()),\n",
    "    ('mnb', MultinomialNB())\n",
    "])\n",
    "\n",
    "params_f = {}\n",
    "\n",
    "gs_f = GridSearchCV(pipe_f, params_f, cv=5, n_jobs=3)\n",
    "\n",
    "gs_f.fit(X_train, y_train)\n",
    "\n",
    "print(f'Gridsearch with Tfidf Vectorizer for training data is {gs_f.score(X_train, y_train)}')\n",
    "print(f'Gridsearch with Tfidf Vectorizer for training data is {gs_f.score(X_train, y_train)}')"
   ]
  },
  {
   "cell_type": "code",
   "execution_count": null,
   "metadata": {},
   "outputs": [],
   "source": []
  }
 ],
 "metadata": {
  "kernelspec": {
   "display_name": "Python 3",
   "language": "python",
   "name": "python3"
  },
  "language_info": {
   "codemirror_mode": {
    "name": "ipython",
    "version": 3
   },
   "file_extension": ".py",
   "mimetype": "text/x-python",
   "name": "python",
   "nbconvert_exporter": "python",
   "pygments_lexer": "ipython3",
   "version": "3.7.4"
  }
 },
 "nbformat": 4,
 "nbformat_minor": 2
}
