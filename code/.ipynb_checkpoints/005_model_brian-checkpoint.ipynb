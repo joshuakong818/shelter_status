{
 "cells": [
  {
   "cell_type": "code",
   "execution_count": 138,
   "metadata": {},
   "outputs": [],
   "source": [
    "# Import Libraries\n",
    "import datetime as dt\n",
    "import pandas as pd\n",
    "import re\n",
    "import numpy as np\n",
    "import nltk\n",
    "import regex as reg\n",
    "import matplotlib.pyplot as plt\n",
    "\n",
    "from twitterscraper import query_tweets\n",
    "from sklearn.decomposition import LatentDirichletAllocation as LDA\n",
    "from nltk.stem import WordNetLemmatizer\n",
    "from nltk.tokenize import RegexpTokenizer\n",
    "from nltk.stem.porter import PorterStemmer\n",
    "from nltk.corpus import stopwords\n",
    "from sklearn.model_selection import train_test_split, GridSearchCV, RandomizedSearchCV\n",
    "from sklearn.feature_extraction.text import CountVectorizer, TfidfVectorizer\n",
    "from sklearn.feature_extraction import stop_words\n",
    "from sklearn.linear_model import LogisticRegression\n",
    "from sklearn.neighbors import KNeighborsClassifier\n",
    "from sklearn.pipeline import Pipeline\n",
    "from sklearn.datasets import make_multilabel_classification\n",
    "from sklearn.svm import SVC\n",
    "from sklearn.naive_bayes import MultinomialNB, GaussianNB\n",
    "from sklearn.metrics import accuracy_score\n",
    "from sklearn.metrics import confusion_matrix\n",
    "from bs4 import BeautifulSoup\n",
    "\n",
    "%config InlineBackend.figure_format = 'retina'\n",
    "plt.style.use('fivethirtyeight')\n",
    "%matplotlib inline\n",
    "\n",
    "pd.set_option('display.max_colwidth',-1)\n",
    "pd.set_option('display.max_rows', 1500)\n",
    "pd.set_option('display.max_columns', 500)"
   ]
  },
  {
   "cell_type": "markdown",
   "metadata": {},
   "source": [
    "## EXPLORATORY DATA ANALYSIS ALL LABELED TWEETS FIRE & HURRICANE"
   ]
  },
  {
   "cell_type": "code",
   "execution_count": 139,
   "metadata": {},
   "outputs": [],
   "source": [
    "# Import data\n",
    "df =pd.read_csv('../data/df8_SUPER.csv')"
   ]
  },
  {
   "cell_type": "code",
   "execution_count": 140,
   "metadata": {},
   "outputs": [],
   "source": [
    "# Select the 3 columns that we are interested in.\n",
    "df=df[['text','requesting_help','disaster']]"
   ]
  },
  {
   "cell_type": "code",
   "execution_count": 141,
   "metadata": {},
   "outputs": [],
   "source": [
    "# Set X to the text column and y to the requesting_help column.\n",
    "X = df['text']\n",
    "y= df['requesting_help']"
   ]
  },
  {
   "cell_type": "code",
   "execution_count": 142,
   "metadata": {},
   "outputs": [
    {
     "data": {
      "text/plain": [
       "disaster   requesting_help\n",
       "fire       0                  427\n",
       "           1                  75 \n",
       "hurricane  0                  351\n",
       "           1                  153\n",
       "Name: requesting_help, dtype: int64"
      ]
     },
     "execution_count": 142,
     "metadata": {},
     "output_type": "execute_result"
    }
   ],
   "source": [
    "# Group by disaster and then requesting help to get the count of requesting help for each disaster.\n",
    "df.groupby('disaster')['requesting_help'].value_counts()"
   ]
  },
  {
   "cell_type": "code",
   "execution_count": 143,
   "metadata": {},
   "outputs": [
    {
     "data": {
      "text/plain": [
       "0    0.77336\n",
       "1    0.22664\n",
       "Name: requesting_help, dtype: float64"
      ]
     },
     "execution_count": 143,
     "metadata": {},
     "output_type": "execute_result"
    }
   ],
   "source": [
    "# Baseline calculation\n",
    "df['requesting_help'].value_counts(normalize=True)"
   ]
  },
  {
   "cell_type": "markdown",
   "metadata": {},
   "source": [
    "## MODELING"
   ]
  },
  {
   "cell_type": "code",
   "execution_count": 144,
   "metadata": {},
   "outputs": [],
   "source": [
    "X_train, X_test, y_train, y_test = train_test_split(X,y,stratify=y, random_state=42)"
   ]
  },
  {
   "cell_type": "markdown",
   "metadata": {},
   "source": [
    "## LOGISTIC REGRESSION WITH COUNT VECTORIZER"
   ]
  },
  {
   "cell_type": "code",
   "execution_count": 145,
   "metadata": {},
   "outputs": [
    {
     "name": "stdout",
     "output_type": "stream",
     "text": [
      "Gridsearch with Count Vectorizer for training data is 0.993368700265252\n",
      "\n",
      "Gridsearch with Count Vectorizer for test data is 0.8928571428571429\n"
     ]
    }
   ],
   "source": [
    "# Instantiate Pipline for Logistic Regression using Count Vectorizer\n",
    "# Found this terrific website that explains the different solver options in LogisticRegression\n",
    "# https://towardsdatascience.com/dont-sweat-the-solver-stuff-aea7cddc3451\n",
    "pipe_a = Pipeline([\n",
    "    ('cvec_a', CountVectorizer()),\n",
    "    ('lr_a', LogisticRegression(solver= 'lbfgs'))\n",
    "])\n",
    "\n",
    "params_a = {\n",
    "    'cvec_a__max_features': [2000, 3000, 4000, 5000],\n",
    "    'cvec_a__min_df': [2, 3],\n",
    "    'cvec_a__max_df': [.9, .95],\n",
    "    'cvec_a__ngram_range': [(1,1), (1,4)],\n",
    "    'cvec_a__stop_words':['english', None]\n",
    "}\n",
    "\n",
    "gs_a = GridSearchCV(pipe_a,params_a, cv=5, n_jobs=3)\n",
    "    \n",
    "gs_a.fit(X_train, y_train)\n",
    "    \n",
    "print(f'Gridsearch with Count Vectorizer for training data is {gs_a.score(X_train, y_train)}')\n",
    "print()\n",
    "print(f'Gridsearch with Count Vectorizer for test data is {gs_a.score(X_test, y_test)}')"
   ]
  },
  {
   "cell_type": "code",
   "execution_count": 146,
   "metadata": {},
   "outputs": [
    {
     "data": {
      "text/plain": [
       "{'cvec_a__max_df': 0.9,\n",
       " 'cvec_a__max_features': 2000,\n",
       " 'cvec_a__min_df': 2,\n",
       " 'cvec_a__ngram_range': (1, 1),\n",
       " 'cvec_a__stop_words': None}"
      ]
     },
     "execution_count": 146,
     "metadata": {},
     "output_type": "execute_result"
    }
   ],
   "source": [
    "gs_a.best_params_"
   ]
  },
  {
   "cell_type": "code",
   "execution_count": 147,
   "metadata": {},
   "outputs": [],
   "source": [
    "#print(f'Logistic Regression Intercept: {logreg.intercept_}')\n",
    "#print(f'Logistic Regression Coefficient: {logreg.coef_}')\n",
    "# Find Intercept and coefficient. From lesson 4.01\n",
    "#print(f'Intercept is {lr_a.intercept_}')\n",
    "#print(f'Coefficient is {lr_a.coef_}')"
   ]
  },
  {
   "cell_type": "markdown",
   "metadata": {},
   "source": [
    "## LOGISTIC REGRESSION WITH TFIDF VECTORIZER"
   ]
  },
  {
   "cell_type": "code",
   "execution_count": 148,
   "metadata": {},
   "outputs": [
    {
     "name": "stdout",
     "output_type": "stream",
     "text": [
      "Gridsearch with TFIDF Vectorizer for training data is 0.8952254641909815\n",
      "\n",
      "Gridsearch with TFIDF Vectorizer for test data is 0.8650793650793651\n"
     ]
    }
   ],
   "source": [
    "pipe_b = Pipeline([\n",
    "    ('tfid_b', TfidfVectorizer()),\n",
    "    ('lr_b', LogisticRegression(solver= 'lbfgs'))\n",
    "])\n",
    "\n",
    "params_b = {\n",
    "    'tfid_b__max_features': [2000, 3000, 4000, 5000],\n",
    "    'tfid_b__min_df': [2, 3],\n",
    "    'tfid_b__max_df': [.9, .95],\n",
    "    'tfid_b__ngram_range': [(1,1), (1,4)],\n",
    "    'tfid_b__stop_words':['english', None]\n",
    "}\n",
    "\n",
    "gs_b = GridSearchCV(pipe_b,params_b, cv=5, n_jobs=3)\n",
    "    \n",
    "gs_b.fit(X_train, y_train)\n",
    "    \n",
    "print(f'Gridsearch with TFIDF Vectorizer for training data is {gs_b.score(X_train, y_train)}')\n",
    "print()\n",
    "print(f'Gridsearch with TFIDF Vectorizer for test data is {gs_b.score(X_test, y_test)}')"
   ]
  },
  {
   "cell_type": "code",
   "execution_count": 149,
   "metadata": {},
   "outputs": [
    {
     "data": {
      "text/plain": [
       "{'tfid_b__max_df': 0.9,\n",
       " 'tfid_b__max_features': 2000,\n",
       " 'tfid_b__min_df': 3,\n",
       " 'tfid_b__ngram_range': (1, 1),\n",
       " 'tfid_b__stop_words': 'english'}"
      ]
     },
     "execution_count": 149,
     "metadata": {},
     "output_type": "execute_result"
    }
   ],
   "source": [
    "gs_b.best_params_"
   ]
  },
  {
   "cell_type": "code",
   "execution_count": 150,
   "metadata": {},
   "outputs": [
    {
     "data": {
      "text/plain": [
       "Pipeline(memory=None,\n",
       "         steps=[('tfid_b',\n",
       "                 TfidfVectorizer(analyzer='word', binary=False,\n",
       "                                 decode_error='strict',\n",
       "                                 dtype=<class 'numpy.float64'>,\n",
       "                                 encoding='utf-8', input='content',\n",
       "                                 lowercase=True, max_df=0.9, max_features=2000,\n",
       "                                 min_df=3, ngram_range=(1, 1), norm='l2',\n",
       "                                 preprocessor=None, smooth_idf=True,\n",
       "                                 stop_words='english', strip_accents=None,\n",
       "                                 sublinear_tf=False,\n",
       "                                 token_pattern='(?u)\\\\b\\\\w\\\\w+\\\\b',\n",
       "                                 tokenizer=None, use_idf=True,\n",
       "                                 vocabulary=None)),\n",
       "                ('lr_b',\n",
       "                 LogisticRegression(C=1.0, class_weight=None, dual=False,\n",
       "                                    fit_intercept=True, intercept_scaling=1,\n",
       "                                    l1_ratio=None, max_iter=100,\n",
       "                                    multi_class='warn', n_jobs=None,\n",
       "                                    penalty='l2', random_state=None,\n",
       "                                    solver='lbfgs', tol=0.0001, verbose=0,\n",
       "                                    warm_start=False))],\n",
       "         verbose=False)"
      ]
     },
     "execution_count": 150,
     "metadata": {},
     "output_type": "execute_result"
    }
   ],
   "source": [
    "gs_b.best_estimator_"
   ]
  },
  {
   "cell_type": "code",
   "execution_count": 151,
   "metadata": {},
   "outputs": [],
   "source": [
    "gs_b_best = gs_b.best_estimator_"
   ]
  },
  {
   "cell_type": "code",
   "execution_count": 152,
   "metadata": {},
   "outputs": [],
   "source": [
    "# pull coefficients for model\n",
    "coefs = gs_b_best.named_steps['lr_b'].coef_[0]"
   ]
  },
  {
   "cell_type": "code",
   "execution_count": 153,
   "metadata": {},
   "outputs": [],
   "source": [
    "\n",
    "# get feature names\n",
    "features = gs_b_best.named_steps['tfid_b'].get_feature_names()"
   ]
  },
  {
   "cell_type": "code",
   "execution_count": 154,
   "metadata": {},
   "outputs": [],
   "source": [
    "# create df\n",
    "simple_df = pd.DataFrame({\"features\": features,\n",
    "                         \"coefficients\": coefs,\n",
    "                         \"absolute_coefs\": np.abs(coefs)})"
   ]
  },
  {
   "cell_type": "code",
   "execution_count": 156,
   "metadata": {},
   "outputs": [
    {
     "data": {
      "text/plain": [
       "'/Users/Brian 1/Desktop/GA_12.10_1.04/shelter_status/code'"
      ]
     },
     "execution_count": 156,
     "metadata": {},
     "output_type": "execute_result"
    }
   ],
   "source": [
    "pwd"
   ]
  },
  {
   "cell_type": "code",
   "execution_count": 155,
   "metadata": {},
   "outputs": [
    {
     "ename": "FileNotFoundError",
     "evalue": "[Errno 2] No such file or directory: '../visuals/feature_coefs_lr.png'",
     "output_type": "error",
     "traceback": [
      "\u001b[0;31m---------------------------------------------------------------------------\u001b[0m",
      "\u001b[0;31mFileNotFoundError\u001b[0m                         Traceback (most recent call last)",
      "\u001b[0;32m<ipython-input-155-0bb3a1bab7ea>\u001b[0m in \u001b[0;36m<module>\u001b[0;34m\u001b[0m\n\u001b[1;32m     14\u001b[0m \u001b[0mplt\u001b[0m\u001b[0;34m.\u001b[0m\u001b[0mtitle\u001b[0m\u001b[0;34m(\u001b[0m\u001b[0;34m\"Most Important Features and Weights\"\u001b[0m\u001b[0;34m,\u001b[0m \u001b[0mfontsize\u001b[0m\u001b[0;34m=\u001b[0m\u001b[0;36m42\u001b[0m\u001b[0;34m)\u001b[0m\u001b[0;34m\u001b[0m\u001b[0;34m\u001b[0m\u001b[0m\n\u001b[1;32m     15\u001b[0m \u001b[0mplt\u001b[0m\u001b[0;34m.\u001b[0m\u001b[0mtight_layout\u001b[0m\u001b[0;34m(\u001b[0m\u001b[0;34m)\u001b[0m\u001b[0;34m\u001b[0m\u001b[0;34m\u001b[0m\u001b[0m\n\u001b[0;32m---> 16\u001b[0;31m \u001b[0mplt\u001b[0m\u001b[0;34m.\u001b[0m\u001b[0msavefig\u001b[0m\u001b[0;34m(\u001b[0m\u001b[0;34m'../visuals/feature_coefs_lr.png'\u001b[0m\u001b[0;34m)\u001b[0m\u001b[0;34m\u001b[0m\u001b[0;34m\u001b[0m\u001b[0m\n\u001b[0m",
      "\u001b[0;32m/opt/anaconda3/lib/python3.7/site-packages/matplotlib/pyplot.py\u001b[0m in \u001b[0;36msavefig\u001b[0;34m(*args, **kwargs)\u001b[0m\n\u001b[1;32m    720\u001b[0m \u001b[0;32mdef\u001b[0m \u001b[0msavefig\u001b[0m\u001b[0;34m(\u001b[0m\u001b[0;34m*\u001b[0m\u001b[0margs\u001b[0m\u001b[0;34m,\u001b[0m \u001b[0;34m**\u001b[0m\u001b[0mkwargs\u001b[0m\u001b[0;34m)\u001b[0m\u001b[0;34m:\u001b[0m\u001b[0;34m\u001b[0m\u001b[0;34m\u001b[0m\u001b[0m\n\u001b[1;32m    721\u001b[0m     \u001b[0mfig\u001b[0m \u001b[0;34m=\u001b[0m \u001b[0mgcf\u001b[0m\u001b[0;34m(\u001b[0m\u001b[0;34m)\u001b[0m\u001b[0;34m\u001b[0m\u001b[0;34m\u001b[0m\u001b[0m\n\u001b[0;32m--> 722\u001b[0;31m     \u001b[0mres\u001b[0m \u001b[0;34m=\u001b[0m \u001b[0mfig\u001b[0m\u001b[0;34m.\u001b[0m\u001b[0msavefig\u001b[0m\u001b[0;34m(\u001b[0m\u001b[0;34m*\u001b[0m\u001b[0margs\u001b[0m\u001b[0;34m,\u001b[0m \u001b[0;34m**\u001b[0m\u001b[0mkwargs\u001b[0m\u001b[0;34m)\u001b[0m\u001b[0;34m\u001b[0m\u001b[0;34m\u001b[0m\u001b[0m\n\u001b[0m\u001b[1;32m    723\u001b[0m     \u001b[0mfig\u001b[0m\u001b[0;34m.\u001b[0m\u001b[0mcanvas\u001b[0m\u001b[0;34m.\u001b[0m\u001b[0mdraw_idle\u001b[0m\u001b[0;34m(\u001b[0m\u001b[0;34m)\u001b[0m   \u001b[0;31m# need this if 'transparent=True' to reset colors\u001b[0m\u001b[0;34m\u001b[0m\u001b[0;34m\u001b[0m\u001b[0m\n\u001b[1;32m    724\u001b[0m     \u001b[0;32mreturn\u001b[0m \u001b[0mres\u001b[0m\u001b[0;34m\u001b[0m\u001b[0;34m\u001b[0m\u001b[0m\n",
      "\u001b[0;32m/opt/anaconda3/lib/python3.7/site-packages/matplotlib/figure.py\u001b[0m in \u001b[0;36msavefig\u001b[0;34m(self, fname, transparent, **kwargs)\u001b[0m\n\u001b[1;32m   2178\u001b[0m             \u001b[0mself\u001b[0m\u001b[0;34m.\u001b[0m\u001b[0mpatch\u001b[0m\u001b[0;34m.\u001b[0m\u001b[0mset_visible\u001b[0m\u001b[0;34m(\u001b[0m\u001b[0mframeon\u001b[0m\u001b[0;34m)\u001b[0m\u001b[0;34m\u001b[0m\u001b[0;34m\u001b[0m\u001b[0m\n\u001b[1;32m   2179\u001b[0m \u001b[0;34m\u001b[0m\u001b[0m\n\u001b[0;32m-> 2180\u001b[0;31m         \u001b[0mself\u001b[0m\u001b[0;34m.\u001b[0m\u001b[0mcanvas\u001b[0m\u001b[0;34m.\u001b[0m\u001b[0mprint_figure\u001b[0m\u001b[0;34m(\u001b[0m\u001b[0mfname\u001b[0m\u001b[0;34m,\u001b[0m \u001b[0;34m**\u001b[0m\u001b[0mkwargs\u001b[0m\u001b[0;34m)\u001b[0m\u001b[0;34m\u001b[0m\u001b[0;34m\u001b[0m\u001b[0m\n\u001b[0m\u001b[1;32m   2181\u001b[0m \u001b[0;34m\u001b[0m\u001b[0m\n\u001b[1;32m   2182\u001b[0m         \u001b[0;32mif\u001b[0m \u001b[0mframeon\u001b[0m\u001b[0;34m:\u001b[0m\u001b[0;34m\u001b[0m\u001b[0;34m\u001b[0m\u001b[0m\n",
      "\u001b[0;32m/opt/anaconda3/lib/python3.7/site-packages/matplotlib/backend_bases.py\u001b[0m in \u001b[0;36mprint_figure\u001b[0;34m(self, filename, dpi, facecolor, edgecolor, orientation, format, bbox_inches, **kwargs)\u001b[0m\n\u001b[1;32m   2087\u001b[0m                     \u001b[0morientation\u001b[0m\u001b[0;34m=\u001b[0m\u001b[0morientation\u001b[0m\u001b[0;34m,\u001b[0m\u001b[0;34m\u001b[0m\u001b[0;34m\u001b[0m\u001b[0m\n\u001b[1;32m   2088\u001b[0m                     \u001b[0mbbox_inches_restore\u001b[0m\u001b[0;34m=\u001b[0m\u001b[0m_bbox_inches_restore\u001b[0m\u001b[0;34m,\u001b[0m\u001b[0;34m\u001b[0m\u001b[0;34m\u001b[0m\u001b[0m\n\u001b[0;32m-> 2089\u001b[0;31m                     **kwargs)\n\u001b[0m\u001b[1;32m   2090\u001b[0m             \u001b[0;32mfinally\u001b[0m\u001b[0;34m:\u001b[0m\u001b[0;34m\u001b[0m\u001b[0;34m\u001b[0m\u001b[0m\n\u001b[1;32m   2091\u001b[0m                 \u001b[0;32mif\u001b[0m \u001b[0mbbox_inches\u001b[0m \u001b[0;32mand\u001b[0m \u001b[0mrestore_bbox\u001b[0m\u001b[0;34m:\u001b[0m\u001b[0;34m\u001b[0m\u001b[0;34m\u001b[0m\u001b[0m\n",
      "\u001b[0;32m/opt/anaconda3/lib/python3.7/site-packages/matplotlib/backends/backend_agg.py\u001b[0m in \u001b[0;36mprint_png\u001b[0;34m(self, filename_or_obj, metadata, pil_kwargs, *args, **kwargs)\u001b[0m\n\u001b[1;32m    528\u001b[0m             \u001b[0mrenderer\u001b[0m \u001b[0;34m=\u001b[0m \u001b[0mself\u001b[0m\u001b[0;34m.\u001b[0m\u001b[0mget_renderer\u001b[0m\u001b[0;34m(\u001b[0m\u001b[0;34m)\u001b[0m\u001b[0;34m\u001b[0m\u001b[0;34m\u001b[0m\u001b[0m\n\u001b[1;32m    529\u001b[0m             \u001b[0;32mwith\u001b[0m \u001b[0mcbook\u001b[0m\u001b[0;34m.\u001b[0m\u001b[0m_setattr_cm\u001b[0m\u001b[0;34m(\u001b[0m\u001b[0mrenderer\u001b[0m\u001b[0;34m,\u001b[0m \u001b[0mdpi\u001b[0m\u001b[0;34m=\u001b[0m\u001b[0mself\u001b[0m\u001b[0;34m.\u001b[0m\u001b[0mfigure\u001b[0m\u001b[0;34m.\u001b[0m\u001b[0mdpi\u001b[0m\u001b[0;34m)\u001b[0m\u001b[0;34m,\u001b[0m\u001b[0;31m \u001b[0m\u001b[0;31m\\\u001b[0m\u001b[0;34m\u001b[0m\u001b[0;34m\u001b[0m\u001b[0m\n\u001b[0;32m--> 530\u001b[0;31m                     \u001b[0mcbook\u001b[0m\u001b[0;34m.\u001b[0m\u001b[0mopen_file_cm\u001b[0m\u001b[0;34m(\u001b[0m\u001b[0mfilename_or_obj\u001b[0m\u001b[0;34m,\u001b[0m \u001b[0;34m\"wb\"\u001b[0m\u001b[0;34m)\u001b[0m \u001b[0;32mas\u001b[0m \u001b[0mfh\u001b[0m\u001b[0;34m:\u001b[0m\u001b[0;34m\u001b[0m\u001b[0;34m\u001b[0m\u001b[0m\n\u001b[0m\u001b[1;32m    531\u001b[0m                 _png.write_png(renderer._renderer, fh,\n\u001b[1;32m    532\u001b[0m                                self.figure.dpi, metadata=metadata)\n",
      "\u001b[0;32m/opt/anaconda3/lib/python3.7/contextlib.py\u001b[0m in \u001b[0;36m__enter__\u001b[0;34m(self)\u001b[0m\n\u001b[1;32m    110\u001b[0m         \u001b[0;32mdel\u001b[0m \u001b[0mself\u001b[0m\u001b[0;34m.\u001b[0m\u001b[0margs\u001b[0m\u001b[0;34m,\u001b[0m \u001b[0mself\u001b[0m\u001b[0;34m.\u001b[0m\u001b[0mkwds\u001b[0m\u001b[0;34m,\u001b[0m \u001b[0mself\u001b[0m\u001b[0;34m.\u001b[0m\u001b[0mfunc\u001b[0m\u001b[0;34m\u001b[0m\u001b[0;34m\u001b[0m\u001b[0m\n\u001b[1;32m    111\u001b[0m         \u001b[0;32mtry\u001b[0m\u001b[0;34m:\u001b[0m\u001b[0;34m\u001b[0m\u001b[0;34m\u001b[0m\u001b[0m\n\u001b[0;32m--> 112\u001b[0;31m             \u001b[0;32mreturn\u001b[0m \u001b[0mnext\u001b[0m\u001b[0;34m(\u001b[0m\u001b[0mself\u001b[0m\u001b[0;34m.\u001b[0m\u001b[0mgen\u001b[0m\u001b[0;34m)\u001b[0m\u001b[0;34m\u001b[0m\u001b[0;34m\u001b[0m\u001b[0m\n\u001b[0m\u001b[1;32m    113\u001b[0m         \u001b[0;32mexcept\u001b[0m \u001b[0mStopIteration\u001b[0m\u001b[0;34m:\u001b[0m\u001b[0;34m\u001b[0m\u001b[0;34m\u001b[0m\u001b[0m\n\u001b[1;32m    114\u001b[0m             \u001b[0;32mraise\u001b[0m \u001b[0mRuntimeError\u001b[0m\u001b[0;34m(\u001b[0m\u001b[0;34m\"generator didn't yield\"\u001b[0m\u001b[0;34m)\u001b[0m \u001b[0;32mfrom\u001b[0m \u001b[0;32mNone\u001b[0m\u001b[0;34m\u001b[0m\u001b[0;34m\u001b[0m\u001b[0m\n",
      "\u001b[0;32m/opt/anaconda3/lib/python3.7/site-packages/matplotlib/cbook/__init__.py\u001b[0m in \u001b[0;36mopen_file_cm\u001b[0;34m(path_or_file, mode, encoding)\u001b[0m\n\u001b[1;32m    445\u001b[0m \u001b[0;32mdef\u001b[0m \u001b[0mopen_file_cm\u001b[0m\u001b[0;34m(\u001b[0m\u001b[0mpath_or_file\u001b[0m\u001b[0;34m,\u001b[0m \u001b[0mmode\u001b[0m\u001b[0;34m=\u001b[0m\u001b[0;34m\"r\"\u001b[0m\u001b[0;34m,\u001b[0m \u001b[0mencoding\u001b[0m\u001b[0;34m=\u001b[0m\u001b[0;32mNone\u001b[0m\u001b[0;34m)\u001b[0m\u001b[0;34m:\u001b[0m\u001b[0;34m\u001b[0m\u001b[0;34m\u001b[0m\u001b[0m\n\u001b[1;32m    446\u001b[0m     \u001b[0;34mr\"\"\"Pass through file objects and context-manage `.PathLike`\\s.\"\"\"\u001b[0m\u001b[0;34m\u001b[0m\u001b[0;34m\u001b[0m\u001b[0m\n\u001b[0;32m--> 447\u001b[0;31m     \u001b[0mfh\u001b[0m\u001b[0;34m,\u001b[0m \u001b[0mopened\u001b[0m \u001b[0;34m=\u001b[0m \u001b[0mto_filehandle\u001b[0m\u001b[0;34m(\u001b[0m\u001b[0mpath_or_file\u001b[0m\u001b[0;34m,\u001b[0m \u001b[0mmode\u001b[0m\u001b[0;34m,\u001b[0m \u001b[0;32mTrue\u001b[0m\u001b[0;34m,\u001b[0m \u001b[0mencoding\u001b[0m\u001b[0;34m)\u001b[0m\u001b[0;34m\u001b[0m\u001b[0;34m\u001b[0m\u001b[0m\n\u001b[0m\u001b[1;32m    448\u001b[0m     \u001b[0;32mif\u001b[0m \u001b[0mopened\u001b[0m\u001b[0;34m:\u001b[0m\u001b[0;34m\u001b[0m\u001b[0;34m\u001b[0m\u001b[0m\n\u001b[1;32m    449\u001b[0m         \u001b[0;32mwith\u001b[0m \u001b[0mfh\u001b[0m\u001b[0;34m:\u001b[0m\u001b[0;34m\u001b[0m\u001b[0;34m\u001b[0m\u001b[0m\n",
      "\u001b[0;32m/opt/anaconda3/lib/python3.7/site-packages/matplotlib/cbook/__init__.py\u001b[0m in \u001b[0;36mto_filehandle\u001b[0;34m(fname, flag, return_opened, encoding)\u001b[0m\n\u001b[1;32m    430\u001b[0m             \u001b[0mfh\u001b[0m \u001b[0;34m=\u001b[0m \u001b[0mbz2\u001b[0m\u001b[0;34m.\u001b[0m\u001b[0mBZ2File\u001b[0m\u001b[0;34m(\u001b[0m\u001b[0mfname\u001b[0m\u001b[0;34m,\u001b[0m \u001b[0mflag\u001b[0m\u001b[0;34m)\u001b[0m\u001b[0;34m\u001b[0m\u001b[0;34m\u001b[0m\u001b[0m\n\u001b[1;32m    431\u001b[0m         \u001b[0;32melse\u001b[0m\u001b[0;34m:\u001b[0m\u001b[0;34m\u001b[0m\u001b[0;34m\u001b[0m\u001b[0m\n\u001b[0;32m--> 432\u001b[0;31m             \u001b[0mfh\u001b[0m \u001b[0;34m=\u001b[0m \u001b[0mopen\u001b[0m\u001b[0;34m(\u001b[0m\u001b[0mfname\u001b[0m\u001b[0;34m,\u001b[0m \u001b[0mflag\u001b[0m\u001b[0;34m,\u001b[0m \u001b[0mencoding\u001b[0m\u001b[0;34m=\u001b[0m\u001b[0mencoding\u001b[0m\u001b[0;34m)\u001b[0m\u001b[0;34m\u001b[0m\u001b[0;34m\u001b[0m\u001b[0m\n\u001b[0m\u001b[1;32m    433\u001b[0m         \u001b[0mopened\u001b[0m \u001b[0;34m=\u001b[0m \u001b[0;32mTrue\u001b[0m\u001b[0;34m\u001b[0m\u001b[0;34m\u001b[0m\u001b[0m\n\u001b[1;32m    434\u001b[0m     \u001b[0;32melif\u001b[0m \u001b[0mhasattr\u001b[0m\u001b[0;34m(\u001b[0m\u001b[0mfname\u001b[0m\u001b[0;34m,\u001b[0m \u001b[0;34m'seek'\u001b[0m\u001b[0;34m)\u001b[0m\u001b[0;34m:\u001b[0m\u001b[0;34m\u001b[0m\u001b[0;34m\u001b[0m\u001b[0m\n",
      "\u001b[0;31mFileNotFoundError\u001b[0m: [Errno 2] No such file or directory: '../visuals/feature_coefs_lr.png'"
     ]
    },
    {
     "data": {
      "image/png": "[encoded data removed]",
      "text/plain": [
       "<Figure size 1440x720 with 1 Axes>"
      ]
     },
     "metadata": {
      "image/png": {
       "height": 712,
       "width": 1432
      },
      "needs_background": "light"
     },
     "output_type": "display_data"
    }
   ],
   "source": [
    "# graph in bar chart\n",
    "beta_df = simple_df.sort_values(\"absolute_coefs\", ascending = False)\n",
    "beta_df = beta_df.reset_index(drop=True)\n",
    "beta_df = beta_df.set_index('features')\n",
    "beta_df = beta_df[beta_df['absolute_coefs'] != 0] #removes coefficients of 0\n",
    "beta_df.head(20)\n",
    "weights = beta_df['absolute_coefs'].head(30).sort_values()\n",
    "labels = weights.index\n",
    "plt.figure(figsize=(20,10))\n",
    "plt.barh(labels, weights, color = \"#1399F6\")\n",
    "plt.yticks(fontsize=20)\n",
    "plt.xticks(fontsize=20)\n",
    "plt.xlabel('Weights', fontsize=30)\n",
    "plt.title(\"Most Important Features and Weights\", fontsize=42)\n",
    "plt.tight_layout()\n",
    "plt.savefig('../visuals/feature_coefs_lr.png')"
   ]
  },
  {
   "cell_type": "code",
   "execution_count": null,
   "metadata": {},
   "outputs": [],
   "source": [
    "simple_df.sort_values(\"absolute_coefs\", ascending = False).head(20)"
   ]
  },
  {
   "cell_type": "code",
   "execution_count": null,
   "metadata": {},
   "outputs": [],
   "source": [
    "#pred_proba = [i[1] for i in lr.predict_proba(X_test)]\n",
    "\n",
    "#pred_df = pd.DataFrame({'true_values': y_test,\n",
    " #                       'pred_probs':pred_proba})#"
   ]
  },
  {
   "cell_type": "code",
   "execution_count": null,
   "metadata": {},
   "outputs": [],
   "source": [
    "pred_prob_b = [i[1] for i in gs_b.predict_proba(X_test)]\n",
    "\n",
    "pred_df_b = pd.DataFrame({'true_values':y_test,\n",
    "                         'pred_prob':pred_prob_b})"
   ]
  },
  {
   "cell_type": "code",
   "execution_count": null,
   "metadata": {},
   "outputs": [],
   "source": [
    "pred_df_b.head(3)"
   ]
  },
  {
   "cell_type": "code",
   "execution_count": null,
   "metadata": {},
   "outputs": [],
   "source": [
    "plt.figure(figsize= (10,7))\n",
    "\n",
    "plt.hist(pred_df_b['pred_prob'], bins = 25)\n",
    "\n",
    "plt.title('Distribution of Probability of Needs Help', fontsize=20)\n",
    "plt.ylabel('Frequency', fontsize=20)\n",
    "plt.xlabel('Predicted Probability of Needs Help', fontsize=20);"
   ]
  },
  {
   "cell_type": "markdown",
   "metadata": {},
   "source": [
    "## SVC WITH COUNT VECTORIZER - LINEAR KERNAL"
   ]
  },
  {
   "cell_type": "code",
   "execution_count": null,
   "metadata": {},
   "outputs": [],
   "source": [
    "# For hyperparameter C for the SVC searched through many values including 0.1, 1, 1.5, 2, 2.5, 3, 3.5, 4, 5, 10, 20\n",
    "# 100 and found that values between 2 and 3 were highest\n",
    "# Tried all kernals linear, poly and sigmoid, but the default, rbf, was best.\n",
    "pipe_c = Pipeline([\n",
    "    ('cvec_c', CountVectorizer()),\n",
    "    ('svc', SVC(C=2,gamma='scale', kernel='linear', probability=True))\n",
    "])\n",
    "\n",
    "params_c = {\n",
    "    'cvec_c__max_features': [2000, 3000, 4000, 5000],\n",
    "    'cvec_c__min_df': [2, 3],\n",
    "    'cvec_c__max_df': [.9, .95],\n",
    "    'cvec_c__ngram_range': [(1,1), (1,4)],\n",
    "    'cvec_c__stop_words':['english', None]\n",
    "}\n",
    "\n",
    "gs_c = GridSearchCV(pipe_c,params_c, cv=5, n_jobs=3)\n",
    "    \n",
    "gs_c.fit(X_train, y_train)\n",
    "    \n",
    "print(f'Gridsearch with Count Vectorizer for training data is {gs_c.score(X_train, y_train)}')\n",
    "print()\n",
    "print(f'Gridsearch with Count Vectorizer for test data is {gs_c.score(X_test, y_test)}')"
   ]
  },
  {
   "cell_type": "code",
   "execution_count": null,
   "metadata": {},
   "outputs": [],
   "source": [
    "y_pred_c = gs_c.predict(X_test)"
   ]
  },
  {
   "cell_type": "code",
   "execution_count": null,
   "metadata": {},
   "outputs": [],
   "source": [
    "y_pred_c.shape"
   ]
  },
  {
   "cell_type": "markdown",
   "metadata": {},
   "source": [
    "# Predict on new tweets"
   ]
  },
  {
   "cell_type": "code",
   "execution_count": null,
   "metadata": {},
   "outputs": [],
   "source": [
    "df_new = pd.read_csv(\"../Data/all_tweets_clean.csv\")"
   ]
  },
  {
   "cell_type": "code",
   "execution_count": null,
   "metadata": {},
   "outputs": [],
   "source": [
    "df_new = df_new[df_new[\"requesting_help\"].isnull()]"
   ]
  },
  {
   "cell_type": "code",
   "execution_count": null,
   "metadata": {},
   "outputs": [],
   "source": [
    "df_new = df_new[(df_new[\"disaster\"]!= \"floods\")]"
   ]
  },
  {
   "cell_type": "code",
   "execution_count": null,
   "metadata": {},
   "outputs": [],
   "source": [
    "X1 = df_new['text']"
   ]
  },
  {
   "cell_type": "code",
   "execution_count": null,
   "metadata": {},
   "outputs": [],
   "source": [
    "pd.DataFrame(X1).head(3)"
   ]
  },
  {
   "cell_type": "code",
   "execution_count": null,
   "metadata": {},
   "outputs": [],
   "source": [
    "y1 = gs_c.predict(X1)"
   ]
  },
  {
   "cell_type": "code",
   "execution_count": null,
   "metadata": {},
   "outputs": [],
   "source": [
    "df_new[\"requesting_help\"] = y1"
   ]
  },
  {
   "cell_type": "code",
   "execution_count": null,
   "metadata": {},
   "outputs": [],
   "source": [
    "df_new[df_new[\"requesting_help\"] ==1]"
   ]
  },
  {
   "cell_type": "code",
   "execution_count": null,
   "metadata": {},
   "outputs": [],
   "source": [
    "dfc = pd.DataFrame(y_pred_c)\n",
    "dfc[0].value_counts(normalize=True)"
   ]
  },
  {
   "cell_type": "code",
   "execution_count": null,
   "metadata": {},
   "outputs": [],
   "source": [
    "pred_prob_c = [i[1] for i in gs_c.predict_proba(X_test)]\n",
    "\n",
    "pred_df_c = pd.DataFrame({'true_values':y_test,\n",
    "                         'pred_prob':pred_prob_c})"
   ]
  },
  {
   "cell_type": "code",
   "execution_count": null,
   "metadata": {},
   "outputs": [],
   "source": [
    "plt.figure(figsize= (10,7))\n",
    "\n",
    "plt.hist(pred_df_c['pred_prob'], bins = 25)\n",
    "\n",
    "plt.title('Distribution of Probability of Needs Help', fontsize=20)\n",
    "plt.ylabel('Frequency', fontsize=20)\n",
    "plt.xlabel('Predicted Probability of Needs Help', fontsize=20);"
   ]
  },
  {
   "cell_type": "code",
   "execution_count": null,
   "metadata": {},
   "outputs": [],
   "source": [
    "# Measure performance based on accuracy.\n",
    "\n",
    "accuracy_score(y_test, y_pred_c)"
   ]
  },
  {
   "cell_type": "code",
   "execution_count": null,
   "metadata": {},
   "outputs": [],
   "source": [
    "# Generate confusion matrix. From lesson 4.03\n",
    "cm_c = confusion_matrix(y_test, # True values.\n",
    "                 y_pred_c)  # Predicted values.\n",
    "cm_c = pd.DataFrame(cm_c, columns=['pred no help', 'pred needs help'],\n",
    "                   index=['actual no help', 'actual needs help'])\n",
    "cm_c"
   ]
  },
  {
   "cell_type": "code",
   "execution_count": null,
   "metadata": {},
   "outputs": [],
   "source": [
    "# Accuracy is All Correct/All Predictions which is(TP+TN)/(TP+FP+TN+FN)\n",
    "(37+193)/(193+2+20+37)"
   ]
  },
  {
   "cell_type": "code",
   "execution_count": null,
   "metadata": {},
   "outputs": [],
   "source": [
    "# Misclassification is All Incorrect/All Predictions or\n",
    "# (FP+FN)/(TP+FP+TN+FN)\n",
    "(20+2)/(193+2+20+37)"
   ]
  },
  {
   "cell_type": "code",
   "execution_count": null,
   "metadata": {},
   "outputs": [],
   "source": [
    "# Sensitivity AKA Recall is True Positives/All Positives or (TP)/(TP+FN)\n",
    "37/(37+20)"
   ]
  },
  {
   "cell_type": "code",
   "execution_count": null,
   "metadata": {},
   "outputs": [],
   "source": [
    "# Specificity is True Negatives/All Negatives or TN/(TN+FP)\n",
    "193/(193+20)"
   ]
  },
  {
   "cell_type": "code",
   "execution_count": null,
   "metadata": {},
   "outputs": [],
   "source": [
    "# Precision is True Positives/Predicted Positives or TP/(TP+FP)\n",
    "37/(37+2)"
   ]
  },
  {
   "cell_type": "code",
   "execution_count": null,
   "metadata": {},
   "outputs": [],
   "source": [
    "# Type I errors or False Positives is 2\n",
    "# Type II errors of False Negatives is 20."
   ]
  },
  {
   "cell_type": "code",
   "execution_count": null,
   "metadata": {},
   "outputs": [],
   "source": [
    "# save the best model\n",
    "#gs_full_model = gs_full.best_estimator_"
   ]
  },
  {
   "cell_type": "code",
   "execution_count": null,
   "metadata": {},
   "outputs": [],
   "source": [
    "gs_c.best_estimator_"
   ]
  },
  {
   "cell_type": "code",
   "execution_count": null,
   "metadata": {},
   "outputs": [],
   "source": [
    "gs_c_best = gs_c.best_estimator_"
   ]
  },
  {
   "cell_type": "code",
   "execution_count": null,
   "metadata": {},
   "outputs": [],
   "source": [
    "\n",
    "# get feature names\n",
    "features = gs_b_best.named_steps['tfid_b'].get_feature_names()"
   ]
  },
  {
   "cell_type": "code",
   "execution_count": null,
   "metadata": {},
   "outputs": [],
   "source": [
    "# create df\n",
    "simple_df = pd.DataFrame({\"features\": features,\n",
    "                         \"coefficients\": coefs,\n",
    "                         \"absolute_coefs\": np.abs(coefs)})"
   ]
  },
  {
   "cell_type": "code",
   "execution_count": null,
   "metadata": {},
   "outputs": [],
   "source": [
    "# graph in bar chart\n",
    "beta_df = simple_df.sort_values(\"absolute_coefs\", ascending = False)\n",
    "beta_df = beta_df.reset_index(drop=True)\n",
    "beta_df = beta_df.set_index('features')\n",
    "beta_df = beta_df[beta_df['absolute_coefs'] != 0] #removes coefficients of 0\n",
    "beta_df.head(20)\n",
    "weights = beta_df['absolute_coefs'].head(30).sort_values()\n",
    "labels = weights.index\n",
    "plt.figure(figsize=(20,10))\n",
    "plt.barh(labels, weights, color = \"#1399F6\")\n",
    "plt.yticks(fontsize=20)\n",
    "plt.xticks(fontsize=20)\n",
    "plt.xlabel('Weights', fontsize=30)\n",
    "plt.title(\"Most Important Features and Weights\", fontsize=42)\n",
    "plt.tight_layout()\n",
    "plt.savefig('../visuals/feature_coefs_lr.png')"
   ]
  },
  {
   "cell_type": "markdown",
   "metadata": {},
   "source": [
    "## SVC WITH COUNT VECTORIZOR AND RBF KERNAL- BEST PERFORMING MODEL"
   ]
  },
  {
   "cell_type": "code",
   "execution_count": null,
   "metadata": {},
   "outputs": [],
   "source": [
    "# For hyperparameter C for the SVC searched through many values including 0.1, 1, 1.5, 2, 2.5, 3, 3.5, 4, 5, 10, 20\n",
    "# 100 and found that values between 2 and 3 were highest\n",
    "# Tried all kernals linear, poly and sigmoid, but the default, rbf, was best.\n",
    "pipe_r = Pipeline([\n",
    "    ('cvec_r', CountVectorizer()),\n",
    "    ('svc', SVC(C=2,gamma='scale', kernel='rbf', probability=True))\n",
    "])\n",
    "\n",
    "params_r = {\n",
    "    'cvec_r__max_features': [2000, 3000, 4000, 5000],\n",
    "    'cvec_r__min_df': [2, 3],\n",
    "    'cvec_r__max_df': [.9, .95],\n",
    "    'cvec_r__ngram_range': [(1,1), (1,4)],\n",
    "    'cvec_r__stop_words':['english', None]\n",
    "}\n",
    "\n",
    "gs_r = GridSearchCV(pipe_r,params_r, cv=5, n_jobs=3)\n",
    "    \n",
    "gs_r.fit(X_train, y_train)\n",
    "    \n",
    "print(f'Gridsearch with Count Vectorizer for training data is {gs_r.score(X_train, y_train)}')\n",
    "print()\n",
    "print(f'Gridsearch with Count Vectorizer for test data is {gs_r.score(X_test, y_test)}')"
   ]
  },
  {
   "cell_type": "code",
   "execution_count": null,
   "metadata": {},
   "outputs": [],
   "source": [
    "y2 = gs_r.predict(X1)"
   ]
  },
  {
   "cell_type": "code",
   "execution_count": null,
   "metadata": {},
   "outputs": [],
   "source": [
    "y2_df = pd.DataFrame(y2)"
   ]
  },
  {
   "cell_type": "code",
   "execution_count": null,
   "metadata": {},
   "outputs": [],
   "source": [
    "y2_df"
   ]
  },
  {
   "cell_type": "code",
   "execution_count": null,
   "metadata": {},
   "outputs": [],
   "source": [
    "y2_df[0].value_counts()"
   ]
  },
  {
   "cell_type": "markdown",
   "metadata": {},
   "source": [
    "## SVC WITH TFIDF VECTORIZER SECOND BEST MODEL"
   ]
  },
  {
   "cell_type": "code",
   "execution_count": null,
   "metadata": {},
   "outputs": [],
   "source": [
    "pipe_d = Pipeline([\n",
    "    ('tfid_d', TfidfVectorizer()),\n",
    "    ('svc', SVC(C=2,gamma='scale'))\n",
    "])\n",
    "\n",
    "params_d = {\n",
    "    'tfid_d__max_features': [2000, 3000, 4000, 5000],\n",
    "    'tfid_d__min_df': [2, 3],\n",
    "    'tfid_d__max_df': [.9, .95],\n",
    "    'tfid_d__ngram_range': [(1,1), (1,4)],\n",
    "    'tfid_d__stop_words':['english', None]\n",
    "}\n",
    "\n",
    "gs_d = GridSearchCV(pipe_d,params_d, cv=5, n_jobs=3)\n",
    "    \n",
    "gs_d.fit(X_train, y_train)\n",
    "    \n",
    "print(f'Gridsearch with Count Vectorizer for training data is {gs_d.score(X_train, y_train)}')\n",
    "print()\n",
    "print(f'Gridsearch with Count Vectorizer for test data is {gs_d.score(X_test, y_test)}')"
   ]
  },
  {
   "cell_type": "code",
   "execution_count": null,
   "metadata": {},
   "outputs": [],
   "source": [
    "y_pred_d = gs_d.predict(X_test)"
   ]
  },
  {
   "cell_type": "code",
   "execution_count": null,
   "metadata": {},
   "outputs": [],
   "source": [
    "# Measure performance based on accuracy.\n",
    "accuracy_score(y_test, y_pred_d)"
   ]
  },
  {
   "cell_type": "code",
   "execution_count": null,
   "metadata": {},
   "outputs": [],
   "source": [
    "# Generate confusion matrix. From lesson 4.03\n",
    "cm_d = confusion_matrix(y_test, # True values.\n",
    "                 y_pred_d)  # Predicted values.\n",
    "cm_d = pd.DataFrame(cm_d, columns=['pred no help', 'pred needs help'],\n",
    "                   index=['actual no help', 'actual needs help'])\n",
    "cm_d"
   ]
  },
  {
   "cell_type": "code",
   "execution_count": null,
   "metadata": {},
   "outputs": [],
   "source": [
    "# Got code from Vivian which Dan Kim shared in class!\n",
    "def nice_conmat(y_test, y_pred_d, classes):\n",
    "    conmat = confusion_matrix(y_test, y_pred_d)\n",
    "    print(f'Accuracy Score: {accuracy_score(y_test, y_pred_d)}')\n",
    "    return pd.DataFrame(conmat, columns=['Predicted ' +class_ for class_ in classes], \\\n",
    "                index=['Actual '+ class_ for class_ in classes])"
   ]
  },
  {
   "cell_type": "code",
   "execution_count": null,
   "metadata": {},
   "outputs": [],
   "source": [
    "nice_conmat(y_test, y_pred_d, ['No Help Needed', 'Needs Help'])"
   ]
  },
  {
   "cell_type": "code",
   "execution_count": null,
   "metadata": {},
   "outputs": [],
   "source": [
    "# Accuracy is All Correct/All Predictions which is(TP+TN)/(TP+FP+TN+FN)\n",
    "(38+191)/(252)"
   ]
  },
  {
   "cell_type": "code",
   "execution_count": null,
   "metadata": {},
   "outputs": [],
   "source": [
    "# Misclassification is All Incorrect/All Predictions or\n",
    "# (FP+FN)/(TP+FP+TN+FN)\n",
    "(19+4)/252"
   ]
  },
  {
   "cell_type": "code",
   "execution_count": null,
   "metadata": {},
   "outputs": [],
   "source": [
    "# Sensitivity AKA Recall is True Positives/All Positives or (TP)/(TP+FN)\n",
    "38/(38+19)"
   ]
  },
  {
   "cell_type": "code",
   "execution_count": null,
   "metadata": {},
   "outputs": [],
   "source": [
    "# Specificity is True Negatives/All Negatives or TN/(TN+FP)\n",
    "191/(191+19)"
   ]
  },
  {
   "cell_type": "code",
   "execution_count": null,
   "metadata": {},
   "outputs": [],
   "source": [
    "# Precision is True Positives/Predicted Positives or TP/(TP+FP)\n",
    "38/(38+4)"
   ]
  },
  {
   "cell_type": "code",
   "execution_count": null,
   "metadata": {},
   "outputs": [],
   "source": [
    "# Type I errors or False Positives is 4\n",
    "# Type II errors of False Negatives is 19."
   ]
  },
  {
   "cell_type": "markdown",
   "metadata": {},
   "source": [
    "## MULTINOMIAL NAIVE BAYES THIRD BEST MODEL (VERY CLOSE TO SECOND)"
   ]
  },
  {
   "cell_type": "code",
   "execution_count": null,
   "metadata": {},
   "outputs": [],
   "source": [
    "pipe_e = Pipeline([\n",
    "    ('cvec_e', CountVectorizer()),\n",
    "    ('mnb', MultinomialNB())\n",
    "])\n",
    "\n",
    "params_e = {}\n",
    "\n",
    "gs_e = GridSearchCV(pipe_e, params_e, cv=5, n_jobs=3)\n",
    "\n",
    "gs_e.fit(X_train, y_train)\n",
    "\n",
    "print(f'Gridsearch with Count Vectorizer for training data is {gs_e.score(X_train, y_train)}')\n",
    "print(f'Gridsearch with Count Vectorizer for test data is {gs_e.score(X_test, y_test)}')"
   ]
  },
  {
   "cell_type": "code",
   "execution_count": null,
   "metadata": {},
   "outputs": [],
   "source": [
    "X_train.shape"
   ]
  },
  {
   "cell_type": "markdown",
   "metadata": {},
   "source": [
    "## GAUSSIAN NAIVE BAYES"
   ]
  },
  {
   "cell_type": "code",
   "execution_count": null,
   "metadata": {},
   "outputs": [],
   "source": [
    "pipe_f = Pipeline([\n",
    "    ('tfid_e', TfidfVectorizer()),\n",
    "    ('mnb', MultinomialNB())\n",
    "])\n",
    "\n",
    "params_f = {}\n",
    "\n",
    "gs_f = GridSearchCV(pipe_f, params_f, cv=5, n_jobs=3)\n",
    "\n",
    "gs_f.fit(X_train, y_train)\n",
    "\n",
    "print(f'Gridsearch with Tfidf Vectorizer for training data is {gs_f.score(X_train, y_train)}')\n",
    "print(f'Gridsearch with Tfidf Vectorizer for training data is {gs_f.score(X_train, y_train)}')"
   ]
  },
  {
   "cell_type": "code",
   "execution_count": null,
   "metadata": {},
   "outputs": [],
   "source": [
    "y_pred_f = gs_f.predict(X_test)"
   ]
  },
  {
   "cell_type": "code",
   "execution_count": null,
   "metadata": {},
   "outputs": [],
   "source": [
    "# Measure performance based on accuracy.\n",
    "\n",
    "accuracy_score(y_test, y_pred_f)"
   ]
  }
 ],
 "metadata": {
  "kernelspec": {
   "display_name": "Python 3",
   "language": "python",
   "name": "python3"
  },
  "language_info": {
   "codemirror_mode": {
    "name": "ipython",
    "version": 3
   },
   "file_extension": ".py",
   "mimetype": "text/x-python",
   "name": "python",
   "nbconvert_exporter": "python",
   "pygments_lexer": "ipython3",
   "version": "3.7.4"
  }
 },
 "nbformat": 4,
 "nbformat_minor": 2
}
