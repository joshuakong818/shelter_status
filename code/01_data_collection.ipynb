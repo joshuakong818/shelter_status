{
 "cells": [
  {
   "cell_type": "code",
   "execution_count": 1,
   "metadata": {},
   "outputs": [],
   "source": [
    "# Installing requirements \n",
    "# !pip install pyquery\n",
    "# !pip install -r './assets/got_requirements.txt'\n",
    "# !pip install langdetect"
   ]
  },
  {
   "cell_type": "code",
   "execution_count": 1,
   "metadata": {},
   "outputs": [],
   "source": [
    "import pandas as pd\n",
    "import time\n",
    "import GetOldTweets3 as got\n",
    "from langdetect import detect\n",
    "from facebook_scraper import get_posts\n",
    "import pickle"
   ]
  },
  {
   "cell_type": "markdown",
   "metadata": {},
   "source": [
    "## Create function to get tweets from multiple users"
   ]
  },
  {
   "cell_type": "code",
   "execution_count": 2,
   "metadata": {},
   "outputs": [],
   "source": [
    "def get_tweets(users, since_date, until_date, num_tweets):\n",
    "    '''\n",
    "    Pulls tweets from multiple users and returns a pandas dataframe.\n",
    "    Index: date\n",
    "    Columns: text, username\n",
    "    ---\n",
    "    users: List of usernames without the '@' sign\n",
    "    since_date: Date that to start pulling tweets. Input as string \"YYYY-MM-DD\"\n",
    "    until_date: Date that to tweets go up to. Input as string \"YYYY-MM-DD\"\n",
    "    num_tweets: Int. Total number of tweets to pull per user\n",
    "    '''\n",
    "    all_tweets = pd.DataFrame()\n",
    "    for user in users:\n",
    "        tweetCriteria = got.manager.TweetCriteria().setUsername(user).setSince(since_date).setUntil(until_date).setMaxTweets(num_tweets)\n",
    "        tweets = got.manager.TweetManager.getTweets(tweetCriteria)\n",
    "        df = tweets_to_df(tweets)\n",
    "        all_tweets = pd.concat([all_tweets,df])\n",
    "    \n",
    "    all_tweets[\"language\"] = all_tweets[\"text\"].apply(detect)\n",
    "        \n",
    "    return all_tweets\n",
    "        "
   ]
  },
  {
   "cell_type": "markdown",
   "metadata": {},
   "source": [
    "## Create function to convert tweets to dataframe"
   ]
  },
  {
   "cell_type": "code",
   "execution_count": 3,
   "metadata": {},
   "outputs": [],
   "source": [
    "# This code was adapted from Ritchie Kwan's project\n",
    "# https://github.com/rkkwan/disaster-rapid-alert/blob/master/code/01-Gathering-Data.ipynb\n",
    "def tweets_to_df(tweets):\n",
    "    '''\n",
    "    Converts tweets in acquired using GOT into a Pandas dataframe.\n",
    "    Index: date\n",
    "    Columns: text\n",
    "    '''\n",
    "    tweets_list = []\n",
    "    for t in tweets:\n",
    "        tweet_dict = {}\n",
    "        tweet_dict['date'] = t.date\n",
    "        tweet_dict['text'] = t.text\n",
    "        tweet_dict['user'] = t.username\n",
    "        tweets_list.append(tweet_dict)\n",
    "        \n",
    "    tweets_df = pd.DataFrame(tweets_list)\n",
    "    \n",
    "    # convert to time series\n",
    "    tweets_df.set_index(tweets_df['date'], inplace = True)\n",
    "    tweets_df.sort_index(ascending = True)\n",
    "    \n",
    "    return tweets_df[[\"text\", \"user\"]]"
   ]
  },
  {
   "cell_type": "markdown",
   "metadata": {},
   "source": [
    "## Get tweets"
   ]
  },
  {
   "cell_type": "code",
   "execution_count": 4,
   "metadata": {},
   "outputs": [],
   "source": [
    "# list of users to pull tweets from\n",
    "users=[\"CountyofSonoma\", \"create_self\"]\n",
    "sample_tweets = get_tweets(users, \"2019-10-23\", \"2019-11-06\", 50)"
   ]
  },
  {
   "cell_type": "code",
   "execution_count": 5,
   "metadata": {},
   "outputs": [],
   "source": [
    "# filter for tweets in English\n",
    "english_tweets = sample_tweets[sample_tweets[\"language\"] == \"en\"]"
   ]
  },
  {
   "cell_type": "markdown",
   "metadata": {},
   "source": [
    "## Pull Facebook Posts"
   ]
  },
  {
   "cell_type": "code",
   "execution_count": 109,
   "metadata": {},
   "outputs": [],
   "source": [
    "# list of FB pages\n",
    "fb_users = [\"PetalumaHealthCenter\", \"reachforhome\", \"sonomaovernightsupport\", \"westcountycommunityservices\", \"CatholicCharitiesSantaRosa\", \"CommunityActionNapaValley\", \"Christian-Help-Center\", \"meemashouse\", \"saysc\"]"
   ]
  },
  {
   "cell_type": "markdown",
   "metadata": {},
   "source": [
    "## Create function to get tweets from multiple users"
   ]
  },
  {
   "cell_type": "code",
   "execution_count": 120,
   "metadata": {},
   "outputs": [],
   "source": [
    "def get_fb(users, num_pages):\n",
    "    '''\n",
    "    Pulls fb posts from multiple users and returns a pandas dataframe.\n",
    "    Columns: post_id, text, post_text, shared_text, time, image, likes, comments, shares, post_url, link\n",
    "    ---\n",
    "    users: List of usernames \n",
    "    num_pages: Int. Total number of pages to pull per user\n",
    "    '''\n",
    "    fb_list = []    \n",
    "    for user in users:\n",
    "        for post in get_posts(user, pages=num_pages):\n",
    "            fb_posts = {} \n",
    "            fb_posts[\"user\"] = user\n",
    "            fb_posts.update(post)\n",
    "            fb_list.append(fb_posts)\n",
    "    return pd.DataFrame(fb_list)\n",
    "        "
   ]
  },
  {
   "cell_type": "code",
   "execution_count": null,
   "metadata": {},
   "outputs": [],
   "source": [
    "# pull 50 pages of posts per each FB page\n",
    "fb = get_fb(fb_users, 50)"
   ]
  },
  {
   "cell_type": "code",
   "execution_count": 113,
   "metadata": {},
   "outputs": [],
   "source": [
    "# filter for posts around the dates of Kincade fire\n",
    "kincade = fb[(fb[\"time\"] > \"2019-10-23\" )& (fb[\"time\"] < \"2019-12-31\")]"
   ]
  },
  {
   "cell_type": "code",
   "execution_count": 116,
   "metadata": {},
   "outputs": [],
   "source": [
    "# filter for posts that contain fire in the text post\n",
    "kincade_fire = kincade[kincade[\"text\"].str.contains(\"fire\")]"
   ]
  },
  {
   "cell_type": "markdown",
   "metadata": {},
   "source": [
    "## Pickle for later use"
   ]
  },
  {
   "cell_type": "code",
   "execution_count": 119,
   "metadata": {},
   "outputs": [],
   "source": [
    "pickle.dump(kincade_fire, open(\"../Data/kincade_fire_fb.pkl\", \"wb\"))"
   ]
  },
  {
   "cell_type": "code",
   "execution_count": null,
   "metadata": {},
   "outputs": [],
   "source": []
  }
 ],
 "metadata": {
  "kernelspec": {
   "display_name": "Python 3",
   "language": "python",
   "name": "python3"
  },
  "language_info": {
   "codemirror_mode": {
    "name": "ipython",
    "version": 3
   },
   "file_extension": ".py",
   "mimetype": "text/x-python",
   "name": "python",
   "nbconvert_exporter": "python",
   "pygments_lexer": "ipython3",
   "version": "3.7.4"
  }
 },
 "nbformat": 4,
 "nbformat_minor": 2
}
