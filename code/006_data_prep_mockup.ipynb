{
 "cells": [
  {
   "cell_type": "markdown",
   "metadata": {},
   "source": [
    "# Preparing data for dashboard"
   ]
  },
  {
   "cell_type": "markdown",
   "metadata": {},
   "source": [
    "Originally when we cleaned the data, we dropped the screen_name column from the dataframe. In order to gather location data for each user, we had to pull their location from the user profiles. In this notebook, we are re-cleaning the original tweets to get back the screen_name columns."
   ]
  },
  {
   "cell_type": "code",
   "execution_count": 1,
   "metadata": {},
   "outputs": [],
   "source": [
    "import pandas as pd\n",
    "import numpy as np\n",
    "import regex as re\n",
    "import pickle\n",
    "import string\n",
    "from langdetect import detect\n",
    "\n",
    "pd.set_option('display.max_colwidth', -1)\n",
    "\n",
    "pd.set_option('display.max_rows', 1000)\n",
    "#pd.set_option('display.max_columns', 500)"
   ]
  },
  {
   "cell_type": "markdown",
   "metadata": {},
   "source": [
    "## Data cleaning  tweets"
   ]
  },
  {
   "cell_type": "markdown",
   "metadata": {},
   "source": [
    "### Read in all tweets from csv"
   ]
  },
  {
   "cell_type": "code",
   "execution_count": 2,
   "metadata": {},
   "outputs": [
    {
     "name": "stderr",
     "output_type": "stream",
     "text": [
      "/opt/anaconda3/lib/python3.7/site-packages/IPython/core/interactiveshell.py:3058: DtypeWarning: Columns (4,12,18,19) have mixed types. Specify dtype option on import or set low_memory=False.\n",
      "  interactivity=interactivity, compiler=compiler, result=result)\n"
     ]
    }
   ],
   "source": [
    "hurricanes = pd.read_csv(\"../Data/hurricane_tweets.csv\")\n",
    "floods = pd.read_csv(\"../Data/df_floods.csv\")\n",
    "fires = pd.read_csv(\"../Data/all_fires.csv\")"
   ]
  },
  {
   "cell_type": "markdown",
   "metadata": {},
   "source": [
    "#### Merge dataframes into one"
   ]
  },
  {
   "cell_type": "code",
   "execution_count": 3,
   "metadata": {},
   "outputs": [],
   "source": [
    "# merge dataframes together\n",
    "df = pd.concat([hurricanes, floods, fires], sort = False)"
   ]
  },
  {
   "cell_type": "code",
   "execution_count": 4,
   "metadata": {},
   "outputs": [],
   "source": [
    "df.drop(columns = \"Unnamed: 0\", inplace = True)"
   ]
  },
  {
   "cell_type": "code",
   "execution_count": 5,
   "metadata": {},
   "outputs": [],
   "source": [
    "df[\"text\"] = df['text'].astype(str)"
   ]
  },
  {
   "cell_type": "markdown",
   "metadata": {},
   "source": [
    "## Clean text columns"
   ]
  },
  {
   "cell_type": "code",
   "execution_count": 9,
   "metadata": {},
   "outputs": [],
   "source": [
    "#df = df[[\"text\", \"disaster\"]]"
   ]
  },
  {
   "cell_type": "code",
   "execution_count": 10,
   "metadata": {},
   "outputs": [],
   "source": [
    "# lowercase text\n",
    "df[\"text\"] = df[\"text\"].str.lower()\n",
    "\n",
    "\n",
    "\n",
    "# remove URLs\n",
    "df['text'] = df['text'].map(lambda x: re.sub('http[s]?:\\/\\/[^\\s]*', ' ', x))\n",
    "\n",
    "\n",
    "# remove URL cutoffs\n",
    "df['text'] = df['text'].map(lambda x: re.sub('\\\\[^\\s]*', ' ', x))\n",
    "\n",
    "\n",
    "\n",
    "# remove spaces\n",
    "df['text'] = df['text'].map(lambda x: re.sub('\\n', ' ', x))\n",
    "\n",
    "\n",
    "# remove picture URLs\n",
    "df['text'] = df['text'].map(lambda x: re.sub('pic.twitter.com\\/[^\\s]*', ' ', x))\n",
    "\n",
    "# remove blog/map type\n",
    "df['text'] = df['text'].map(lambda x: re.sub('blog\\/maps\\/info\\/[^\\s]*', ' ', x))\n",
    "\n",
    "\n",
    "\n",
    "# remove hashtags =\n",
    "df[\"text\"] = df[\"text\"].map(lambda x: re.sub(\"\\#[\\w]*\", \"\", x))\n",
    "\n",
    "\n",
    "# remove AT users\n",
    "df[\"text\"] = df[\"text\"].map(lambda x: re.sub(\"\\@[\\w]*\", \"\", x))\n",
    "\n",
    "#df['text'] = df['text'].apply(strip_all_entities)\n",
    "\n",
    "\n",
    "\n",
    "# remove single quotations\n",
    "df[\"text\"] = df[\"text\"].map(lambda x: re.sub(\"'\", \"\", x))\n",
    "df[\"text\"] = df[\"text\"].map(lambda x: re.sub(\"'\", \"\", x))\n",
    "\n",
    "\n",
    "\n",
    "\n",
    "# remove characters that are not word characters or digits\n",
    "df[\"text\"] = df[\"text\"].map(lambda x: re.sub(\"[^\\w\\d]\", \" \", x))\n",
    "\n",
    "# remove all characters that are not letters\n",
    "df['text'] = df['text'].map(lambda x: re.sub(\"[^a-zA-Z]\", \" \", x))\n",
    "\n",
    "# remove multiple spaces\n",
    "df['text'] = df['text'].map(lambda x: re.sub(\"\\s{2,6}\", \" \", x))"
   ]
  },
  {
   "cell_type": "code",
   "execution_count": 11,
   "metadata": {},
   "outputs": [],
   "source": [
    "# remove tweets with this url type\n",
    "df = df[~df[\"text\"].str.contains(\"blogmapsinfo\")]"
   ]
  },
  {
   "cell_type": "code",
   "execution_count": 12,
   "metadata": {},
   "outputs": [
    {
     "data": {
      "text/plain": [
       "(77722, 23)"
      ]
     },
     "execution_count": 12,
     "metadata": {},
     "output_type": "execute_result"
    }
   ],
   "source": [
    "df.shape"
   ]
  },
  {
   "cell_type": "code",
   "execution_count": 13,
   "metadata": {},
   "outputs": [],
   "source": [
    "# drop duplicate rows\n",
    "df.drop_duplicates(subset='text', keep='first', inplace=True)"
   ]
  },
  {
   "cell_type": "code",
   "execution_count": 14,
   "metadata": {},
   "outputs": [],
   "source": [
    "# remove multiple spaces\n",
    "df['text'] = df['text'].map(lambda x: re.sub(\"\\s{3,20}\", \"\", x))"
   ]
  },
  {
   "cell_type": "code",
   "execution_count": 15,
   "metadata": {},
   "outputs": [],
   "source": [
    "# drop row with only one space\n",
    "df = df[~(df[\"text\"]== \" \")]"
   ]
  },
  {
   "cell_type": "code",
   "execution_count": 16,
   "metadata": {},
   "outputs": [],
   "source": [
    "# drop row with multiple spaces\n",
    "df = df[~(df[\"text\"]== \"  \")]"
   ]
  },
  {
   "cell_type": "code",
   "execution_count": 17,
   "metadata": {},
   "outputs": [],
   "source": [
    "# drop row with multiple spaces\n",
    "df = df[~(df[\"text\"]== \" \")]"
   ]
  },
  {
   "cell_type": "code",
   "execution_count": 18,
   "metadata": {},
   "outputs": [],
   "source": [
    "# drop empty row\n",
    "df = df[~(df[\"text\"]== \"\")]"
   ]
  },
  {
   "cell_type": "markdown",
   "metadata": {},
   "source": [
    "## Detect languages of tweets"
   ]
  },
  {
   "cell_type": "code",
   "execution_count": 19,
   "metadata": {},
   "outputs": [],
   "source": [
    "# this code was used to test for errors that would prevent the detect function from running\n",
    "# languages = []\n",
    "# for i in range(101,150):\n",
    "#     try:\n",
    "#         languages.append(detect(df.iloc[i, 0]))\n",
    "#     except:\n",
    "#         print(f\"error in row {i}\")"
   ]
  },
  {
   "cell_type": "code",
   "execution_count": 20,
   "metadata": {},
   "outputs": [],
   "source": [
    "# apply detect function on text column\n",
    "df[\"languages\"] = df[\"text\"].apply(detect)"
   ]
  },
  {
   "cell_type": "code",
   "execution_count": 21,
   "metadata": {},
   "outputs": [
    {
     "data": {
      "text/plain": [
       "(63711, 24)"
      ]
     },
     "execution_count": 21,
     "metadata": {},
     "output_type": "execute_result"
    }
   ],
   "source": [
    "df.shape"
   ]
  },
  {
   "cell_type": "code",
   "execution_count": 22,
   "metadata": {},
   "outputs": [],
   "source": [
    "## Select for tweets that are English only\n",
    "## this dropped 3_335 rows \n",
    "df_en = df[df[\"languages\"] == \"en\"]"
   ]
  },
  {
   "cell_type": "code",
   "execution_count": 23,
   "metadata": {},
   "outputs": [
    {
     "data": {
      "text/plain": [
       "(60365, 24)"
      ]
     },
     "execution_count": 23,
     "metadata": {},
     "output_type": "execute_result"
    }
   ],
   "source": [
    "df_en.shape"
   ]
  },
  {
   "cell_type": "markdown",
   "metadata": {},
   "source": [
    "## Continue cleaning on english column"
   ]
  },
  {
   "cell_type": "markdown",
   "metadata": {},
   "source": [
    "Here we are removing multiple copies of the same letter. For example \"thanksssssssss\" is updated to \"thanks\"."
   ]
  },
  {
   "cell_type": "code",
   "execution_count": 24,
   "metadata": {},
   "outputs": [
    {
     "name": "stderr",
     "output_type": "stream",
     "text": [
      "/opt/anaconda3/lib/python3.7/site-packages/pandas/core/indexing.py:494: SettingWithCopyWarning: \n",
      "A value is trying to be set on a copy of a slice from a DataFrame.\n",
      "Try using .loc[row_indexer,col_indexer] = value instead\n",
      "\n",
      "See the caveats in the documentation: http://pandas.pydata.org/pandas-docs/stable/user_guide/indexing.html#returning-a-view-versus-a-copy\n",
      "  self.obj[item] = s\n"
     ]
    }
   ],
   "source": [
    "# Wrote this as a function but it took forever to run, so breaking it out individually\n",
    "# Saving code for future reference\n",
    "\n",
    "# # list of all English letters\n",
    "# letters = list(string.ascii_lowercase)\n",
    "\n",
    "# # list of letters that typically don't repeat twice in an English word\n",
    "# double_letters = [\"q\", \"u\", \"w\", \"y\"]\n",
    "\n",
    "# def remove_repeats(letters):\n",
    "#     for letter in letters:\n",
    "#         if letter in double_letters:\n",
    "#             df_en[\"text\"].map(lambda x: re.sub(re.escape(letter)+\"{2,10}\", re.escape(letter), x))\n",
    "#         else:\n",
    "#             df_en[\"text\"].map(lambda x: re.sub(re.escape(letter)+\"{3,10}\", re.escape(letter), x))\n",
    "\n",
    "\n",
    "# df_en.loc[:, \"text\"] = df_en[\"text\"].map(remove_repeats)\n",
    "\n",
    "df_en.loc[:, \"text\"] = df_en['text'].map(lambda x: re.sub(\"a{3,10}\", \"a\", x))\n",
    "df_en.loc[:, \"text\"] = df_en['text'].map(lambda x: re.sub(\"b{3,10}\", \"b\", x))\n",
    "df_en.loc[:, \"text\"] = df_en['text'].map(lambda x: re.sub(\"c{3,10}\", \"c\", x))\n",
    "df_en.loc[:, \"text\"] = df_en['text'].map(lambda x: re.sub(\"d{3,10}\", \"d\", x))\n",
    "df_en.loc[:, \"text\"] = df_en['text'].map(lambda x: re.sub(\"e{3,10}\", \"e\", x))\n",
    "df_en.loc[:, \"text\"] = df_en['text'].map(lambda x: re.sub(\"f{3,10}\", \"f\", x))\n",
    "df_en.loc[:, \"text\"] = df_en['text'].map(lambda x: re.sub(\"g{3,10}\", \"g\", x))\n",
    "df_en.loc[:, \"text\"] = df_en['text'].map(lambda x: re.sub(\"h{3,10}\", \"h\", x))\n",
    "df_en.loc[:, \"text\"] = df_en['text'].map(lambda x: re.sub(\"i{3,10}\", \"i\", x))\n",
    "df_en.loc[:, \"text\"] = df_en['text'].map(lambda x: re.sub(\"j{3,10}\", \"j\", x))\n",
    "df_en.loc[:, \"text\"] = df_en['text'].map(lambda x: re.sub(\"k{3,10}\", \"k\", x))\n",
    "df_en.loc[:, \"text\"] = df_en['text'].map(lambda x: re.sub(\"l{3,10}\", \"l\", x))\n",
    "df_en.loc[:, \"text\"] = df_en['text'].map(lambda x: re.sub(\"m{3,10}\", \"m\", x))\n",
    "df_en.loc[:, \"text\"] = df_en['text'].map(lambda x: re.sub(\"n{3,10}\", \"n\", x))\n",
    "df_en.loc[:, \"text\"] = df_en['text'].map(lambda x: re.sub(\"o{3,10}\", \"o\", x))\n",
    "df_en.loc[:, \"text\"] = df_en['text'].map(lambda x: re.sub(\"p{3,10}\", \"p\", x))\n",
    "df_en.loc[:, \"text\"] = df_en['text'].map(lambda x: re.sub(\"q{2,10}\", \"q\", x))\n",
    "df_en.loc[:, \"text\"] = df_en['text'].map(lambda x: re.sub(\"r{3,10}\", \"r\", x))\n",
    "df_en.loc[:, \"text\"] = df_en['text'].map(lambda x: re.sub(\"s{3,10}\", \"s\", x))\n",
    "df_en.loc[:, \"text\"] = df_en['text'].map(lambda x: re.sub(\"t{3,10}\", \"t\", x))\n",
    "df_en.loc[:, \"text\"] = df_en['text'].map(lambda x: re.sub(\"u{2,10}\", \"u\", x))\n",
    "df_en.loc[:, \"text\"] = df_en['text'].map(lambda x: re.sub(\"v{3,10}\", \"v\", x))\n",
    "df_en.loc[:, \"text\"] = df_en['text'].map(lambda x: re.sub(\"x{3,10}\", \"x\", x))\n",
    "df_en.loc[:, \"text\"] = df_en['text'].map(lambda x: re.sub(\"y{2,10}\", \"y\", x))\n",
    "df_en.loc[:, \"text\"] = df_en['text'].map(lambda x: re.sub(\"z{3,10}\", \"z\", x))"
   ]
  },
  {
   "cell_type": "code",
   "execution_count": 29,
   "metadata": {},
   "outputs": [
    {
     "data": {
      "text/plain": [
       "(60365, 24)"
      ]
     },
     "execution_count": 29,
     "metadata": {},
     "output_type": "execute_result"
    }
   ],
   "source": [
    "df_en.shape"
   ]
  },
  {
   "cell_type": "code",
   "execution_count": 49,
   "metadata": {},
   "outputs": [],
   "source": [
    "df_en = df_en[[\"screen_name\", \"username\", \"user_id\", \"tweet_id\", \"timestamp\", \"timestamp_epochs\", \"text\"]]"
   ]
  },
  {
   "cell_type": "code",
   "execution_count": 50,
   "metadata": {},
   "outputs": [
    {
     "data": {
      "text/plain": [
       "Index(['screen_name', 'username', 'user_id', 'tweet_id', 'timestamp',\n",
       "       'timestamp_epochs', 'text'],\n",
       "      dtype='object')"
      ]
     },
     "execution_count": 50,
     "metadata": {},
     "output_type": "execute_result"
    }
   ],
   "source": [
    "df_en.columns"
   ]
  },
  {
   "cell_type": "markdown",
   "metadata": {},
   "source": [
    "## Read in previous cleaned data"
   ]
  },
  {
   "cell_type": "markdown",
   "metadata": {},
   "source": [
    "Here we are reading in the previously cleaned data in order to merge back with original df to get the screen_name column."
   ]
  },
  {
   "cell_type": "code",
   "execution_count": 26,
   "metadata": {},
   "outputs": [],
   "source": [
    "# read csv\n",
    "clean_df = pd.read_csv(\"../Data/all_tweets_clean.csv\")"
   ]
  },
  {
   "cell_type": "code",
   "execution_count": 27,
   "metadata": {},
   "outputs": [
    {
     "data": {
      "text/plain": [
       "(60352, 4)"
      ]
     },
     "execution_count": 27,
     "metadata": {},
     "output_type": "execute_result"
    }
   ],
   "source": [
    "clean_df.shape"
   ]
  },
  {
   "cell_type": "markdown",
   "metadata": {},
   "source": [
    "# Merge datasets together to get back usernames"
   ]
  },
  {
   "cell_type": "code",
   "execution_count": 51,
   "metadata": {},
   "outputs": [],
   "source": [
    "merged_df = pd.merge(left=df_en,\n",
    "                     right=clean_df,\n",
    "                     left_on='text', \n",
    "                     right_on='text', how = \"inner\")\n"
   ]
  },
  {
   "cell_type": "code",
   "execution_count": 52,
   "metadata": {},
   "outputs": [
    {
     "data": {
      "text/plain": [
       "(3090, 10)"
      ]
     },
     "execution_count": 52,
     "metadata": {},
     "output_type": "execute_result"
    }
   ],
   "source": [
    "merged_df.shape"
   ]
  },
  {
   "cell_type": "code",
   "execution_count": 57,
   "metadata": {},
   "outputs": [],
   "source": [
    "requesting_help = merged_df[merged_df[\"requesting_help\"].notnull()]"
   ]
  },
  {
   "cell_type": "code",
   "execution_count": 58,
   "metadata": {},
   "outputs": [
    {
     "data": {
      "text/plain": [
       "(125, 10)"
      ]
     },
     "execution_count": 58,
     "metadata": {},
     "output_type": "execute_result"
    }
   ],
   "source": [
    "requesting_help.shape"
   ]
  },
  {
   "cell_type": "markdown",
   "metadata": {},
   "source": [
    "## Write to csv"
   ]
  },
  {
   "cell_type": "code",
   "execution_count": 63,
   "metadata": {},
   "outputs": [],
   "source": [
    "requesting_help.to_csv(\"../Data/requesting_help.csv\", index = False)"
   ]
  }
 ],
 "metadata": {
  "kernelspec": {
   "display_name": "Python 3",
   "language": "python",
   "name": "python3"
  },
  "language_info": {
   "codemirror_mode": {
    "name": "ipython",
    "version": 3
   },
   "file_extension": ".py",
   "mimetype": "text/x-python",
   "name": "python",
   "nbconvert_exporter": "python",
   "pygments_lexer": "ipython3",
   "version": "3.7.4"
  }
 },
 "nbformat": 4,
 "nbformat_minor": 2
}
