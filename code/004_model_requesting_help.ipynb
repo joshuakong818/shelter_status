{
 "cells": [
  {
   "cell_type": "markdown",
   "metadata": {},
   "source": [
    "# Multiclass Classification Model"
   ]
  },
  {
   "cell_type": "code",
<<<<<<< HEAD
   "execution_count": 1,
=======
   "execution_count": 2,
>>>>>>> 7caf77aad8a39af16dafb1aed1e7723fa936f31b
   "metadata": {},
   "outputs": [],
   "source": [
    "import pandas as pd\n",
    "import numpy as np\n",
    "import matplotlib.pyplot as plt\n",
    "import seaborn as sns\n",
    "import pickle\n",
    "from sklearn.preprocessing import StandardScaler\n",
    "from sklearn.feature_extraction.text import TfidfVectorizer\n",
    "from sklearn.pipeline import Pipeline, FeatureUnion\n",
    "from sklearn.svm import SVC\n",
    "from sklearn.model_selection import train_test_split, GridSearchCV, cross_val_score\n",
    "from sklearn.metrics import confusion_matrix\n",
    "from nltk.corpus import stopwords"
   ]
  },
  {
   "cell_type": "markdown",
   "metadata": {},
   "source": [
    "## Read in data"
   ]
  },
  {
   "cell_type": "code",
<<<<<<< HEAD
   "execution_count": 15,
=======
   "execution_count": 3,
>>>>>>> 7caf77aad8a39af16dafb1aed1e7723fa936f31b
   "metadata": {},
   "outputs": [],
   "source": [
    "df = pd.read_csv(\"../Data/all_tweets_clean.csv\")"
   ]
  },
  {
   "cell_type": "code",
<<<<<<< HEAD
   "execution_count": 3,
=======
   "execution_count": 4,
>>>>>>> 7caf77aad8a39af16dafb1aed1e7723fa936f31b
   "metadata": {},
   "outputs": [
    {
     "data": {
      "text/plain": [
       "(60352, 4)"
      ]
     },
<<<<<<< HEAD
     "execution_count": 3,
=======
     "execution_count": 4,
>>>>>>> 7caf77aad8a39af16dafb1aed1e7723fa936f31b
     "metadata": {},
     "output_type": "execute_result"
    }
   ],
   "source": [
    "df.shape"
   ]
  },
  {
   "cell_type": "code",
<<<<<<< HEAD
   "execution_count": 4,
=======
   "execution_count": 5,
>>>>>>> 7caf77aad8a39af16dafb1aed1e7723fa936f31b
   "metadata": {},
   "outputs": [
    {
     "data": {
      "text/plain": [
       "text                   0\n",
       "requesting_help    58867\n",
       "disaster               4\n",
       "languages              0\n",
       "dtype: int64"
      ]
     },
<<<<<<< HEAD
     "execution_count": 4,
=======
     "execution_count": 5,
>>>>>>> 7caf77aad8a39af16dafb1aed1e7723fa936f31b
     "metadata": {},
     "output_type": "execute_result"
    }
   ],
   "source": [
    "df.isnull().sum()"
   ]
  },
  {
   "cell_type": "code",
<<<<<<< HEAD
   "execution_count": 18,
=======
   "execution_count": 6,
>>>>>>> 7caf77aad8a39af16dafb1aed1e7723fa936f31b
   "metadata": {},
   "outputs": [],
   "source": [
    "# Remove NA's in disaster column\n",
    "df.dropna(subset=[\"disaster\"], inplace = True)"
   ]
  },
  {
   "cell_type": "code",
   "execution_count": 12,
   "metadata": {},
   "outputs": [
    {
     "data": {
      "text/plain": [
       "(1485, 4)"
      ]
     },
     "execution_count": 12,
     "metadata": {},
     "output_type": "execute_result"
    }
   ],
   "source": [
    "# Read in training data\n",
    "df_train = pd.read_csv(\"../Data/df3_brian - df3_brian.csv\")\n",
    "df_train.shape"
   ]
  },
  {
   "cell_type": "markdown",
   "metadata": {},
   "source": [
    "## Look at how many values with requesting help"
   ]
  },
  {
   "cell_type": "code",
<<<<<<< HEAD
   "execution_count": 19,
=======
   "execution_count": 8,
>>>>>>> 7caf77aad8a39af16dafb1aed1e7723fa936f31b
   "metadata": {},
   "outputs": [
    {
     "data": {
      "text/plain": [
       "disaster   requesting_help\n",
       "fire       0.0                0.932271\n",
       "           1.0                0.067729\n",
       "floods     0.0                0.680585\n",
       "           1.0                0.319415\n",
       "hurricane  0.0                0.783730\n",
       "           1.0                0.216270\n",
       "Name: requesting_help, dtype: float64"
      ]
     },
<<<<<<< HEAD
     "execution_count": 19,
=======
     "execution_count": 8,
>>>>>>> 7caf77aad8a39af16dafb1aed1e7723fa936f31b
     "metadata": {},
     "output_type": "execute_result"
    }
   ],
   "source": [
    "df.groupby(\"disaster\")[\"requesting_help\"].value_counts(normalize = True)"
   ]
  },
  {
   "cell_type": "markdown",
   "metadata": {},
   "source": [
    "## Split df into training and new data"
   ]
  },
  {
   "cell_type": "code",
   "execution_count": 11,
   "metadata": {},
   "outputs": [],
   "source": [
    "#df_train = df[df[\"requesting_help\"].notnull()]\n",
    "#df_train.shape"
   ]
  },
  {
   "cell_type": "code",
   "execution_count": 10,
   "metadata": {},
   "outputs": [
    {
     "data": {
      "text/plain": [
       "(58863, 4)"
      ]
     },
     "execution_count": 10,
     "metadata": {},
     "output_type": "execute_result"
    }
   ],
   "source": [
    "df_new = df[df[\"requesting_help\"].isnull()]\n",
    "df_new.shape"
   ]
  },
  {
   "cell_type": "markdown",
   "metadata": {},
   "source": [
    "## Set up X and Y variables"
   ]
  },
  {
   "cell_type": "code",
   "execution_count": 13,
   "metadata": {},
   "outputs": [],
   "source": [
    "X = df_train[\"text\"]\n",
    "y = df_train[\"requesting_help\"]"
   ]
  },
  {
   "cell_type": "code",
   "execution_count": 14,
   "metadata": {},
   "outputs": [
    {
     "data": {
      "text/plain": [
       "0    0.836364\n",
       "1    0.163636\n",
       "Name: requesting_help, dtype: float64"
      ]
     },
     "execution_count": 14,
     "metadata": {},
     "output_type": "execute_result"
    }
   ],
   "source": [
    "# check for class sizes\n",
    "y.value_counts(normalize = True)"
   ]
  },
  {
   "cell_type": "code",
   "execution_count": 15,
   "metadata": {},
   "outputs": [],
   "source": [
    "# Split the data into the training and testing sets.\n",
    "X_train, X_test, y_train, y_test = train_test_split(X,\n",
    "                                                    y,\n",
    "                                                    stratify=y,\n",
    "                                                    random_state=42)"
   ]
  },
  {
   "cell_type": "code",
   "execution_count": 16,
   "metadata": {},
   "outputs": [],
   "source": [
    "# for future if we want to add more stop words\n",
    "# ('tvec', TfidfVectorizer(ngram_range = (1,2), stop_words = text.ENGLISH_STOP_WORDS.union(additional_stop_words)))\n",
    "\n",
    "\n",
    "# set up pipeline\n",
    "pipe = Pipeline([\n",
    "            ('tvec', TfidfVectorizer(ngram_range = (1,2), stop_words = \"english\" )),\n",
    "            (\"svc\", SVC(gamma = \"scale\"))\n",
    "\n",
    "])\n",
    "\n",
    "# param options\n",
    "params = {}\n",
    "\n",
    "# run gridsearch\n",
    "gs = GridSearchCV(pipe, params, cv=5, n_jobs= 3)"
   ]
  },
  {
   "cell_type": "code",
   "execution_count": 17,
   "metadata": {},
   "outputs": [
    {
     "data": {
      "text/plain": [
       "(1113,)"
      ]
     },
     "execution_count": 17,
     "metadata": {},
     "output_type": "execute_result"
    }
   ],
   "source": [
    "X_train.shape"
   ]
  },
  {
   "cell_type": "code",
   "execution_count": 18,
   "metadata": {},
   "outputs": [
    {
     "data": {
      "text/plain": [
       "(1113,)"
      ]
     },
     "execution_count": 18,
     "metadata": {},
     "output_type": "execute_result"
    }
   ],
   "source": [
    "y_train.shape"
   ]
  },
  {
   "cell_type": "code",
   "execution_count": 19,
   "metadata": {},
   "outputs": [
    {
     "data": {
      "text/plain": [
       "GridSearchCV(cv=5, error_score='raise-deprecating',\n",
       "             estimator=Pipeline(memory=None,\n",
       "                                steps=[('tvec',\n",
       "                                        TfidfVectorizer(analyzer='word',\n",
       "                                                        binary=False,\n",
       "                                                        decode_error='strict',\n",
       "                                                        dtype=<class 'numpy.float64'>,\n",
       "                                                        encoding='utf-8',\n",
       "                                                        input='content',\n",
       "                                                        lowercase=True,\n",
       "                                                        max_df=1.0,\n",
       "                                                        max_features=None,\n",
       "                                                        min_df=1,\n",
       "                                                        ngram_range=(1, 2),\n",
       "                                                        norm='l2',\n",
       "                                                        preprocessor=None,\n",
       "                                                        smooth_idf=True,\n",
       "                                                        stop_words...\n",
       "                                                        vocabulary=None)),\n",
       "                                       ('svc',\n",
       "                                        SVC(C=1.0, cache_size=200,\n",
       "                                            class_weight=None, coef0=0.0,\n",
       "                                            decision_function_shape='ovr',\n",
       "                                            degree=3, gamma='scale',\n",
       "                                            kernel='rbf', max_iter=-1,\n",
       "                                            probability=False,\n",
       "                                            random_state=None, shrinking=True,\n",
       "                                            tol=0.001, verbose=False))],\n",
       "                                verbose=False),\n",
       "             iid='warn', n_jobs=3, param_grid={}, pre_dispatch='2*n_jobs',\n",
       "             refit=True, return_train_score=False, scoring=None, verbose=0)"
      ]
     },
     "execution_count": 19,
     "metadata": {},
     "output_type": "execute_result"
    }
   ],
   "source": [
    "# run model\n",
    "gs.fit(X_train, y_train)"
   ]
  },
  {
   "cell_type": "code",
   "execution_count": 20,
   "metadata": {},
   "outputs": [
    {
     "data": {
      "text/plain": [
       "0.9937106918238994"
      ]
     },
     "execution_count": 20,
     "metadata": {},
     "output_type": "execute_result"
    }
   ],
   "source": [
    "gs.score(X_train, y_train)"
   ]
  },
  {
   "cell_type": "code",
   "execution_count": 21,
   "metadata": {},
   "outputs": [
    {
     "data": {
      "text/plain": [
       "0.8360215053763441"
      ]
     },
     "execution_count": 21,
     "metadata": {},
     "output_type": "execute_result"
    }
   ],
   "source": [
    "gs.score(X_test, y_test)"
   ]
  },
  {
   "cell_type": "markdown",
   "metadata": {},
   "source": [
    "#### Generate predictions on test data set"
   ]
  },
  {
   "cell_type": "code",
   "execution_count": 22,
   "metadata": {},
   "outputs": [],
   "source": [
    "preds = gs.predict(X_test)"
   ]
  },
  {
   "cell_type": "markdown",
   "metadata": {},
   "source": [
    "## Review Confusion Matrix"
   ]
  },
  {
   "cell_type": "code",
   "execution_count": 23,
   "metadata": {},
   "outputs": [
    {
     "data": {
      "text/plain": [
       "array([[310,   1],\n",
       "       [ 60,   1]])"
      ]
     },
     "execution_count": 23,
     "metadata": {},
     "output_type": "execute_result"
    }
   ],
   "source": [
    "# Generate confusion matrix.\n",
    "# Documentation here: https://scikit-learn.org/stable/modules/generated/sklearn.metrics.confusion_matrix.html\n",
    "# tn, fp  positive = asking for help\n",
    "# fn, tp  negative = not asking for help\n",
    "confusion_matrix(y_test, # True values.\n",
    "                 preds)  # Predicted values."
   ]
  },
  {
   "cell_type": "markdown",
   "metadata": {},
   "source": [
    "## Make Predictions"
   ]
  },
  {
   "cell_type": "code",
   "execution_count": 24,
   "metadata": {},
   "outputs": [],
   "source": [
    "X_new = df_new[\"text\"]"
   ]
  },
  {
   "cell_type": "code",
   "execution_count": 25,
   "metadata": {},
   "outputs": [
    {
     "data": {
      "text/html": [
       "<div>\n",
       "<style scoped>\n",
       "    .dataframe tbody tr th:only-of-type {\n",
       "        vertical-align: middle;\n",
       "    }\n",
       "\n",
       "    .dataframe tbody tr th {\n",
       "        vertical-align: top;\n",
       "    }\n",
       "\n",
       "    .dataframe thead th {\n",
       "        text-align: right;\n",
       "    }\n",
       "</style>\n",
       "<table border=\"1\" class=\"dataframe\">\n",
       "  <thead>\n",
       "    <tr style=\"text-align: right;\">\n",
       "      <th></th>\n",
       "      <th>text</th>\n",
       "      <th>requesting_help</th>\n",
       "      <th>disaster</th>\n",
       "      <th>languages</th>\n",
       "    </tr>\n",
       "  </thead>\n",
       "  <tbody>\n",
       "    <tr>\n",
       "      <th>485</th>\n",
       "      <td>he can t nuke the hurricane from poland</td>\n",
       "      <td>NaN</td>\n",
       "      <td>hurricane</td>\n",
       "      <td>en</td>\n",
       "    </tr>\n",
       "    <tr>\n",
       "      <th>505</th>\n",
       "      <td>y all when i just left to go grab dinner like ...</td>\n",
       "      <td>NaN</td>\n",
       "      <td>hurricane</td>\n",
       "      <td>en</td>\n",
       "    </tr>\n",
       "    <tr>\n",
       "      <th>506</th>\n",
       "      <td>is about to fuck shit up like</td>\n",
       "      <td>NaN</td>\n",
       "      <td>hurricane</td>\n",
       "      <td>en</td>\n",
       "    </tr>\n",
       "    <tr>\n",
       "      <th>507</th>\n",
       "      <td>me after shopping at publix today for food i n...</td>\n",
       "      <td>NaN</td>\n",
       "      <td>hurricane</td>\n",
       "      <td>en</td>\n",
       "    </tr>\n",
       "    <tr>\n",
       "      <th>508</th>\n",
       "      <td>cat thats the projection of the category at la...</td>\n",
       "      <td>NaN</td>\n",
       "      <td>hurricane</td>\n",
       "      <td>en</td>\n",
       "    </tr>\n",
       "  </tbody>\n",
       "</table>\n",
       "</div>"
      ],
      "text/plain": [
       "                                                  text  requesting_help  \\\n",
       "485            he can t nuke the hurricane from poland              NaN   \n",
       "505  y all when i just left to go grab dinner like ...              NaN   \n",
       "506                      is about to fuck shit up like              NaN   \n",
       "507  me after shopping at publix today for food i n...              NaN   \n",
       "508  cat thats the projection of the category at la...              NaN   \n",
       "\n",
       "      disaster languages  \n",
       "485  hurricane        en  \n",
       "505  hurricane        en  \n",
       "506  hurricane        en  \n",
       "507  hurricane        en  \n",
       "508  hurricane        en  "
      ]
     },
     "execution_count": 25,
     "metadata": {},
     "output_type": "execute_result"
    }
   ],
   "source": [
    "df_new.head()"
   ]
  },
  {
   "cell_type": "code",
   "execution_count": 26,
   "metadata": {},
   "outputs": [
    {
     "name": "stderr",
     "output_type": "stream",
     "text": [
      "/opt/anaconda3/lib/python3.7/site-packages/pandas/core/indexing.py:494: SettingWithCopyWarning: \n",
      "A value is trying to be set on a copy of a slice from a DataFrame.\n",
      "Try using .loc[row_indexer,col_indexer] = value instead\n",
      "\n",
      "See the caveats in the documentation: http://pandas.pydata.org/pandas-docs/stable/user_guide/indexing.html#returning-a-view-versus-a-copy\n",
      "  self.obj[item] = s\n"
     ]
    }
   ],
   "source": [
    "df_new.loc[:, \"requesting_help\"] = gs.predict(X_new).astype(int)"
   ]
  },
  {
   "cell_type": "code",
   "execution_count": 27,
   "metadata": {},
   "outputs": [
    {
     "data": {
      "text/plain": [
       "disaster   requesting_help\n",
       "fire       0                  0.999654\n",
       "           1                  0.000346\n",
       "floods     0                  1.000000\n",
       "hurricane  0                  0.998750\n",
       "           1                  0.001250\n",
       "Name: requesting_help, dtype: float64"
      ]
     },
     "execution_count": 27,
     "metadata": {},
     "output_type": "execute_result"
    }
   ],
   "source": [
    "df_new.groupby(\"disaster\")[\"requesting_help\"].value_counts(normalize = True)"
   ]
  },
  {
   "cell_type": "code",
   "execution_count": 28,
   "metadata": {},
   "outputs": [
    {
     "data": {
      "text/html": [
       "<div>\n",
       "<style scoped>\n",
       "    .dataframe tbody tr th:only-of-type {\n",
       "        vertical-align: middle;\n",
       "    }\n",
       "\n",
       "    .dataframe tbody tr th {\n",
       "        vertical-align: top;\n",
       "    }\n",
       "\n",
       "    .dataframe thead th {\n",
       "        text-align: right;\n",
       "    }\n",
       "</style>\n",
       "<table border=\"1\" class=\"dataframe\">\n",
       "  <thead>\n",
       "    <tr style=\"text-align: right;\">\n",
       "      <th></th>\n",
       "      <th>text</th>\n",
       "      <th>requesting_help</th>\n",
       "      <th>disaster</th>\n",
       "      <th>languages</th>\n",
       "    </tr>\n",
       "  </thead>\n",
       "  <tbody>\n",
       "    <tr>\n",
       "      <th>2091</th>\n",
       "      <td>is hosting a second webinar on sept at pm et r...</td>\n",
       "      <td>1</td>\n",
       "      <td>hurricane</td>\n",
       "      <td>en</td>\n",
       "    </tr>\n",
       "    <tr>\n",
       "      <th>3272</th>\n",
       "      <td>please help</td>\n",
       "      <td>1</td>\n",
       "      <td>hurricane</td>\n",
       "      <td>en</td>\n",
       "    </tr>\n",
       "    <tr>\n",
       "      <th>3573</th>\n",
       "      <td>now if you need help on</td>\n",
       "      <td>1</td>\n",
       "      <td>hurricane</td>\n",
       "      <td>en</td>\n",
       "    </tr>\n",
       "    <tr>\n",
       "      <th>3692</th>\n",
       "      <td>help animals in need of help in the path of</td>\n",
       "      <td>1</td>\n",
       "      <td>hurricane</td>\n",
       "      <td>en</td>\n",
       "    </tr>\n",
       "    <tr>\n",
       "      <th>3961</th>\n",
       "      <td>we re still collecting supplies to support our...</td>\n",
       "      <td>1</td>\n",
       "      <td>hurricane</td>\n",
       "      <td>en</td>\n",
       "    </tr>\n",
       "    <tr>\n",
       "      <th>7230</th>\n",
       "      <td>how to help</td>\n",
       "      <td>1</td>\n",
       "      <td>hurricane</td>\n",
       "      <td>en</td>\n",
       "    </tr>\n",
       "    <tr>\n",
       "      <th>7246</th>\n",
       "      <td>we can still help we need to help</td>\n",
       "      <td>1</td>\n",
       "      <td>hurricane</td>\n",
       "      <td>en</td>\n",
       "    </tr>\n",
       "    <tr>\n",
       "      <th>7258</th>\n",
       "      <td>delivers tool to help with</td>\n",
       "      <td>1</td>\n",
       "      <td>hurricane</td>\n",
       "      <td>en</td>\n",
       "    </tr>\n",
       "    <tr>\n",
       "      <th>10071</th>\n",
       "      <td>please help if you can</td>\n",
       "      <td>1</td>\n",
       "      <td>hurricane</td>\n",
       "      <td>en</td>\n",
       "    </tr>\n",
       "    <tr>\n",
       "      <th>11204</th>\n",
       "      <td>any help to after</td>\n",
       "      <td>1</td>\n",
       "      <td>hurricane</td>\n",
       "      <td>en</td>\n",
       "    </tr>\n",
       "    <tr>\n",
       "      <th>11646</th>\n",
       "      <td>gr insight on how help longterm</td>\n",
       "      <td>1</td>\n",
       "      <td>hurricane</td>\n",
       "      <td>en</td>\n",
       "    </tr>\n",
       "    <tr>\n",
       "      <th>11792</th>\n",
       "      <td>can u help get ravished by</td>\n",
       "      <td>1</td>\n",
       "      <td>hurricane</td>\n",
       "      <td>en</td>\n",
       "    </tr>\n",
       "    <tr>\n",
       "      <th>12081</th>\n",
       "      <td>how to help and other after  via</td>\n",
       "      <td>1</td>\n",
       "      <td>hurricane</td>\n",
       "      <td>en</td>\n",
       "    </tr>\n",
       "    <tr>\n",
       "      <th>12119</th>\n",
       "      <td>help those effected by</td>\n",
       "      <td>1</td>\n",
       "      <td>hurricane</td>\n",
       "      <td>en</td>\n",
       "    </tr>\n",
       "    <tr>\n",
       "      <th>12588</th>\n",
       "      <td>here s how to help</td>\n",
       "      <td>1</td>\n",
       "      <td>hurricane</td>\n",
       "      <td>en</td>\n",
       "    </tr>\n",
       "    <tr>\n",
       "      <th>12665</th>\n",
       "      <td>please help me spread the word they need our h...</td>\n",
       "      <td>1</td>\n",
       "      <td>hurricane</td>\n",
       "      <td>en</td>\n",
       "    </tr>\n",
       "    <tr>\n",
       "      <th>12670</th>\n",
       "      <td>please help me spread the word they need our h...</td>\n",
       "      <td>1</td>\n",
       "      <td>hurricane</td>\n",
       "      <td>en</td>\n",
       "    </tr>\n",
       "    <tr>\n",
       "      <th>12750</th>\n",
       "      <td>please help with anything you can</td>\n",
       "      <td>1</td>\n",
       "      <td>hurricane</td>\n",
       "      <td>en</td>\n",
       "    </tr>\n",
       "    <tr>\n",
       "      <th>12774</th>\n",
       "      <td>please help me spread the word the need our he...</td>\n",
       "      <td>1</td>\n",
       "      <td>hurricane</td>\n",
       "      <td>en</td>\n",
       "    </tr>\n",
       "    <tr>\n",
       "      <th>12855</th>\n",
       "      <td>do what you can to help</td>\n",
       "      <td>1</td>\n",
       "      <td>hurricane</td>\n",
       "      <td>en</td>\n",
       "    </tr>\n",
       "    <tr>\n",
       "      <th>13351</th>\n",
       "      <td>please help dominica</td>\n",
       "      <td>1</td>\n",
       "      <td>hurricane</td>\n",
       "      <td>en</td>\n",
       "    </tr>\n",
       "    <tr>\n",
       "      <th>13647</th>\n",
       "      <td>what about vieques dios mio they need help</td>\n",
       "      <td>1</td>\n",
       "      <td>hurricane</td>\n",
       "      <td>en</td>\n",
       "    </tr>\n",
       "    <tr>\n",
       "      <th>13871</th>\n",
       "      <td>what to help</td>\n",
       "      <td>1</td>\n",
       "      <td>hurricane</td>\n",
       "      <td>en</td>\n",
       "    </tr>\n",
       "    <tr>\n",
       "      <th>15789</th>\n",
       "      <td>teaching them how to help themselves</td>\n",
       "      <td>1</td>\n",
       "      <td>hurricane</td>\n",
       "      <td>en</td>\n",
       "    </tr>\n",
       "    <tr>\n",
       "      <th>16148</th>\n",
       "      <td>how to help rafter</td>\n",
       "      <td>1</td>\n",
       "      <td>hurricane</td>\n",
       "      <td>en</td>\n",
       "    </tr>\n",
       "    <tr>\n",
       "      <th>17417</th>\n",
       "      <td>who is in  and also need help</td>\n",
       "      <td>1</td>\n",
       "      <td>hurricane</td>\n",
       "      <td>en</td>\n",
       "    </tr>\n",
       "    <tr>\n",
       "      <th>17665</th>\n",
       "      <td>can you help get these to</td>\n",
       "      <td>1</td>\n",
       "      <td>hurricane</td>\n",
       "      <td>en</td>\n",
       "    </tr>\n",
       "    <tr>\n",
       "      <th>18791</th>\n",
       "      <td>this should help crumble your false narrative</td>\n",
       "      <td>1</td>\n",
       "      <td>hurricane</td>\n",
       "      <td>en</td>\n",
       "    </tr>\n",
       "    <tr>\n",
       "      <th>19074</th>\n",
       "      <td>please help</td>\n",
       "      <td>1</td>\n",
       "      <td>hurricane</td>\n",
       "      <td>en</td>\n",
       "    </tr>\n",
       "    <tr>\n",
       "      <th>23452</th>\n",
       "      <td>can anyone help</td>\n",
       "      <td>1</td>\n",
       "      <td>hurricane</td>\n",
       "      <td>en</td>\n",
       "    </tr>\n",
       "    <tr>\n",
       "      <th>24947</th>\n",
       "      <td>help what is this</td>\n",
       "      <td>1</td>\n",
       "      <td>hurricane</td>\n",
       "      <td>en</td>\n",
       "    </tr>\n",
       "    <tr>\n",
       "      <th>26542</th>\n",
       "      <td>help me ramones i wanna be sedated</td>\n",
       "      <td>1</td>\n",
       "      <td>hurricane</td>\n",
       "      <td>en</td>\n",
       "    </tr>\n",
       "    <tr>\n",
       "      <th>26689</th>\n",
       "      <td>to help</td>\n",
       "      <td>1</td>\n",
       "      <td>hurricane</td>\n",
       "      <td>en</td>\n",
       "    </tr>\n",
       "    <tr>\n",
       "      <th>28510</th>\n",
       "      <td>and help in and</td>\n",
       "      <td>1</td>\n",
       "      <td>hurricane</td>\n",
       "      <td>en</td>\n",
       "    </tr>\n",
       "    <tr>\n",
       "      <th>29240</th>\n",
       "      <td>please please please help out in anyway that y...</td>\n",
       "      <td>1</td>\n",
       "      <td>hurricane</td>\n",
       "      <td>en</td>\n",
       "    </tr>\n",
       "    <tr>\n",
       "      <th>29300</th>\n",
       "      <td>please help me</td>\n",
       "      <td>1</td>\n",
       "      <td>hurricane</td>\n",
       "      <td>en</td>\n",
       "    </tr>\n",
       "    <tr>\n",
       "      <th>29306</th>\n",
       "      <td>please help</td>\n",
       "      <td>1</td>\n",
       "      <td>hurricane</td>\n",
       "      <td>en</td>\n",
       "    </tr>\n",
       "    <tr>\n",
       "      <th>31798</th>\n",
       "      <td>want to help members of our industry impacted ...</td>\n",
       "      <td>1</td>\n",
       "      <td>fire</td>\n",
       "      <td>en</td>\n",
       "    </tr>\n",
       "    <tr>\n",
       "      <th>32128</th>\n",
       "      <td>this week our volunteers are at the local assi...</td>\n",
       "      <td>1</td>\n",
       "      <td>fire</td>\n",
       "      <td>en</td>\n",
       "    </tr>\n",
       "    <tr>\n",
       "      <th>32129</th>\n",
       "      <td>sonoma county and state agencies and local non...</td>\n",
       "      <td>1</td>\n",
       "      <td>fire</td>\n",
       "      <td>en</td>\n",
       "    </tr>\n",
       "    <tr>\n",
       "      <th>36033</th>\n",
       "      <td>how to help</td>\n",
       "      <td>1</td>\n",
       "      <td>fire</td>\n",
       "      <td>en</td>\n",
       "    </tr>\n",
       "    <tr>\n",
       "      <th>42293</th>\n",
       "      <td>help is here please call with all or</td>\n",
       "      <td>1</td>\n",
       "      <td>fire</td>\n",
       "      <td>en</td>\n",
       "    </tr>\n",
       "    <tr>\n",
       "      <th>43278</th>\n",
       "      <td>fire help for carr fire</td>\n",
       "      <td>1</td>\n",
       "      <td>fire</td>\n",
       "      <td>en</td>\n",
       "    </tr>\n",
       "    <tr>\n",
       "      <th>44943</th>\n",
       "      <td>carr fire help arrives from down under</td>\n",
       "      <td>1</td>\n",
       "      <td>fire</td>\n",
       "      <td>en</td>\n",
       "    </tr>\n",
       "    <tr>\n",
       "      <th>46102</th>\n",
       "      <td>this is the local assistance center to help vi...</td>\n",
       "      <td>1</td>\n",
       "      <td>fire</td>\n",
       "      <td>en</td>\n",
       "    </tr>\n",
       "    <tr>\n",
       "      <th>48274</th>\n",
       "      <td>here to help with</td>\n",
       "      <td>1</td>\n",
       "      <td>fire</td>\n",
       "      <td>en</td>\n",
       "    </tr>\n",
       "    <tr>\n",
       "      <th>54980</th>\n",
       "      <td>please help us</td>\n",
       "      <td>1</td>\n",
       "      <td>fire</td>\n",
       "      <td>en</td>\n",
       "    </tr>\n",
       "  </tbody>\n",
       "</table>\n",
       "</div>"
      ],
      "text/plain": [
       "                                                    text  requesting_help  \\\n",
       "2091   is hosting a second webinar on sept at pm et r...                1   \n",
       "3272                                         please help                1   \n",
       "3573                             now if you need help on                1   \n",
       "3692         help animals in need of help in the path of                1   \n",
       "3961   we re still collecting supplies to support our...                1   \n",
       "7230                                         how to help                1   \n",
       "7246                   we can still help we need to help                1   \n",
       "7258                          delivers tool to help with                1   \n",
       "10071                             please help if you can                1   \n",
       "11204                                  any help to after                1   \n",
       "11646                    gr insight on how help longterm                1   \n",
       "11792                         can u help get ravished by                1   \n",
       "12081                   how to help and other after  via                1   \n",
       "12119                             help those effected by                1   \n",
       "12588                                 here s how to help                1   \n",
       "12665  please help me spread the word they need our h...                1   \n",
       "12670  please help me spread the word they need our h...                1   \n",
       "12750                  please help with anything you can                1   \n",
       "12774  please help me spread the word the need our he...                1   \n",
       "12855                            do what you can to help                1   \n",
       "13351                               please help dominica                1   \n",
       "13647         what about vieques dios mio they need help                1   \n",
       "13871                                       what to help                1   \n",
       "15789               teaching them how to help themselves                1   \n",
       "16148                                 how to help rafter                1   \n",
       "17417                      who is in  and also need help                1   \n",
       "17665                          can you help get these to                1   \n",
       "18791      this should help crumble your false narrative                1   \n",
       "19074                                        please help                1   \n",
       "23452                                    can anyone help                1   \n",
       "24947                                  help what is this                1   \n",
       "26542                 help me ramones i wanna be sedated                1   \n",
       "26689                                            to help                1   \n",
       "28510                                    and help in and                1   \n",
       "29240  please please please help out in anyway that y...                1   \n",
       "29300                                     please help me                1   \n",
       "29306                                        please help                1   \n",
       "31798  want to help members of our industry impacted ...                1   \n",
       "32128  this week our volunteers are at the local assi...                1   \n",
       "32129  sonoma county and state agencies and local non...                1   \n",
       "36033                                        how to help                1   \n",
       "42293               help is here please call with all or                1   \n",
       "43278                            fire help for carr fire                1   \n",
       "44943             carr fire help arrives from down under                1   \n",
       "46102  this is the local assistance center to help vi...                1   \n",
       "48274                                  here to help with                1   \n",
       "54980                                     please help us                1   \n",
       "\n",
       "        disaster languages  \n",
       "2091   hurricane        en  \n",
       "3272   hurricane        en  \n",
       "3573   hurricane        en  \n",
       "3692   hurricane        en  \n",
       "3961   hurricane        en  \n",
       "7230   hurricane        en  \n",
       "7246   hurricane        en  \n",
       "7258   hurricane        en  \n",
       "10071  hurricane        en  \n",
       "11204  hurricane        en  \n",
       "11646  hurricane        en  \n",
       "11792  hurricane        en  \n",
       "12081  hurricane        en  \n",
       "12119  hurricane        en  \n",
       "12588  hurricane        en  \n",
       "12665  hurricane        en  \n",
       "12670  hurricane        en  \n",
       "12750  hurricane        en  \n",
       "12774  hurricane        en  \n",
       "12855  hurricane        en  \n",
       "13351  hurricane        en  \n",
       "13647  hurricane        en  \n",
       "13871  hurricane        en  \n",
       "15789  hurricane        en  \n",
       "16148  hurricane        en  \n",
       "17417  hurricane        en  \n",
       "17665  hurricane        en  \n",
       "18791  hurricane        en  \n",
       "19074  hurricane        en  \n",
       "23452  hurricane        en  \n",
       "24947  hurricane        en  \n",
       "26542  hurricane        en  \n",
       "26689  hurricane        en  \n",
       "28510  hurricane        en  \n",
       "29240  hurricane        en  \n",
       "29300  hurricane        en  \n",
       "29306  hurricane        en  \n",
       "31798       fire        en  \n",
       "32128       fire        en  \n",
       "32129       fire        en  \n",
       "36033       fire        en  \n",
       "42293       fire        en  \n",
       "43278       fire        en  \n",
       "44943       fire        en  \n",
       "46102       fire        en  \n",
       "48274       fire        en  \n",
       "54980       fire        en  "
      ]
     },
     "execution_count": 28,
     "metadata": {},
     "output_type": "execute_result"
    }
   ],
   "source": [
    "df_new[df_new[\"requesting_help\"] == 1]"
   ]
  },
  {
   "cell_type": "code",
   "execution_count": null,
   "metadata": {},
   "outputs": [],
   "source": []
  }
 ],
 "metadata": {
  "kernelspec": {
   "display_name": "Python 3",
   "language": "python",
   "name": "python3"
  },
  "language_info": {
   "codemirror_mode": {
    "name": "ipython",
    "version": 3
   },
   "file_extension": ".py",
   "mimetype": "text/x-python",
   "name": "python",
   "nbconvert_exporter": "python",
   "pygments_lexer": "ipython3",
   "version": "3.7.4"
  }
 },
 "nbformat": 4,
 "nbformat_minor": 2
}
