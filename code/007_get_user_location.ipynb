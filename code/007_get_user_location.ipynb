{
 "cells": [
  {
   "cell_type": "code",
   "execution_count": 26,
   "metadata": {},
   "outputs": [],
   "source": [
    "import twitter\n",
    "import pandas as pd"
   ]
  },
  {
   "cell_type": "code",
   "execution_count": 19,
   "metadata": {},
   "outputs": [],
   "source": [
    "from __future__ import unicode_literals"
   ]
  },
  {
   "cell_type": "code",
   "execution_count": 46,
   "metadata": {},
   "outputs": [],
   "source": [
    "api = twitter.Api(consumer_key=\"Fg1Hj8iXy6DjfLU8rO2h1tW6y\",\n",
    "                  consumer_secret=\"W4bwfep1ELehFcH1LDODahnidRcJVbz8LZSDZidaOlyg9NW42q\",\n",
    "                  access_token_key=\"281326158-EE628YRKt5yOr0KpPEEBgDlGCg7eT6Q2eonsAM75\",\n",
    "                  access_token_secret=\"1JJJ9cRYQwSS8Zk1cahgE94j5DWn8h00j0ibLKtzubmM8\")"
   ]
  },
  {
   "cell_type": "markdown",
   "metadata": {},
   "source": [
    "## Read in cleaned data"
   ]
  },
  {
   "cell_type": "code",
   "execution_count": 48,
   "metadata": {},
   "outputs": [],
   "source": [
    "df = pd.read_csv(\"../Data/requesting_help.csv\")"
   ]
  },
  {
   "cell_type": "markdown",
   "metadata": {},
   "source": [
    "## Get location for all the users"
   ]
  },
  {
   "cell_type": "code",
   "execution_count": 50,
   "metadata": {},
   "outputs": [],
   "source": [
    "locations = []\n",
    "\n",
    "def get_locations(users):\n",
    "    for user in users:\n",
    "        twitter_handle = api.GetUser(screen_name = user)\n",
    "        locations.append(twitter_handle.location)"
   ]
  },
  {
   "cell_type": "code",
   "execution_count": 52,
   "metadata": {},
   "outputs": [],
   "source": [
    "# get locations of each user\n",
    "get_locations(df[\"screen_name\"])"
   ]
  },
  {
   "cell_type": "code",
   "execution_count": 53,
   "metadata": {
    "scrolled": true
   },
   "outputs": [],
   "source": [
    "df[\"location\"] = locations"
   ]
  },
  {
   "cell_type": "markdown",
   "metadata": {},
   "source": [
    "## Remove rows with no locations"
   ]
  },
  {
   "cell_type": "code",
   "execution_count": 57,
   "metadata": {},
   "outputs": [],
   "source": [
    "df = df[df[\"location\"].notnull()]"
   ]
  },
  {
   "cell_type": "code",
   "execution_count": 63,
   "metadata": {},
   "outputs": [],
   "source": [
    "df = df[~(df[\"location\"] == \"\")]"
   ]
  },
  {
   "cell_type": "markdown",
   "metadata": {},
   "source": [
    "## Clean locations"
   ]
  },
  {
   "cell_type": "markdown",
   "metadata": {},
   "source": [
    "This was an interative process. I looked through the unique values and dropped rows that were not actual locations. Also standardized location spelling."
   ]
  },
  {
   "cell_type": "code",
   "execution_count": 65,
   "metadata": {},
   "outputs": [],
   "source": [
    "df[\"location\"] = df[\"location\"].str.replace(\"LA\", \"Los Angeles, CA\")"
   ]
  },
  {
   "cell_type": "code",
   "execution_count": 67,
   "metadata": {},
   "outputs": [],
   "source": [
    "df[\"location\"] = df[\"location\"].str.replace(\"오마하 AKA Omaha\", \"Omaha, Ne\")"
   ]
  },
  {
   "cell_type": "code",
   "execution_count": 72,
   "metadata": {},
   "outputs": [],
   "source": [
    "df[\"location\"] = df[\"location\"].str.replace(\" İstanbul \", \"Istanbul, Turkey\")"
   ]
  },
  {
   "cell_type": "code",
   "execution_count": 77,
   "metadata": {},
   "outputs": [],
   "source": [
    "df[\"location\"] = df[\"location\"].str.replace(\"Alanna Jawja\", \"Atlanta, GA\")"
   ]
  },
  {
   "cell_type": "code",
   "execution_count": 79,
   "metadata": {},
   "outputs": [],
   "source": [
    "df[\"location\"] = df[\"location\"].str.replace(\"Alfred University\", \"Alfred, NY\")"
   ]
  },
  {
   "cell_type": "code",
   "execution_count": 83,
   "metadata": {},
   "outputs": [],
   "source": [
    "df[\"location\"] = df[\"location\"].str.replace(\"Austin, Texas 78701\", \"Austin, TX\")"
   ]
  },
  {
   "cell_type": "code",
   "execution_count": 81,
   "metadata": {},
   "outputs": [],
   "source": [
    "df[\"location\"] = df[\"location\"].str.replace(\"Delhi, The Republic of India\", \"Delhi, India\")"
   ]
  },
  {
   "cell_type": "code",
   "execution_count": 85,
   "metadata": {},
   "outputs": [],
   "source": [
    "df[\"location\"] = df[\"location\"].str.replace(\"Los Angeles, Malibu, Calabasas, Agoura,CA\", \"Los Angeles, CA\")"
   ]
  },
  {
   "cell_type": "code",
   "execution_count": 87,
   "metadata": {},
   "outputs": [],
   "source": [
    "df[\"location\"] = df[\"location\"].str.replace(\"Moscow/ Fort Lee\", \"Fort Lee, FL\")"
   ]
  },
  {
   "cell_type": "code",
   "execution_count": 99,
   "metadata": {},
   "outputs": [],
   "source": [
    "# If a user listed 2 cities, I took the first oen\n",
    "df[\"location\"] = df[\"location\"].str.replace(\"Portland, ME & New York, NY\", \"Portland, OR\")\n",
    "df[\"location\"] = df[\"location\"].str.replace(\"LeMars, IA/Lincoln, NE\", \"LeMars, IA\")\n",
    "df[\"location\"] = df[\"location\"].str.replace(\"Erath, Los Angeles, CA\", \"Los Angeles, CA\")\n",
    "df[\"location\"] = df[\"location\"].str.replace(\"London, New York, Los Angeles\", \"London, UK\")\n",
    "df[\"location\"] = df[\"location\"].str.replace(\"Berlin Oudenbosch Dandridge\", \"Berlin, Germany\")\n",
    "df[\"location\"] = df[\"location\"].str.replace(\"United StatesOceana\", \"United States\")\n",
    "df[\"location\"] = df[\"location\"].str.replace(\"DENHAM SPRINGS Louisiana\", \"Denham Springs, LA\")"
   ]
  },
  {
   "cell_type": "code",
   "execution_count": 101,
   "metadata": {},
   "outputs": [],
   "source": [
    "# Drop miscellaneous rows\n",
    "df = df[~(df[\"location\"] == \"225\")]\n",
    "df = df[~(df[\"location\"] == \"Arie Land\")]\n",
    "df = df[~(df[\"location\"] == \"At sea\")]\n",
    "df = df[~(df[\"location\"] == \"BOOKING: 786-220-1688\")]\n",
    "df = df[~(df[\"location\"] == \"Earth, Local, Virtual, Matrix\")]\n",
    "df = df[~(df[\"location\"] == \"EricCiaramella\")]\n",
    "df = df[~(df[\"location\"] == \"Neptunia Sur, Planeptune \")]\n",
    "df = df[~(df[\"location\"] == \"NorCal \")]\n",
    "df = df[~(df[\"location\"] == \"North America\")]\n",
    "df = df[~(df[\"location\"] == \"Planet Earth\")]\n",
    "df = df[~(df[\"location\"] == \"North America\")]\n",
    "df = df[~(df[\"location\"] == \"Where Florida Man Lives\")]\n",
    "df = df[~(df[\"location\"] == \"Worldwide\")]\n",
    "df = df[~(df[\"location\"] == \"the Swamp\")]"
   ]
  },
  {
   "cell_type": "code",
   "execution_count": 89,
   "metadata": {},
   "outputs": [],
   "source": [
    "df = df[~(df[\"location\"] == \"Humanity\")]"
   ]
  },
  {
   "cell_type": "code",
   "execution_count": 102,
   "metadata": {},
   "outputs": [
    {
     "data": {
      "text/plain": [
       "{'Alexandria, VA',\n",
       " 'Alfred, NY',\n",
       " 'Atlanta, GA',\n",
       " 'Austin, TX',\n",
       " 'Beatrice, NE',\n",
       " 'Belleville, NJ',\n",
       " 'Berlin, Germany',\n",
       " 'California, USA',\n",
       " 'Canada',\n",
       " 'Carroll, IA',\n",
       " 'Corpus Christi, TX',\n",
       " 'Delhi, India',\n",
       " 'Denham Springs, LA',\n",
       " 'Devon UK',\n",
       " 'Durham, NC',\n",
       " 'Florida, USA',\n",
       " 'Fort Collins, CO',\n",
       " 'Fort Lee, FL',\n",
       " 'Fremont, NE',\n",
       " 'Gothenburg, NE',\n",
       " 'Grand Island, Nebraska',\n",
       " 'Hong Kong',\n",
       " 'Istanbul, Turkey',\n",
       " 'Jupiter, FL',\n",
       " 'Lafayette, Los Angeles, CA',\n",
       " 'LeMars, IA',\n",
       " 'London, UK',\n",
       " 'Los Angeles',\n",
       " 'Los Angeles, CA',\n",
       " 'Los Angeles, CA ',\n",
       " 'Louisiana, USA',\n",
       " 'Miami, FL',\n",
       " 'Nebraska, USA',\n",
       " 'New York, NY',\n",
       " 'Nova Scotia, Canada',\n",
       " 'Ohio',\n",
       " 'Omaha, Ne',\n",
       " 'Omaha, Ne ',\n",
       " 'Orlando, FL',\n",
       " 'Paradise, CA',\n",
       " 'Pittsburgh, PA',\n",
       " 'Portland, OR',\n",
       " 'Sacramento, CA',\n",
       " 'San Francisco, CA',\n",
       " 'Santa Maria, CA',\n",
       " 'Santa Rosa, CA',\n",
       " 'Seattle, Memphis',\n",
       " 'Staten Island, NY',\n",
       " 'Toronto, Ontario, Canada',\n",
       " 'United Kingdom',\n",
       " 'United States',\n",
       " 'Warner Robins, GA',\n",
       " 'Washington DC',\n",
       " 'West Sonoma Coast, CA'}"
      ]
     },
     "execution_count": 102,
     "metadata": {},
     "output_type": "execute_result"
    }
   ],
   "source": [
    "#\n",
    "set(df[\"location\"])"
   ]
  },
  {
   "cell_type": "markdown",
   "metadata": {},
   "source": [
    "## Write to CSV"
   ]
  },
  {
   "cell_type": "code",
   "execution_count": 103,
   "metadata": {},
   "outputs": [],
   "source": [
    "df.to_csv(\"../Data/requesting_help.csv\", index = False)"
   ]
  },
  {
   "cell_type": "code",
   "execution_count": null,
   "metadata": {},
   "outputs": [],
   "source": []
  }
 ],
 "metadata": {
  "kernelspec": {
   "display_name": "Python 3",
   "language": "python",
   "name": "python3"
  },
  "language_info": {
   "codemirror_mode": {
    "name": "ipython",
    "version": 3
   },
   "file_extension": ".py",
   "mimetype": "text/x-python",
   "name": "python",
   "nbconvert_exporter": "python",
   "pygments_lexer": "ipython3",
   "version": "3.7.4"
  }
 },
 "nbformat": 4,
 "nbformat_minor": 2
}
