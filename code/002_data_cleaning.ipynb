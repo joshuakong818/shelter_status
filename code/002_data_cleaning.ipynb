{
 "cells": [
  {
   "cell_type": "code",
   "execution_count": 252,
   "metadata": {},
   "outputs": [],
   "source": [
    "import pandas as pd\n",
    "import numpy as np\n",
    "import regex as re\n",
    "import pickle\n",
    "import string\n",
    "from langdetect import detect\n",
    "\n",
    "pd.set_option('display.max_colwidth', -1)\n",
    "\n",
    "pd.set_option('display.max_rows', 1000)\n",
    "#pd.set_option('display.max_columns', 500)"
   ]
  },
  {
   "cell_type": "markdown",
   "metadata": {},
   "source": [
    "## Data cleaning hurricane tweets"
   ]
  },
  {
   "cell_type": "markdown",
   "metadata": {},
   "source": [
    "### Read in all hurricane tweets from pickle"
   ]
  },
  {
   "cell_type": "code",
   "execution_count": 278,
   "metadata": {},
   "outputs": [],
   "source": [
    "hurricanes = pd.read_csv(\"../Data/hurricane_tweets.csv\")\n",
    "floods = pd.read_csv(\"../Data/df_floods.csv\")\n",
    "fires = pd.read_csv(\"../Data/all_fires.csv\")"
   ]
  },
  {
   "cell_type": "markdown",
   "metadata": {},
   "source": [
    "#### Merge dataframes into one"
   ]
  },
  {
   "cell_type": "code",
   "execution_count": 279,
   "metadata": {},
   "outputs": [
    {
     "name": "stderr",
     "output_type": "stream",
     "text": [
      "/opt/anaconda3/lib/python3.7/site-packages/ipykernel_launcher.py:2: FutureWarning: Sorting because non-concatenation axis is not aligned. A future version\n",
      "of pandas will change to not sort by default.\n",
      "\n",
      "To accept the future behavior, pass 'sort=False'.\n",
      "\n",
      "To retain the current behavior and silence the warning, pass 'sort=True'.\n",
      "\n",
      "  \n"
     ]
    }
   ],
   "source": [
    "# merge dataframes together\n",
    "df = pd.concat([hurricanes, floods, fires])"
   ]
  },
  {
   "cell_type": "code",
   "execution_count": 280,
   "metadata": {},
   "outputs": [],
   "source": [
    "df.drop(columns = \"Unnamed: 0\", inplace = True)"
   ]
  },
  {
   "cell_type": "code",
   "execution_count": 281,
   "metadata": {},
   "outputs": [
    {
     "data": {
      "text/plain": [
       "fire         40382\n",
       "hurricane    36436\n",
       "floods       896  \n",
       "Name: disaster, dtype: int64"
      ]
     },
     "execution_count": 281,
     "metadata": {},
     "output_type": "execute_result"
    }
   ],
   "source": [
    "df[\"disaster\"].value_counts()"
   ]
  },
  {
   "cell_type": "markdown",
   "metadata": {},
   "source": [
    "## Clean text columns"
   ]
  },
  {
   "cell_type": "code",
   "execution_count": 282,
   "metadata": {},
   "outputs": [],
   "source": [
    "df = df[[\"text\", \"disaster\"]]"
   ]
  },
  {
   "cell_type": "code",
   "execution_count": 283,
   "metadata": {},
   "outputs": [],
   "source": [
    "df[\"text\"] = df['text'].astype(str)"
   ]
  },
  {
   "cell_type": "code",
   "execution_count": 306,
   "metadata": {},
   "outputs": [],
   "source": [
    "#df[df[\"text\"].str.contains(\"blog\")].head(100)"
   ]
  },
  {
   "cell_type": "code",
   "execution_count": 307,
   "metadata": {},
   "outputs": [],
   "source": [
    "# this code was adapted from this stackoverflow answer\n",
    "# https://stackoverflow.com/questions/8376691/how-to-remove-hashtag-user-link-of-a-tweet-using-regular-expression\n",
    "def strip_all_entities(text):\n",
    "    entity_prefixes = ['@','#']\n",
    "    for separator in  string.punctuation:\n",
    "        if separator not in entity_prefixes :\n",
    "            text = text.replace(separator,'')\n",
    "    words = []\n",
    "    for word in text.split():\n",
    "        word = word.strip()\n",
    "        if word:\n",
    "            if word[0] not in entity_prefixes:\n",
    "                words.append(word)\n",
    "    return ' '.join(words)"
   ]
  },
  {
   "cell_type": "code",
   "execution_count": 308,
   "metadata": {},
   "outputs": [],
   "source": [
    "# lowercase text\n",
    "df[\"text\"] = df[\"text\"].str.lower()\n",
    "\n",
    "# remove picture URLs\n",
    "df['text'] = df['text'].map(lambda x: re.sub('pic.twitter.com\\/*', ' ', x))\n",
    "\n",
    "# remove URLs\n",
    "df['text'] = df['text'].map(lambda x: re.sub('http[s]?:\\/\\/[^\\s]*', ' ', x))\n",
    "\n",
    "# remove blog/map type\n",
    "df['text'] = df['text'].map(lambda x: re.sub('blog*maps*', '', x))\n",
    "\n",
    "# remove hashtags and AT users\n",
    "df['text'] = df['text'].apply(strip_all_entities)\n",
    "\n",
    "# remove single quotations\n",
    "df[\"text\"] = df[\"text\"].map(lambda x: re.sub(\"'\", \"\", x))\n",
    "df[\"text\"] = df[\"text\"].map(lambda x: re.sub(\"'\", \"\", x))\n",
    "\n",
    "\n",
    "# remove spaces\n",
    "df['text'] = df['text'].map(lambda x: re.sub('\\n', ' ', x))\n",
    "\n",
    "# remove characters that are not word characters or digits\n",
    "df[\"text\"] = df[\"text\"].map(lambda x: re.sub(\"[^\\w\\d]\", \" \", x))\n",
    "\n",
    "# remove all characters that are not letters\n",
    "df['text'] = df['text'].map(lambda x: re.sub(\"[^a-zA-Z]\", \" \", x))\n",
    "\n",
    "# remove multiple spaces\n",
    "df['text'] = df['text'].map(lambda x: re.sub(\"\\s{2,6}\", \" \", x))"
   ]
  },
  {
   "cell_type": "code",
   "execution_count": 309,
   "metadata": {},
   "outputs": [
    {
     "data": {
      "text/plain": [
       "0        offically tropical storm dorian where is it going tropical depression hurricane dorian track the latest on the storms track in the above youtube link rpmn ewuls                             \n",
       "1        tropical storm dorian projected path spaghetti models t o l wer                                                                                                                              \n",
       "2        futura tormenta tropical pasando por el sur de puerto rico xdbjsyke o                                                                                                                        \n",
       "3        blogmapsinfo jyqlmzsi                                                                                                                                                                        \n",
       "4        blogmapsinfo sj w kpc                                                                                                                                                                        \n",
       "                 ...                                                                                                                                                                                  \n",
       "40377    fantastic news on this winter solstice day all mandatory and voluntary evacuation orders are                                                                                                 \n",
       "40378    all evacuation orders lifted all sb county mandatory and voluntary evacuation orders have been lifted effective am today                                                                     \n",
       "40379    sb county oem all evacuation orders lifted all sb county mandatory and voluntary evacuation orders have been lifted effective am today                                                       \n",
       "40380    rt prime example of teamwork and mutual support within the forestry community                                                                                                                \n",
       "40381    thanks to all the brave firefighters and and everyone else who work so hard to keep us informed and safe we are going home today and so blessed our home is still standing all because of you\n",
       "Name: text, Length: 77722, dtype: object"
      ]
     },
     "execution_count": 309,
     "metadata": {},
     "output_type": "execute_result"
    }
   ],
   "source": [
    "df[\"text\"]"
   ]
  },
  {
   "cell_type": "code",
   "execution_count": 312,
   "metadata": {},
   "outputs": [],
   "source": [
    "# remove tweets with this url type\n",
    "df = df[~df[\"text\"].str.contains(\"blogmapsinfo\")]"
   ]
  },
  {
   "cell_type": "code",
   "execution_count": 316,
   "metadata": {},
   "outputs": [],
   "source": [
    "## filter for English tweets only\n",
    "#df[\"language\"] = df[\"text\"].apply(detect)"
   ]
  },
  {
   "cell_type": "code",
   "execution_count": 318,
   "metadata": {},
   "outputs": [],
   "source": [
    "# drop duplicate rows\n",
    "df.drop_duplicates(subset='text', keep='first', inplace=True)"
   ]
  },
  {
   "cell_type": "code",
   "execution_count": 319,
   "metadata": {},
   "outputs": [
    {
     "data": {
      "text/plain": [
       "0        offically tropical storm dorian where is it going tropical depression hurricane dorian track the latest on the storms track in the above youtube link rpmn ewuls                             \n",
       "1        tropical storm dorian projected path spaghetti models t o l wer                                                                                                                              \n",
       "2        futura tormenta tropical pasando por el sur de puerto rico xdbjsyke o                                                                                                                        \n",
       "5        to become a this week a system located hundreds of miles from the lesser antilles is expected to become tomorrow it is also forecast to become later this week start preparing now kwjsv xpix\n",
       "6        to become a this week a system located hundreds of miles from the lesser antilles is expected to become tomorrow it is also forecast to become later this week start preparing now msrpq mrrz\n",
       "                                                                                                     ...                                                                                              \n",
       "40377    fantastic news on this winter solstice day all mandatory and voluntary evacuation orders are                                                                                                 \n",
       "40378    all evacuation orders lifted all sb county mandatory and voluntary evacuation orders have been lifted effective am today                                                                     \n",
       "40379    sb county oem all evacuation orders lifted all sb county mandatory and voluntary evacuation orders have been lifted effective am today                                                       \n",
       "40380    rt prime example of teamwork and mutual support within the forestry community                                                                                                                \n",
       "40381    thanks to all the brave firefighters and and everyone else who work so hard to keep us informed and safe we are going home today and so blessed our home is still standing all because of you\n",
       "Name: text, Length: 68216, dtype: object"
      ]
     },
     "execution_count": 319,
     "metadata": {},
     "output_type": "execute_result"
    }
   ],
   "source": [
    "df[\"text\"]"
   ]
  },
  {
   "cell_type": "code",
   "execution_count": null,
   "metadata": {},
   "outputs": [],
   "source": []
  }
 ],
 "metadata": {
  "kernelspec": {
   "display_name": "Python 3",
   "language": "python",
   "name": "python3"
  },
  "language_info": {
   "codemirror_mode": {
    "name": "ipython",
    "version": 3
   },
   "file_extension": ".py",
   "mimetype": "text/x-python",
   "name": "python",
   "nbconvert_exporter": "python",
   "pygments_lexer": "ipython3",
   "version": "3.7.4"
  }
 },
 "nbformat": 4,
 "nbformat_minor": 2
}
