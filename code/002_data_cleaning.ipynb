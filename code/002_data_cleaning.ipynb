{
 "cells": [
  {
   "cell_type": "code",
   "execution_count": 1,
   "metadata": {},
   "outputs": [],
   "source": [
    "import pandas as pd\n",
    "import numpy as np\n",
    "import regex as re\n",
    "import pickle\n",
    "import string\n",
    "from langdetect import detect\n",
    "\n",
    "pd.set_option('display.max_colwidth', -1)\n",
    "\n",
    "pd.set_option('display.max_rows', 1000)\n",
    "#pd.set_option('display.max_columns', 500)"
   ]
  },
  {
   "cell_type": "markdown",
   "metadata": {},
   "source": [
    "## Data cleaning hurricane tweets"
   ]
  },
  {
   "cell_type": "markdown",
   "metadata": {},
   "source": [
    "### Read in all hurricane tweets from pickle"
   ]
  },
  {
   "cell_type": "code",
   "execution_count": 2,
   "metadata": {},
   "outputs": [
    {
     "name": "stderr",
     "output_type": "stream",
     "text": [
      "/opt/anaconda3/lib/python3.7/site-packages/IPython/core/interactiveshell.py:3058: DtypeWarning: Columns (4,12,18,19) have mixed types. Specify dtype option on import or set low_memory=False.\n",
      "  interactivity=interactivity, compiler=compiler, result=result)\n"
     ]
    }
   ],
   "source": [
    "hurricanes = pd.read_csv(\"../Data/hurricane_tweets.csv\")\n",
    "floods = pd.read_csv(\"../Data/df_floods.csv\")\n",
    "fires = pd.read_csv(\"../Data/all_fires.csv\")"
   ]
  },
  {
   "cell_type": "markdown",
   "metadata": {},
   "source": [
    "#### Merge dataframes into one"
   ]
  },
  {
   "cell_type": "code",
   "execution_count": 3,
   "metadata": {},
   "outputs": [],
   "source": [
    "# merge dataframes together\n",
    "df = pd.concat([hurricanes, floods, fires], sort = False)"
   ]
  },
  {
   "cell_type": "code",
   "execution_count": 4,
   "metadata": {},
   "outputs": [],
   "source": [
    "df.drop(columns = \"Unnamed: 0\", inplace = True)"
   ]
  },
  {
   "cell_type": "code",
   "execution_count": 5,
   "metadata": {},
   "outputs": [],
   "source": [
    "df[\"text\"] = df['text'].astype(str)"
   ]
  },
  {
   "cell_type": "code",
   "execution_count": 225,
   "metadata": {},
   "outputs": [],
   "source": [
    "# for text in hurricanes[\"text\"]:\n",
    "#     try:\n",
    "#         detect(text)\n",
    "#     except:\n",
    "#         noLang"
   ]
  },
  {
   "cell_type": "code",
   "execution_count": 156,
   "metadata": {},
   "outputs": [],
   "source": [
    "# for key, valu in onlyText.items():\n",
    "#         try:\n",
    "#             if detect(val[0]) !=\"en\":\n",
    "#                 foreignLangs[key]= val\n",
    "#                 foreignLangs[key].append(detect(val[0]))\n",
    "\n",
    "#         except:\n",
    "#             noLang[key] = val"
   ]
  },
  {
   "cell_type": "code",
   "execution_count": 157,
   "metadata": {},
   "outputs": [],
   "source": [
    "# hurricanes[\"language\"] = hurricanes[\"text\"].apply(detect)"
   ]
  },
  {
   "cell_type": "markdown",
   "metadata": {},
   "source": [
    "## Clean text columns"
   ]
  },
  {
   "cell_type": "code",
   "execution_count": 6,
   "metadata": {},
   "outputs": [],
   "source": [
    "df = df[[\"text\", \"disaster\"]]"
   ]
  },
  {
   "cell_type": "code",
   "execution_count": 7,
   "metadata": {},
   "outputs": [
    {
     "data": {
      "text/plain": [
       "\"OFFICALLY TROPICAL STORM DORIAN Where is it Going? Tropical Depression 5 Hurricane Dorian Track 2019 https://youtu.be/SKCqARFvsQw\\xa0 The latest on the STORM'S TRACK!  in the above YOUTUBE LINK!!! @FlyRts @FearRTs @GFXCoach #dorian #florida #hurricane #hurricanedorian #tropicalstormdorianpic.twitter.com/RpMN7ewuLs\""
      ]
     },
     "execution_count": 7,
     "metadata": {},
     "output_type": "execute_result"
    }
   ],
   "source": [
    "df.iloc[0,0]"
   ]
  },
  {
   "cell_type": "code",
   "execution_count": 8,
   "metadata": {
    "scrolled": true
   },
   "outputs": [
    {
     "data": {
      "text/plain": [
       "'#TDFIVE TO BECOME A #Hurricane THIS WEEK\\n\\nA system, located hundreds of miles from the Lesser Antilles, is expected to become #TropicalStormDorian tomorrow.  It is also forecast to become #HurricaneDorian later this week!  Start preparing now!\\n\\n#apexwx #tropics #Atlantic #stormpic.twitter.com/MsRpq4mRRZ'"
      ]
     },
     "execution_count": 8,
     "metadata": {},
     "output_type": "execute_result"
    }
   ],
   "source": [
    "df.iloc[6,0]"
   ]
  },
  {
   "cell_type": "code",
   "execution_count": 9,
   "metadata": {},
   "outputs": [],
   "source": [
    "#df[df[\"text\"].str.contains(\"blog\")].head(100)"
   ]
  },
  {
   "cell_type": "code",
   "execution_count": 10,
   "metadata": {},
   "outputs": [],
   "source": [
    "# this code was adapted from this stackoverflow answer\n",
    "# https://stackoverflow.com/questions/8376691/how-to-remove-hashtag-user-link-of-a-tweet-using-regular-expression\n",
    "def strip_all_entities(text):\n",
    "    entity_prefixes = ['@','#']\n",
    "    for separator in  string.punctuation:\n",
    "        if separator not in entity_prefixes :\n",
    "            text = text.replace(separator,'')\n",
    "    words = []\n",
    "    for word in text.split():\n",
    "        word = word.strip()\n",
    "        if word:\n",
    "            if word[0] not in entity_prefixes:\n",
    "                words.append(word)\n",
    "    return ' '.join(words)"
   ]
  },
  {
   "cell_type": "code",
   "execution_count": 11,
   "metadata": {},
   "outputs": [],
   "source": [
    "# lowercase text\n",
    "df[\"text\"] = df[\"text\"].str.lower()\n",
    "\n",
    "\n",
    "\n",
    "# remove URLs\n",
    "df['text'] = df['text'].map(lambda x: re.sub('http[s]?:\\/\\/[^\\s]*', ' ', x))\n",
    "\n",
    "\n",
    "# remove URL cutoffs\n",
    "df['text'] = df['text'].map(lambda x: re.sub('\\\\[^\\s]*', ' ', x))\n",
    "\n",
    "\n",
    "\n",
    "# remove spaces\n",
    "df['text'] = df['text'].map(lambda x: re.sub('\\n', ' ', x))\n",
    "\n",
    "\n",
    "# remove picture URLs\n",
    "df['text'] = df['text'].map(lambda x: re.sub('pic.twitter.com\\/[^\\s]*', ' ', x))\n",
    "\n",
    "# remove blog/map type\n",
    "df['text'] = df['text'].map(lambda x: re.sub('blog\\/maps\\/info\\/[^\\s]*', '', x))\n",
    "\n",
    "\n",
    "\n",
    "# remove hashtags and AT users\n",
    "df['text'] = df['text'].apply(strip_all_entities)\n",
    "\n",
    "\n",
    "\n",
    "# remove single quotations\n",
    "df[\"text\"] = df[\"text\"].map(lambda x: re.sub(\"'\", \"\", x))\n",
    "df[\"text\"] = df[\"text\"].map(lambda x: re.sub(\"'\", \"\", x))\n",
    "\n",
    "\n",
    "\n",
    "\n",
    "# remove characters that are not word characters or digits\n",
    "df[\"text\"] = df[\"text\"].map(lambda x: re.sub(\"[^\\w\\d]\", \" \", x))\n",
    "\n",
    "# remove all characters that are not letters\n",
    "df['text'] = df['text'].map(lambda x: re.sub(\"[^a-zA-Z]\", \" \", x))\n",
    "\n",
    "# remove multiple spaces\n",
    "df['text'] = df['text'].map(lambda x: re.sub(\"\\s{2,6}\", \"\", x))"
   ]
  },
  {
   "cell_type": "code",
   "execution_count": 12,
   "metadata": {},
   "outputs": [
    {
     "data": {
      "text/plain": [
       "0        offically tropical storm dorian where is it going tropical depressionhurricane dorian trackthe latest on the storms track in the above youtube link                                          \n",
       "1        tropical storm dorian projected path spaghetti models                                                                                                                                        \n",
       "2        futura tormenta tropical pasando por el sur de puerto rico                                                                                                                                   \n",
       "3        blogmapsinfo                                                                                                                                                                                 \n",
       "4        blogmapsinfo                                                                                                                                                                                 \n",
       "             ...                                                                                                                                                                                      \n",
       "40377    fantastic news on this winter solstice day all mandatory and voluntary evacuation orders are                                                                                                 \n",
       "40378    all evacuation orders lifted all sb county mandatory and voluntary evacuation orders have been lifted effectiveam today                                                                      \n",
       "40379    sb county oem all evacuation orders lifted all sb county mandatory and voluntary evacuation orders have been lifted effectiveam today                                                        \n",
       "40380    rt prime example of teamwork and mutual support within the forestry community                                                                                                                \n",
       "40381    thanks to all the brave firefighters and and everyone else who work so hard to keep us informed and safe we are going home today and so blessed our home is still standing all because of you\n",
       "Name: text, Length: 77722, dtype: object"
      ]
     },
     "execution_count": 12,
     "metadata": {},
     "output_type": "execute_result"
    }
   ],
   "source": [
    "df[\"text\"]"
   ]
  },
  {
   "cell_type": "code",
   "execution_count": 13,
   "metadata": {},
   "outputs": [],
   "source": [
    "# remove tweets with this url type\n",
    "df = df[~df[\"text\"].str.contains(\"blogmapsinfo\")]"
   ]
  },
  {
   "cell_type": "code",
   "execution_count": 14,
   "metadata": {},
   "outputs": [],
   "source": [
    "# drop duplicate rows\n",
    "df.drop_duplicates(subset='text', keep='first', inplace=True)"
   ]
  },
  {
   "cell_type": "code",
   "execution_count": 15,
   "metadata": {},
   "outputs": [],
   "source": [
    "df['text'] = df['text'].map(lambda x: re.sub(\"\\s{2,6}\", \"\", x))"
   ]
  },
  {
   "cell_type": "code",
   "execution_count": 16,
   "metadata": {},
   "outputs": [],
   "source": [
    "# drop row with only one space\n",
    "df = df[~(df[\"text\"]== \" \")]"
   ]
  },
  {
   "cell_type": "code",
   "execution_count": 23,
   "metadata": {},
   "outputs": [],
   "source": [
    "# drop empty row\n",
    "df = df[~(df[\"text\"]== \"\")]"
   ]
  },
  {
   "cell_type": "code",
   "execution_count": 17,
   "metadata": {},
   "outputs": [
    {
     "data": {
      "text/plain": [
       "range(0, 62922)"
      ]
     },
     "execution_count": 17,
     "metadata": {},
     "output_type": "execute_result"
    }
   ],
   "source": [
    "range(len(df))"
   ]
  },
  {
   "cell_type": "code",
   "execution_count": 19,
   "metadata": {},
   "outputs": [
    {
     "name": "stdout",
     "output_type": "stream",
     "text": [
      "error in row 30\n"
     ]
    }
   ],
   "source": [
    "languages = []\n",
    "for i in range(len(df)):\n",
    "    try:\n",
    "        languages.append(detect(df.iloc[i, 0]))\n",
    "    except:\n",
    "        print(f\"error in row {i}\")"
   ]
  },
  {
   "cell_type": "code",
   "execution_count": null,
   "metadata": {},
   "outputs": [],
   "source": [
    "## filter for English tweets only\n",
    "df[\"language\"] = df[\"text\"].apply(detect)"
   ]
  },
  {
   "cell_type": "code",
   "execution_count": 24,
   "metadata": {},
   "outputs": [
    {
     "data": {
      "text/plain": [
       "'fuck no dude i have shit planned reeeeee this aint good'"
      ]
     },
     "execution_count": 24,
     "metadata": {},
     "output_type": "execute_result"
    }
   ],
   "source": [
    "df.iloc[30,0]"
   ]
  },
  {
   "cell_type": "code",
   "execution_count": 261,
   "metadata": {},
   "outputs": [
    {
     "data": {
      "text/plain": [
       "'en'"
      ]
     },
     "execution_count": 261,
     "metadata": {},
     "output_type": "execute_result"
    }
   ],
   "source": [
    "detect(df.iloc[0,0])"
   ]
  },
  {
   "cell_type": "code",
   "execution_count": 252,
   "metadata": {},
   "outputs": [
    {
     "data": {
      "text/plain": [
       "0      offically tropical storm dorian where is it going tropical depressionhurricane dorian trackthe latest on the storms track in the above youtube link                                                                                                               \n",
       "1      tropical storm dorian projected path spaghetti models                                                                                                                                                                                                             \n",
       "2      futura tormenta tropical pasando por el sur de puerto rico                                                                                                                                                                                                        \n",
       "5      to become a this week a system located hundreds of miles from the lesser antilles is expected to become tomorrow it is also forecast to become later this week start preparing now                                                                                \n",
       "7      update tropical storm dorian strengthens expected to become hurricane                                                                                                                                                                                             \n",
       "10     live tonightpm estdrailed episodepga tour fed ex cup lightning strike hurricane dorian wizard of oz list                                                                                                                                                          \n",
       "11     my littlexisland doesn t need this still so many houses with go visit ttrump                                                                                                                                                                                      \n",
       "13     ustedes estan siguiendo la noticias del como afectaria esto las grabacciones y la competencia espero alguien conteste                                                                                                                                             \n",
       "14     asestla tormenta tropical la tienemph y una presi n demb                                                                                                                                                                                                          \n",
       "16     breaking news allure of the seas changes itinerary to avoid hurricane dorian overcruisers on ship                                                                                                                                                                 \n",
       "29     what s up                                                                                                                                                                                                                                                         \n",
       "32     here we go better be prepared and hope learned from no to politicians tropical storm dorian forms in atlantic could become hurricane by tuesday                                                                                                                   \n",
       "33     is threatening the caribbean and more storms could soak the us coastmore than likely later this week                                                                                                                                                              \n",
       "34     cruise ships passengers may be affected by hurricane dorian this week may hit puerto rico                                                                                                                                                                         \n",
       "35     it is official we now have are you ready for complete checklist                                                                                                                                                                                                   \n",
       "36     look i m a hurricane and friends and family please be prepared and safe                                                                                                                                                                                           \n",
       "37     yeah i heard lol                                                                                                                                                                                                                                                  \n",
       "38     me thinks if is anything like it s namesake john dorian all it wants is a hug off                                                                                                                                                                                 \n",
       "39     just have your president drop a nuclear bomb to the hurricanit s actually something he suggested                                                                                                                                                                  \n",
       "40     has nothing on vlamis                                                                                                                                                                                                                                             \n",
       "41     south florida about to have a very musical hurricane on our hands                                                                                                                                                                                                 \n",
       "42     and don t forget whats coming to us get your water people or even saturday                                                                                                                                                                                        \n",
       "45     caribbean storm coming we may get the edges of hurricane dorian tomorrow soldier bay                                                                                                                                                                              \n",
       "46     this a serious storm ironico mi nombre y soy kleema como el clima lol word i feal gifted i am kleema el clima                                                                                                                                                     \n",
       "48     sooooo will be im loaded with beer and water                                                                                                                                                                                                                      \n",
       "50     again                                                                                                                                                                                                                                                             \n",
       "51     puerto rico declaring state of emergency                                                                                                                                                                                                                          \n",
       "52     barbados st lucia and everyone in dorian path be safe and be smart                                                                                                                                                                                                \n",
       "53     possible that cant be good                                                                                                                                                                                                                                        \n",
       "54     regarding akai hopw it dont turn intoi hope and others in florida and georgia louisiana alabama mississippi stay well and be well                                                                                                                                 \n",
       "55                                                                                                                                                                                                                                                                       \n",
       "56     fuck no dude i have shit planned reeeeee this aint good                                                                                                                                                                                                           \n",
       "57     hoping this is a good place to share this thread                                                                                                                                                                                                                  \n",
       "58     i have a friend named dorian lived close to me havent seen him in a minute                                                                                                                                                                                        \n",
       "59     being bored on house arrest doesn t mean passing time watching updates                                                                                                                                                                                            \n",
       "60     coverage prepares for possible as tropical storm approaches via broadcast cable in puerto ricomainland usa check local cable listings for wapa america                                                                                                            \n",
       "61     yes sir                                                                                                                                                                                                                                                           \n",
       "62     wait you live in florida                                                                                                                                                                                                                                          \n",
       "63     ay yo you better cut it out bro bad timing i have things planned this weekend bgone wannabe irma i will fight you                                                                                                                                                 \n",
       "64     puerto rico forecast to feel impact of hurricane dorian this week                                                                                                                                                                                                 \n",
       "65     bolet npmaumenta la posibilidad de impacto de al sur de pueblos del sur deben estar preparados                                                                                                                                                                    \n",
       "66     if you want to slow down the upcoming epic levels of fl panic hoarding just nudge the graphic a bit to show the storm may consciously decided to just ignore us hurricanedorian                                                                                   \n",
       "67     will the city be helping puerto rico with recovery post                                                                                                                                                                                                           \n",
       "68     stay the fuck away                                                                                                                                                                                                                                                \n",
       "69     fingers crossed it passes us                                                                                                                                                                                                                                      \n",
       "70     you guys are panicking everything going to be fine please help us                                                                                                                                                                                                 \n",
       "71     stay safe                                                                                                                                                                                                                                                         \n",
       "72     it looks like rain                                                                                                                                                                                                                                                \n",
       "73     well it is that time again right on cue i will keep you all dated but most of all keep all my close friends posted on this because this could be down played tons                                                                                                 \n",
       "74     projected path center omgdorian c                                                                                                                                                                                                                                 \n",
       "75     a little love to this pup in after hurricane maria hoping will sit stay away                                                                                                                                                                                      \n",
       "76     instead of having grey matter in brain he has straw full on brown matter from a donkey shat nuke hurricane dorian lunacy isn t a strong enough word if he only had a brain                                                                                        \n",
       "77     the long line for boxes of water at sams                                                                                                                                                                                                                          \n",
       "78     hurricane dorian is going to hit too close for comfort so we are moving south to be as far as we can get from landfall                                                                                                                                            \n",
       "80     winds ofmiles an hour everyone on the east coast georgia south carolina and north carolina should be prepared for hurricane                                                                                                                                       \n",
       "82     let this storm come and go in peace we the ppl of svg dont need no stress ok                                                                                                                                                                                      \n",
       "86     hurricane has its eyes on central florida we will seewe are due again next weekend maybe another hurricanefrenzy                                                                                                                                                  \n",
       "87     fourth of septemberis theth day of the year weather manipulatorscategoryhurricane                                                                                                                                                                                 \n",
       "88     tropical storm approaching to bridgetown                                                                                                                                                                                                                          \n",
       "89     no esperen al mi rcoles pa capiar                                                                                                                                                                                                                                 \n",
       "90     asestactualmente la tropical frente a en las antillas menoresluce bastante bien parece ser que serdenominado en las pr ximas horas                                                                                                                                \n",
       "92     i was really hoping not to need my annual hurricane supplies list but looks to be heading this way stocking up today just in case                                                                                                                                 \n",
       "93     anywhere from south florida to the outer banks should keep a close on on potential this labor day weekend                                                                                                                                                         \n",
       "94     staff have asked the to do a little practicing with regards to                                                                                                                                                                                                    \n",
       "96     oh god please no                                                                                                                                                                                                                                                  \n",
       "97     i m happyroyalcaribbeanjamesvanfleetand have a today and that we decided to change itinerary and not cruising east towards this week                                                                                                                              \n",
       "98     mr president is bearing down on the south nuke it what what what nuke it                                                                                                                                                                                          \n",
       "99     seems to be on track for times tis the season but still to early to tell                                                                                                                                                                                          \n",
       "100    uhoh                                                                                                                                                                                                                                                              \n",
       "105    our top stories on the summit wraps up today china says it wants to talk again about trade its thest day of classes for students including those at the new downtown campus and could soon be w fl in its path                                                    \n",
       "106    update tropical storm dorian up tomph forecast tracks target florida                                                                                                                                                                                              \n",
       "107    is expected to get a pay raise become grey residents are asked to hide all mirrors kinda like the hid the ships named after senator from trump                                                                                                                    \n",
       "108    expect to morph into greyyeah but don t expect him to be looking into any mirrors to self inspect his rakish digs from the new new pretentiously expensive line                                                                                                   \n",
       "109    dorian could be hurricane when it reaches puerto rico                                                                                                                                                                                                             \n",
       "110    praying for puerto rico i pray that god will protect all families and homes in jesus mighty name                                                                                                                                                                  \n",
       "111    live nowdrailed episodepga tour fed ex cup lightning strike hurricane dorian wizard of oz list                                                                                                                                                                    \n",
       "113    new video by hurricane dorian predictictive programming in literature the invisible death by victor rousseau                                                                                                                                                      \n",
       "114    a link to a gofundme for those being affected by the in the bahamas it has helped in the past with hurricane mathew please use your platform and help share it                                                                                                    \n",
       "115    after disasters like it is inspiring to see individuals and organizations collaborating to meet the needs of those in crisis today we are thrilled to have partnered with and as we provided safe water for their work in the abacos                              \n",
       "116    how convenient to make a or was that also our own government like our military should know or the usa attacked the oil refinery top off i havegallons from                                                                                                        \n",
       "117    help us reach the goal of to help with the usf health relief efforts for the hurricaneravaged every penny helps donate today learn more                                                                                                                           \n",
       "118    family youve already contributed so much for us to aid those who were affected by if you would like to aid us simply lay your contribution at the altar tomorrow atam we ask that you would refrain from sending clothes howeverat fellowship bible baptist church\n",
       "119    the work continueshurricane dorian relief collection sundaypm                                                                                                                                                                                                     \n",
       "120    one week ago today that a crane collapsed that hit a building under construction in halifax because of hurricane dorian                                                                                                                                           \n",
       "121    we are doing our best to help the in their time of need please join usat don julio mexican grill                                                                                                                                                                  \n",
       "122    thousands lost their homes when swept through the please continue to pray for this ongoing crisis pray for help and resolution for disaster victims                                                                                                               \n",
       "123    lutheran world relief is responding to the crisis in the where has caused massive damage we are coordinating with our partners in the caribbean to assess the damage and plan a relief response                                                                   \n",
       "125    think how this would help in areas like the bahamas after would seem to me to be a fairly quick way to help in areas where people have lost their homejust a thought                                                                                              \n",
       "126    moved away from the bahamas after dumping rain on parts of the archipelagos northwest region that were already hammered by two weeks ago the system is currently packing maximum sustained winds ofmph                                                            \n",
       "127    tikitenders weather report palm coast marina tempf humiditywinds northeastmph                                                                                                                                                                                     \n",
       "128    after categoryravaged the bahamas media news outlets completely ignored the incredible ways the private market had already started to help while nobody was paying attention                                                                                      \n",
       "129    thank you to west palm beach for donating overgallons of water for the bahamas                                                                                                                                                                                    \n",
       "130    hurricanedorian                                                                                                                                                                                                                                                   \n",
       "131    thank you councilor ken clifton for the hard work and dedication                                                                                                                                                                                                  \n",
       "132    as part of pbda s various relief effortsnd andrd grades made cards this week for the to deliver to families in the bahamas this weekend the cards will be included in care packages filled with food and hygiene products                                         \n",
       "133    we re still collecting supplies to support our brothers sisters recently impacted by in the bahamas review the relief items needed and help us help them by picking up some of the items and dropping them off at the on tomorrow during worship                  \n",
       "134    heartrapid response teamreports the devastation in the bahamas is difficult to comprehend                                                                                                                                                                         \n",
       "135    un peu de l information technique avant de discuter les effets de sur les peuples l environnement le gouvernement lconomie des bahamas bringing into the classroom                                                                                                \n",
       "136    forced blood drive cancellations donation center closures in impacted areas in times like these we call on donors across the us to step up and help out to ensure blood needs can be met in storm impacted areas around the us give                               \n",
       "137    thanks to all who came to top golf yesterday we were also able to gather a lot of donations for hurricane dorian relief                                                                                                                                           \n",
       "138    help me help the victims of hurricane dorian                                                                                                                                                                                                                      \n",
       "139    how you can help in the wake of on the list donate blood learn more at                                                                                                                                                                                            \n",
       "140    well there is the solution to a problem already in practice                                                                                                                                                                                                       \n",
       "141    thank you cama and everyone who came out and participated and donated in the relief fund it was a great success and we are continuing to accept donations at any                                                                                                  \n",
       "142    grand bahama just in lashes an already devastated parts with heavy rain and strong winds on saturday hurricanedorian reports                                                                                                                                      \n",
       "143    country music allstars coming together with to raise money for the relief efforts in the bahamas victims tune in and thanks                                                                                                                                       \n",
       "144    in the wake of nick sealythompson is embedded in the bahamasnational emergency management agency s eoc working with government and relief agencies to coordinate logistic support and id critical infrastructure needs                                            \n",
       "145    its still not too late a day out for a                                                                                                                                                                                                                            \n",
       "147    our hearts with victims we pray for god give them safety calling for global to supporting you un general secretary for your biggest efforts                                                                                                                       \n",
       "148    it s our fgm come see what our club is all about andor drop off any of your donations                                                                                                                                                                             \n",
       "149    as response to continues dr erin hughey of pdc discusses how megastorms are leading to changes in anticipatory sciences and the role of the national disaster preparedness baseline assessment                                                                    \n",
       "150    el mejor de la donde d lares para la recuperaci n de las devastadas por el he is                                                                                                                                                                                  \n",
       "151    have you checked out the latest episodes of this past week we talk crypto cannabis ty to our sponsors and for making it happen you can hear it all at shout out to                                                                                                \n",
       "152    bbc news new storm hits two weeks afterstorm                                                                                                                                                                                                                      \n",
       "153    chillin in my new shirt thanks and for donating the proceeds to acts of kindness for victims                                                                                                                                                                      \n",
       "154     we care for you and although this may take time we will get through this togethersaid peter kerr president of the church in the atlantic caribbean union to dozens of church members from abaco and grand bahama taking shelter across after                     \n",
       "155    grateful to be listed on as an organization providing relief to those impacted by                                                                                                                                                                                 \n",
       "156    the other night my customers thanked me forbringing joy to their eveningand then left an incredibly generous tip so i decided to pay some of it forward to two causes that have been weighing heavy on my heart this month                                        \n",
       "157    we need all hands on deck for our path to recovery united we will grow stronger                                                                                                                                                                                   \n",
       "158     become tender with the earthwas a it s past time for                                                                                                                                                                                                             \n",
       "159    reached categoryintensity on septemberbecoming the strongest to affect the northwestern bahamas in the modern record via                                                                                                                                          \n",
       "160    rt undp rt antonioguterres i just landed in abaco in the bahamas i m horrified by the level of devastation i ve never seen anything like this was not categorybut category hell it s time to wake up and take urgent                                              \n",
       "162    please join and help support relief efforts text dorian to to donate                                                                                                                                                                                              \n",
       "163    job openings our applications are now open for the as we ramp up our operations after we are looking to fill a couple of key positions please share rt or directly apply here                                                                                     \n",
       "167    rihanna to help bahamas recovery                                                                                                                                                                                                                                  \n",
       "168    thread by                                                                                                                                                                                                                                                         \n",
       "169    top story this is the control room from where the response to is being coordinated by the bahamas government other organizations i was very proud to see un colleagues be part ofsee more                                                                         \n",
       "170    finally got out to photograph some of the birds that hurricane dorian brought in this laughing gull was the perfect model today at sunrise                                                                                                                        \n",
       "171    still reeling from dorian bahamas faces tropical storm humberto                                                                                                                                                                                                   \n",
       "172    long day for teamteamfrom our rescue response team                                                                                                                                                                                                                \n",
       "173    astra club is having a bake sale on tuesday septemberall proceeds will go to a bahamas relief fund to provide assistance for damage from hurricane dorian                                                                                                         \n",
       "175    just arrived back in terracebc and saw my english professor at walmart and the way he hugged me and told me he was so happy to see me made me even more grateful                                                                                                  \n",
       "176    thank you for hosting this project through their allowing our players the opportunity to help prepare for the victims of in the                                                                                                                                   \n",
       "177    luxe carnival hurricane dorian relief drivedonations of any value are welcomed and appreciated all proceeds go directly to the bahamas for hurricane relief efforts                                                                                               \n",
       "178    dear this is what a real looks sounds and acts like sadly you wouldn t know anything about this so just continue directing government business to your resorts you are disgusting                                                                                 \n",
       "179    we miss having a who cares about people                                                                                                                                                                                                                           \n",
       "180    rt i just landed in abaco in the bahamas i m horrified by the level of devastation i ve never seen anything like this was not categorybut category hell it s time to wake up and take urgent                                                                      \n",
       "181    so proud of our inhours they helped pack meals to go to the to help the victims of today was an amazing day to be an eagle                                                                                                                                        \n",
       "182    are you and your pet ready for download your free disaster preparedness checklist now                                                                                                                                                                             \n",
       "183    join me in partnering with to deliver help and hope to those affected by in the bahamas                                                                                                                                                                           \n",
       "184    about that life feat lil joey prod by lothamonsta and ariaizagc via thank y all for supportingabout that lifeclick here if u about that                                                                                                                           \n",
       "186    naples fla billionaire philanthropist his yacht todelivertons of supplies to torn global very caringthank you now is hitting                                                                                                                                      \n",
       "187    according toofimpacted overmillion people may have passed but isn t over yet                                                                                                                                                                                      \n",
       "188    helping some bahamian children in the aftermath of this weeeknd                                                                                                                                                                                                   \n",
       "189    headknowlesfoundation needs your help in their new location                                                                                                                                                                                                       \n",
       "190    dorian update as new storms threaten the safety of the people of the nethope works to bring the powerline of to aid first responders those already impacted by keep this work going with your gift                                                                \n",
       "191    if you are on and lost belongings due to please see this article for particulars on how you may qualify to receive some funds funds provided will not be clawed back                                                                                              \n",
       "193    they lostof their companions in now these and are ready for new homesvia cc                                                                                                                                                                                       \n",
       "194    hi my name is sam wyatt and i want to help the people in the bahamas that lost everything to hurricane dorian i made these hats to help those in needof the proceeds will go to a hurricane dorian bahamas relief fund                                            \n",
       "195    football resumes atlantic too much for seabreeze local prep teams are glad to be back to playing after wiped out games and practices last week on monday                                                                                                          \n",
       "196    i went to kellys to support the survivors of by giving blood i was the last donor of the day kellys house and home                                                                                                                                                \n",
       "197    join fellows this sunday septfrompm at thelincoln road stage for a free benefit concert for those needing monetary help in the bahamas after being hit by                                                                                                         \n",
       "198    an anonymous shopper is being praised for spending thousands of dollars on electrical to benefit victims in the                                                                                                                                                   \n",
       "199    were hosting a second webinar on septatpm et register and join us to learn about the situation on the ground in affected communities and how best to support longterm recovery                                                                                    \n",
       "200    meet the cats who survived the bahamas hurricane now theyre in and need your help                                                                                                                                                                                 \n",
       "201    newsweek florida governor ron desantis wants bahamians fleeing widespread destruction caused by to stop coming to his state                                                                                                                                       \n",
       "202    passend zu k nnt ihr nat rlich auch alle in den teamfarben bestellen einfach anfragen spenden gehen ebenfalls an die opfer auf den                                                                                                                                \n",
       "203    if you haven t sent anything yet take some time this weekend and send some needed supplies to the bahamas and survivors even if it sit helps i m sending old clothes and lots of canned soups                                                                     \n",
       "206    a second floridatobahamas roundtrip humanitarian cruise was set to sail this weekend                                                                                                                                                                              \n",
       "207    was a injustice the                                                                                                                                                                                                                                               \n",
       "208    proud to partner with which today delivered emergency relief supplies to to help communities affected by a great example of the us government us private sector working together to save lives                                                                    \n",
       "209    raises alarm on                                                                                                                                                                                                                                                   \n",
       "210    sol reliefs hangar may be full but jj lyon guard foundation is still accepting relief supplies addressnorthth street tampa opendays per weekam topm here is a photo of some of thelbs of supplies thank you                                                       \n",
       "211    now that is long past i figured it was time to come up fired a off a ping today but it ended up being a zping sorry                                                                                                                                               \n",
       "212    thousands of to find after                                                                                                                                                                                                                                        \n",
       "213    adisaster distress helpline is available at the provides immediate crisis counseling for people who are experiencing emotional distress related to disasters like                                                                                                 \n",
       "214    has restored tocustomers in eastern following                                                                                                                                                                                                                     \n",
       "215    please if you can                                                                                                                                                                                                                                                 \n",
       "216    theres more trouble for the hurricaneravaged is threatening island creating new worries for more thanpeople living in shelters after                                                                                                                              \n",
       "217    of abscbnball                                                                                                                                                                                                                                                     \n",
       "218    una de las tantas v as afectadas por el hurac n dorian a su paso por freeport grand bahama septiembreon assignment for                                                                                                                                            \n",
       "219    thank you to all those who have donated to our emergency response together we can help restore health and hope to those in need in the be part of the response today                                                                                              \n",
       "220    rt antonioguterres i just landed in abaco in the bahamas i m horrified by the level of devastation i ve never seen anything like this was not categorybut category hell it s time to wake up and take urgent                                                      \n",
       "222    our visitor center is teaming up with to assist those impacted by through the month of september dropoff nonperishable food water toiletries batteries flashlights and baby products toadventure court davenport fl                                               \n",
       "224    for this weeks find a way to help those affected by it could be something as simple as a prayer to help fund our disaster relief efforts in the bahamas click here                                                                                                \n",
       "225    rt we re encouraging all realtorsand friends to donate to the to help those impacted by let s show the world how realtors care                                                                                                                                    \n",
       "226    infrastructure climate change after dorian has drowned the and devastated the coasts of north and south there are trillions of dollarsworth of damages                                                                                                            \n",
       "227    wheels up huge thanks to search rescue an amazing group of people dogs who worked so hard on response searching more thank homes buildings in the for survivors safe travels as you head home to                                                                  \n",
       "228    i just landed in abaco in the bahamas i m horrified by the level of devastation i ve never seen anything like this was not categorybut category hell it s time to wake up and take urgent                                                                         \n",
       "229    humanitarian aid is still needed to help the people of the bahamas ravaged by have a read and please donate hereplease rt                                                                                                                                         \n",
       "230    just landed more has arrived in thanks to our partner the critical relief supplies delivered today will help at least people recovering from                                                                                                                      \n",
       "231    lashes seen becoming just weeks after ravaged the islands                                                                                                                                                                                                         \n",
       "232    to the people of the bahamas we are humbled by your strength and resilience after we wish you the best in your ongoing rebuilding and recovery                                                                                                                    \n",
       "235    tropical storm lashed the with rain and wind on saturday possibly slowing down relief efforts in the wake of the devastation wrought less than two weeks ago by                                                                                                   \n",
       "236    starting week off right with a donation with hit                                                                                                                                                                                                                  \n",
       "237    trump hurricane dorian                                                                                                                                                                                                                                            \n",
       "238    data shows adrop in the number of federal flood insurance policies in thecounties that were under evacuation orders education is needed to help property owners understand                                                                                        \n",
       "239    the situation in the remains critical with thousands left homeless and food and water scarce please continue to pray that relief and hope would touch the lives of those who have lost so much                                                                    \n",
       "240    the devastation of the bahamas caused by is heartbreaking homes schools and businesses no longer exist people are in dire need of medical care shelter food water clothing and materials to rebuild this weekends is for disaster relief                          \n",
       "241    on the ground un secretarygeneral showing support to all humanitarian workers in the most badly affected area in the                                                                                                                                              \n",
       "242    just bought a tee so happy thatcwspnteamed up with hot topic to help with lets break the site againjensenacklesjarpadmishacollins                                                                                                                                 \n",
       "243    nadventure embarking on an aid mission to the bahamas                                                                                                                                                                                                             \n",
       "245    want to help out after donate to the north carolina disaster relief fund                                                                                                                                                                                          \n",
       "246    please give a rt of the attached tweet to help out stranded homeless animals                                                                                                                                                                                      \n",
       "247    just like thatpackages sent for some of our friends and family who were affected by                                                                                                                                                                               \n",
       "248    press release                                                                                                                                                                                                                                                     \n",
       "249    knowing could cause unprecedented damage still chose to transfer funding from to support his policy why to move forward his political agenda ignoring the safety of americans refugees                                                                            \n",
       "250    ci siamo scelti il nostro disastro il caos ha dappertutto lo stesso odore ma non sempre fa lo stesso rumore ci raccontergli effetti dell uragano dorian in un posto abitualmente conosciuto come magnifico                                                        \n",
       "251    many thanks to for featuring obr s head of technology jeremy bruce and what he is seeing in the bahamas while serving the one hot meal that matters                                                                                                               \n",
       "252    one voice one response many moving partstsf participated in a coordination meeting at the national emergency management agency emergency operational center in nassau                                                                                             \n",
       "254    email donations rolling in beyond thankful                                                                                                                                                                                                                        \n",
       "255    dang the winds are stronger today in orlando than they were with                                                                                                                                                                                                  \n",
       "256    did you know that natural disasters dont just take a physical toll on affected populations but a mental one as well see how our member is addressing the damage you cant see in the aftermath of                                                                  \n",
       "257    direct relief for hurricane dorian help victims of dorian today help prepare others and during disasters great site                                                                                                                                               \n",
       "258    rt did you know that we are the only agency w permanent presence in we have had an office here foryrs proud to                                                                                                                                                    \n",
       "259    not sure she realizes the twisted irony of an undocumented haitian immigrant wearing this shirt in bahamas                                                                                                                                                        \n",
       "260    this was my brothers home would you please help them rebuild                                                                                                                                                                                                      \n",
       "261    has denied ppl of in safe haven to our shores a may soon hit a large swath there will be more displaced where the hell are these people going to get go how will they get the logistical help how many more will die                                              \n",
       "262    in the wake of this artist is donating the proceeds from his new exhibition while other arts organizations join forces to raise resources for the victims                                                                                                         \n",
       "264    dont forget people are still dealing with the effects of in the lives were destroyed and they need help to rebuild                                                                                                                                                \n",
       "265    one of our team leaders had the honor of meeting secretary general as he visited abaco bahamas to survey the ongoing response and recovery effort for                                                                                                             \n",
       "266    diary of cat adjuster dayfriday                                                                                                                                                                                                                                   \n",
       "267    in abaco today disaster team had the honor of meeting secretary general during his trip to the island to survey response and recovery                                                                                                                             \n",
       "268    thanks to the at for being so supportive as i balance being a full time humanitarian with studying towards an msc in international disaster management                                                                                                            \n",
       "269    criticism of response to is spot on he points out the shame in using the islands as theirplaygroundbefore turning their backs on the nation that greets tourists with open arms                                                                                   \n",
       "270    rt did you know that we are the                                                                                                                                                                                                                                   \n",
       "271    on sundaywe re hosting a fun workout class led by the one and only at with proceeds being donated directly to those affected by everyone who joins will receive the famous sea salt cream cookies donut and more                                                  \n",
       "272    how hurricane dorian could impact ocean shipping                                                                                                                                                                                                                  \n",
       "273    such a pleasure lending a helping hand during ole miss saacs relief drive yesterday our thoughts go out to those affected in the bahamas                                                                                                                          \n",
       "274    here i am in my doggie raincoat ive never lost everything in a storm support tummyfilling lifesaving world central kitchen they go wherever theyre needed and now theyre in the bahamas                                                                           \n",
       "275    got me disoriented no i gotta keep pushing though realizing whatwho i m working for everyday thanks to all my unks and aunties for supporting me during this rough ass time with talks                                                                            \n",
       "277    that moment your about to get dropped in on                                                                                                                                                                                                                       \n",
       "279    our donations also includemosquito nets for and to prevent vector borne diseases due to the increase in mosquitos that can occur following the hurricane                                                                                                          \n",
       "280    take a look at disneys private island on the first sailing post                                                                                                                                                                                                   \n",
       "281    has formed near the as the bahamian people are still working to repair the damages done by category                                                                                                                                                               \n",
       "282    tookrescue into her home to protect them from hurricane dorian                                                                                                                                                                                                    \n",
       "283    if youre unsure about where to donate to help victims heres a good place to start                                                                                                                                                                                 \n",
       "284    grey was the first ever to fear aging                                                                                                                                                                                                                             \n",
       "285    our first medic team arrived in today working with in aiding victims of in the hardest to reach areas                                                                                                                                                             \n",
       "286    grey was the first ever to fear looking at itself in the mirror                                                                                                                                                                                                   \n",
       "287    thank you chef you re an inspiration to us all we can all support chef andr s and the great work he s doing through his website                                                                                                                                   \n",
       "288    have you been considering investing in hurricane impact windows or shutters after the recent hurricane weve broken down all of the pros and cons of each option in our latest post                                                                                \n",
       "290    rt we re thinking of those impacted by has donatedk in product to foundation donatedk to to support those impacted in the                                                                                                                                         \n",
       "291    update sea shepherd heads to the sea shepherds crew bring aid to the most remote and hardest hit islands in the bahamas                                                                                                                                           \n",
       "292    still reeling from faces tropical storm                                                                                                                                                                                                                           \n",
       "293    the victims of are still in urgent need of emergency supplies give todaypc dave miller                                                                                                                                                                            \n",
       "294    teams up with happy hope factory to provide a critical smile to children currently hospitalized as a result of                                                                                                                                                    \n",
       "295    listen to our broadcasts brings strong wind rain to areas of the northwest hit hard by white house confirms death of osama bin ladens son and designated heir to lead alqaeda                                                                                     \n",
       "296    pan american health world health organization has a permanent presence in and is working hard to support the bahamians and relief efforts in the aftermath of you can help them do their work find out how                                                        \n",
       "297    alycethoward is hosting a for the recovery from at her tomorrow sunday atif you re in and want to shake your booty for a cause bigger than that                                                                                                                   \n",
       "298    sad story in tragedy thanks sir for care on victims and made situation better                                                                                                                                                                                     \n",
       "299    time is of the essencemicrogrid technology is an effective way to build resilience and reduce reliance on diesel generation if theres any good news its that microgrids were already on their way before read more                                                \n",
       "300    relief effort                                                                                                                                                                                                                                                     \n",
       "301    access to aboutimages of the in the immediate aftermath of                                                                                                                                                                                                        \n",
       "303    after the storm subsided and the waters began to recede a widow was alone to cleanup but then knights stepped in to help read more of knights rebuild after hurricane dorian                                                                                      \n",
       "304    good news for made life better from attack with support all colleagues happy weekend sir                                                                                                                                                                          \n",
       "305    its a done deal in fort lauderdale mounts bays lhsc pete done met up with his son powe adam done this morning when hms protector called into fort lauderdale after delivering aid to the bahamas                                                                  \n",
       "306    did you know that we are the only agency w permanent presence in we have had an office here foryrs proud to support people relief efforts delivery of donations to ensure that population affected has access to safe                                             \n",
       "307    extreme weather the remnants of caused the biggest prize in the camanachd cup final to be abandoned after half time the score wasbetween newtonmore oban camanachd at a vwet windy an aird fort william replay details to be confirmed                            \n",
       "308    topsider homes survive hurricane dorian see more here                                                                                                                                                                                                             \n",
       "309    help those affected by online shopping for disaster relief at amazoncom via                                                                                                                                                                                       \n",
       "310    bless all the volunteers                                                                                                                                                                                                                                          \n",
       "311    thank you kevin for joining us as we together packedmillion meals for families in need for those devastated by in the                                                                                                                                             \n",
       "312    i hid my grandson i knocked on gods door as i saw the water rising he took my husband he took my two daughters under the water but he left me with this boy                                                                                                       \n",
       "313    the are active again is heading through the again then it looks like a turn similar to but this will take it through                                                                                                                                              \n",
       "314    pets orphaned because of made their way to the hudson valley and hopefully new homes thanks to staff members from paws crossed animal rescue many of the animals will be available for adoption this sunday                                                       \n",
       "315    additionally we are collecting new and gently used clothing which is being donated to                                                                                                                                                                             \n",
       "316    you lost your house and everything in it show me your papers or you cant leave if only they were white                                                                                                                                                            \n",
       "317    new episode podcast on the inaugural retreat interview sanaa su show topic this week piper carter cohost brittany are joined by songwriter songstress                                                                                                             \n",
       "318    morning trip to sweetings cay with the deputy prime minister k peter turnquest for a damage assessment to warn residents of the incoming storm and discuss long term recovery plans for the east end                                                              \n",
       "319    i m completely fucking done with having no power today marks a full fucking week without that s a complete joke                                                                                                                                                   \n",
       "320    today a few hundred people will volunteer to help of                                                                                                                                                                                                              \n",
       "321    t h e b i r d ii                                                                                                                                                                                                                                                  \n",
       "322    to anyone with brown or black skin is a bad person its no coincidence these people fleeing who happen to be black are being demonized trump simply inciting fear the dose of racist red meatto give his base illusion hes protecting them                         \n",
       "323    the terrible weather that caused the camanachd cup final to be rightly abandoned early in second half today fortunately it wasbetween newtonmore and oban camanachd at the time tale end                                                                          \n",
       "325    we stand as their friends and allies ref blocking evacuees from the bahamas                                                                                                                                                                                       \n",
       "326    we dodged now we got heading our way                                                                                                                                                                                                                              \n",
       "327    very glad to know this young mans unselfish acts of love will be rewarded with his dream thank you                                                                                                                                                                \n",
       "328    the tragedy of continues with loss of life growing a difficult though necessary mission                                                                                                                                                                           \n",
       "329    hnlms johan de witt in docked position in order for landing crafts of our to transport military personnel vehicles and goods                                                                                                                                      \n",
       "330    you suck i welcome those who need a safe standard of living because of                                                                                                                                                                                            \n",
       "331    johan de witt in gedokte positie zodat landingsvaartuigen van het in en uit kunnen varen met militairen voertuigen en goederen                                                                                                                                    \n",
       "332    did you know that we are the only agency w permanent presence in we have had an office here foryrs proud to support people relief efforts delivery of donations to ensure that population affected has access to safe medical care                                \n",
       "333    rt ifrc rt ifrces the bahamasredcross is distributing basic relief items and household goods to help evacuees and host families cope with new realities thousands of people fled abaco and grand bahama after and are now living in g                             \n",
       "335    help the bahamas                                                                                                                                                                                                                                                  \n",
       "336    today is more humid than it s been the few days i expect to be heading out to the east end of the island to help hand out water and chainsaw trees                                                                                                                \n",
       "337    is there because we know people have been in disasters and dont have their paperwork if we need to verify peoples background and identities we have the resources to do that ref rejecting evacuees                                                               \n",
       "338    trumps cruelty knows no bounds imagine being in the bahamas and hits how would anyone say sorry you cannot evacuate to the usa no protected status for you get off the ferry stand there w nothing                                                                \n",
       "339    question has come to the aid of aren t they a commonwealth of great britain we already know the us isn t going to help black and brown people so what has the queen been doing to help                                                                            \n",
       "340    the calm before during and after the storm take a firsthand look through the eyes of an musc reporter who rode out the storm at the hospital during                                                                                                               \n",
       "341    escaping the wrath of are here from halifax stop by their booth to chat about more than the weather                                                                                                                                                               \n",
       "342    in extreme weather like its critical that unicef responds right away this is how we get lifesaving supplies where they need to go                                                                                                                                 \n",
       "344    secretarygeneral visits the control room from where the response to is being coordinated by government other organizations                                                                                                                                        \n",
       "345    me and my dude taking a peak at the incoming mess before dorian arrived two weeks ago                                                                                                                                                                             \n",
       "346    thetelegraphhave been embedded withteamrubiconukon in the in response to thanks topaulnukifor your supporthcrinstitute                                                                                                                                            \n",
       "347    abaco the coopers town community clinic is partially operationaldays after struck we have been working with national local authorities in the repairs needed so that the population have access to health services                                                \n",
       "348    the is distributing basic relief items and household goods to help evacuees and host families cope with new realities thousands of people fled abaco and grand bahama after and are now living in governmentrun shelters or with family in nassau                 \n",
       "349    this mondaypm join our facebook popup panel to talk about what happens after the hurricane w from nfm from and adriana rivera from                                                                                                                                \n",
       "350    via                                                                                                                                                                                                                                                               \n",
       "351    gary lickle is an airvan who has been actively participating in relief efforts he has been flying loads of supplies to the islands and evacuating refugees to various airports in we re proud to support his efforts to keep the good work going                  \n",
       "352    more dropoffs in nyc                                                                                                                                                                                                                                              \n",
       "353    patrick isand his parents are haitian immigrants in he was a patient for sore throat now he is translating for a stranger mom is so proud                                                                                                                         \n",
       "354    fwc the manatees are free a manatee and her calf stranded since last week at the are now free according to the florida                                                                                                                                            \n",
       "355    let s do the math if the feds send ncm and we subtract them you gave trump for his stupid useless wall north carolinians will only be on the hook forfor storm repairs heck of a job thommy such leadership such much                                             \n",
       "356    in article physician and disaster response expert dr elizabeth greig discusses the post health risks in hard hit areas of the bahamas read more                                                                                                                   \n",
       "357    stormravaged bahamas rescues arrive shelter no place like home party info                                                                                                                                                                                         \n",
       "358    big thanks to for the tour in great opportunity to see first hand how ships like her can play an important role responding to humanitarian disaster her sister ship is which has just responded to in the bahamas                                                 \n",
       "359    listen to our broadcasts white house confirms that the son of has been killed the death was first reported this past summer the are prepping for after devastation of                                                                                             \n",
       "360    rt this is the control room from where the response to is being coordinated by the bahamas government other organizations i was very proud to see un colleagues be part of these efforts i congratulate th                                                        \n",
       "361    this week the nc congressional delegation sent a letter to president requesting that the administration swiftly approve governor cooper s request for an expedited major disaster declaration in the aftermath of                                                 \n",
       "362    during we re exploring the many applications of gulfstream aircraft worldwide reporting live from hurricane season is modified givgonzowhich has been busy flying above                                                                                           \n",
       "364    a very interesting and insightful read in the wake of                                                                                                                                                                                                             \n",
       "365    children now in urgent need after tore through the two weeks ago                                                                                                                                                                                                  \n",
       "366    week ago today things werent so sparkly chester basin nova scotia                                                                                                                                                                                                 \n",
       "367    sign up to enter the and they donatetowards hurricane dorian relief in the bahamas rt                                                                                                                                                                             \n",
       "368    new episode podcast on the inaugural retreat interview sanaa su show topic this week piper carter cohost brittany are                                                                                                                                             \n",
       "370    after passed the lily ponds at were pretty much destroyed yesterday morning i found a single sticking up in the very middle of the pond                                                                                                                           \n",
       "371    two weeks ago brought death and destruction to the bahamas now another tropical storm is bringing more wind and rain to the islands making recovery efforts more difficult more than a thousand of his countrymen are still missing and feared dead               \n",
       "372    the tvs at the gym are finally back up after just in time for college gameday it s like the people around me have never seen a grown man cry                                                                                                                      \n",
       "373    swept across the bahamas as a categoryhurricane last week and left a trail of destruction agwm relief is helping the national church with immediate relief funds which is the current need heres how you can help                                                 \n",
       "374    at the shelters in i have yet to encounter a haitian immigrant who was unemployed in many of the women including those with young children were working as well                                                                                                   \n",
       "375    with currently replennishing in the us you can still keep up with the relief efforts with whose teams are operating off hnlms johan de witte via                                                                                                                  \n",
       "376    as has battered the canadian maritimes and southeastern us it s possible that vehicles could trickle into the canadian used car market here s how to spot one                                                                                                     \n",
       "377    photo of ns man facing last wknd goes viral                                                                                                                                                                                                                       \n",
       "378    thank you to for donatingto support our response efforts thedonation to the will support response efforts in the us and full story                                                                                                                                \n",
       "379    new storm to hit two weeks after                                                                                                                                                                                                                                  \n",
       "380    thanks for your support always count on theoperation dorian donations today was the last day of our donation drive for we can t say it enoughthank you for your support volunteers with                                                                           \n",
       "381    good reporting extensively on rescue efforts in the bahamas after the devastation left by                                                                                                                                                                         \n",
       "382    teamrunning supplies on okracoke island                                                                                                                                                                                                                           \n",
       "383    abaco islands bahamas on septmade landfall on the as a categoryhurricane with up tomph winds the storm completely devastated the and according                                                                                                                    \n",
       "384    icymi is matching up to to for relief efforts click to donate                                                                                                                                                                                                     \n",
       "385    icymi is matching up to in donations to for relief efforts click link to donate                                                                                                                                                                                   \n",
       "387    rt americanlegion when hit parts of the east coast a group of virginialegion members came together to help out their fellow and anyone else who may be in need of assistance                                                                                      \n",
       "388    we pray for all those affected from the aftermath of hurricane dorian in the bahamas if you or anyone is looking to donate you can go to charity navigator and verify the best places to make any donations                                                       \n",
       "389    after majorweather events occur people often think about our insurance policy and if they re covered but what is insurance and how does it really work                                                                                                            \n",
       "390    when hit parts of the east coast a group of members came together to help out their fellow and anyone else who may be in need of assistance                                                                                                                       \n",
       "391    advanced disposal has created a gofundme account to help itsteam members with their longterm recovery from the damage caused to their homes and lives by                                                                                                          \n",
       "392    bahamians look for loved ones asmissing after dorian                                                                                                                                                                                                              \n",
       "393    according to this un news article the is actually saying that people are homeless in the bahamas in the aftermath of howd they arrive to this figure honestly i would genuinely like to know                                                                      \n",
       "394    as survivors of enter week three of poststorm life many in the bahamas worry they will be forced into deep poverty as they scramble to find work in the aftermath of the categorystorm                                                                            \n",
       "396    lowskilled haitian work suffer in the midst of bahamas ruins haiti too will lose out as will fall                                                                                                                                                                 \n",
       "398    i am sad to report the eagle nest we visit has been destroyed by hurricane dorian the tree is still there but there s no trace of the nest i hope they will rebuild it this fall                                                                                  \n",
       "399    coming back to pei post i think the amount of trees down around here compared to ns and nb has been under reported looks like a bomb went off in certain areas unbelievable the amount of forest destroyed                                                        \n",
       "400    throwback to the day after last week in while we were refilling our buckets of water my sister poopface clearly wanted to take a family selfie with me                                                                                                            \n",
       "402    vox sentences trailsvia                                                                                                                                                                                                                                           \n",
       "403    rt antonioguterres this is the control room from where the response to is being coordinated by the bahamas government other organizations i was very proud to see un colleagues be part of these efforts i congratulate the bahamas                               \n",
       "404    so sad for these boat owners just a tiny glimpse at what the bahamas have to dig out from                                                                                                                                                                         \n",
       "405    horrible for the                                                                                                                                                                                                                                                  \n",
       "406    its time to go fuckin i hope that didnt kill all the fish its the freakin baby and im ready to have me some                                                                                                                                                       \n",
       "407    tomorrow this sunday septemberth i ll be performing live pull up with a monetary donation                                                                                                                                                                         \n",
       "408    relief efforts in this time of need loss grief and devastation our brothers and sisters worldwide are doing what they can to support rapper actor                                                                                                                 \n",
       "411    our troops support working in collaboration with local emergency services in their recovery efforts during following in                                                                                                                                           \n",
       "412    at the church shelter some storm survivors got so upset recounting the conditions for displaced haitians that uniformed soldiers warned times journalists doing the interviews against inciting a riot                                                            \n",
       "413    ykwtd miami herald dogs who survived dorians storm surge in the bahamas are up for adoption in floridavia                                                                                                                                                         \n",
       "414    relief efforts junkanoo strong danceathon lets move for the bahamas on sunday september hurricane dorian made landfall in the northwestern                                                                                                                        \n",
       "415    if you are assessing damage this weekend remember that crisis cleanup offers free debris removal and cleanup services take pictures of any damage and callto request assistance                                                                                   \n",
       "416    si estevaluando el da o de este fin de semana recuerde que crisis cleanup ofrece servicios gratuitos de eliminaci n y limpieza de escombros tome fotograf as de cualquier da o y llame alpara solicitar asistencia                                                \n",
       "417    is providing hope and strengthening recovery efforts after                                                                                                                                                                                                        \n",
       "421    some of the damage we saw caused by is a culmination of the beating the has taken from hurricanes florence matthew a reminder that we have to rebuild smarter stronger to make our coast more adaptable to                                                        \n",
       "422    in the aftermath of tie and forestry crews are still working hard to help restore power to overpeople please continue to report any outages or downed lines to maritime electric                                                                                  \n",
       "423    what a week blew in thankfully left shout out tomy peoplethat were at the end of the phone when i needn t them until we meet again                                                                                                                                \n",
       "424    a picture paints awords photo shows a woman in abaco amidst what was her home and her community after i was going to go off grid while here in the bahamas but i have to share just how devastating the                                                           \n",
       "425    with the crazy weather we experienced on the east coast from we were so appreciative of the beautiful sunshine we had all week                                                                                                                                    \n",
       "426    travel time this week spent dodging hurricanes and typical storms                                                                                                                                                                                                 \n",
       "427    thousands in bahamas struggle to find work after dorian                                                                                                                                                                                                           \n",
       "428    the chief is in the bahamas expressing solidarity with the people following more on this story later                                                                                                                                                              \n",
       "429    restaurants farmers and fishermen whose business were affected by and may be eligible for grants from visit the link in our profile to learn more                                                                                                                 \n",
       "430    las fuerzas francesas est n trabajando junto a las fuerzas holandesas y alemanas en las nuestro equipo de respuesta apoya al gobierno de las bahamas y trabaja en cooperaci n con el y las organizaciones de ayuda                                                \n",
       "432    some of my very favorite cruising grounds in the world are in the bahamas sad to see the devastation caused by hurricane dorian wishing them all the best in their recovery                                                                                       \n",
       "433    proud to be part of a hospital and culture that steps up in times of need                                                                                                                                                                                         \n",
       "434    is a is a to the                                                                                                                                                                                                                                                  \n",
       "435    tropical weather outlook nws national hurricane center miami flam edt sat sep                                                                                                                                                                                     \n",
       "436    has been helping numerous people and organizations in the by delivering fuel allowing others to help the people of the bahamas in the aftermath of check the deployment trackerhere is what has been done so far                                                  \n",
       "437    partner spotlight even as conducts their primary mission of its components military services continue to support relief efforts learn more                                                                                                                        \n",
       "438    verisks team is in the south carolina area capturing poststorm imagery following passing through the carolinas                                                                                                                                                    \n",
       "439    this is the control room from where the response to is being coordinated by the bahamas government other organizations i was very proud to see un colleagues be part of these efforts i congratulate the bahamas for its leadership responding to this tragedy    \n",
       "440    sorry i havent be active works been busy since hit halifax but heres some motivation                                                                                                                                                                              \n",
       "441    not quite back to normal after                                                                                                                                                                                                                                    \n",
       "442    you can provide medical care shelter clean water and other essentials to hurricane dorian survivors by texting the keyword disaster to                                                                                                                            \n",
       "443    our deepest thanks to and for our flights out to the so the rg team can continue our response from the ground your support is hugely appreciated                                                                                                                  \n",
       "444    access to affected people in the remains challenging due to damaged roads and infrastructure we will be providing relief supplies to evacuees in nassau and new providence want to help our relief efforts donate here                                            \n",
       "445    also yesterday highlighted thathealth care workers are the silent heroes of the relief response to at a meeting with dr duane sands                                                                                                                               \n",
       "446    watch expansions latest podcast from theth of septemberhurricane dorian iraq fake country dark artsplease like share our videos thank you                                                                                                                         \n",
       "447    officials are planning to erect two tent city relief centers capable of housing aroundpeople around hardhit marsh harbour on great abaco island                                                                                                                   \n",
       "448    a new storm is threatening the just two weeks after tore through part of the islands tropical depression nine which could turn into a tropical cyclone within two days is already causing heavy rains and strong winds on the islands                             \n",
       "449    new storm to hitweeks after tropical depressionstrengthened into tropical storm humberto on friday night it is currently moving northwest towards great abaco island one of the islands worst hit by dorian                                                       \n",
       "451    missing after hits the                                                                                                                                                                                                                                            \n",
       "452    if we dont reverse the situation we ll see tragedies like this one multiplying and becoming more intense and more frequent we need to defeat climate change visiting the bahamas after                                                                            \n",
       "454    approaches islands ravaged by the system is to send to by saturday morning where teams are still searching for reported missing people aftermath                                                                                                                  \n",
       "455    as regional intl aid efforts continue to reach the affected islands the official death toll stands atbut thousands of people could be missing according to reports                                                                                                \n",
       "456    this is so sad heartbreaking lets help figure out who this lady is and get her some help                                                                                                                                                                          \n",
       "457    if we dont reverse the situation we ll see tragedies like this one multiplying and becoming more intense and more frequent we need to defeat climate change antonioguterres visiting the bahamas after                                                            \n",
       "461    i was deeply moved by my visit to a shelter for people displaced by where i heard terrible stories from those who lost loved ones or have no place to go i was also touched by the dedication compassion of the humanitarians helping them                        \n",
       "462    a new storm carrying heavy and strong winds is threatening the bahamas just two weeks after tore through part of the islands photo ians                                                                                                                           \n",
       "463    good to see rebound post devastation of resilience is key since rebound can be shortlived with current face existential threat as showed                                                                                                                          \n",
       "464    daytona united for bahamas efforts are in full swing locally to help victims in the impacted by local organizations                                                                                                                                               \n",
       "465    after the strongest hurricane that has ever hit the northwest bahamas on record the aftermath of hurricane dorian is now coming to light                                                                                                                          \n",
       "467     marsh harbor bahamasdorian leaves incredible destruction                                                                                                                                                                                                         \n",
       "469    swipe right to see all the colors us merinoof every braid purchased goes to and wckitchen for relief these will be at but you can order now and we will                                                                                                           \n",
       "470    the interview rev timothy stewart us baptist leader finds devastation and resilience in the bahamas after hurricane dorian                                                                                                                                        \n",
       "472    the nws offices in wilmington and raleigh nc have confirmedtornadoes associated with on septemberin northsouth carolina only one of these tornadoes carolina shores efresulted in injuries breakdownefefandef                                                     \n",
       "473    tropical storm approaching bahamas threatening hurricane rescue efforts strong winds expected via                                                                                                                                                                 \n",
       "474    government and to bring children back to school unicefun moreno gonzalez                                                                                                                                                                                          \n",
       "475    fishinfor a mission support the bahamas in the wake of by joining anglers around the world and donating to convoyofhope an international humanitarian relief organization donate today and learn more at basspr                                                   \n",
       "476    fishinfor a mission support the bahamas in the wake of by joining anglers around the world and donating to an international humanitarian relief organization donate today and learn more at                                                                       \n",
       "477    excellent news for worst news for the battered where people are still traumatized by                                                                                                                                                                              \n",
       "478    hurricane dorian did not go beyond two weeks erosion meanwhile another cyclone is building in the bahamas islands the weather office is fearing the storm could turn into a twodimensional cyclone                                                                \n",
       "479    trying to recover from the caused by and revises its list of prime minister announces septemberas day of                                                                                                                                                          \n",
       "480    rem just dropped an unreleased song for hurricane dorian relief efforts in the bahamas                                                                                                                                                                            \n",
       "481    the latest dailythanks to                                                                                                                                                                                                                                         \n",
       "482    the worsthit area of the pei national park is near the campground which will be closed for the rest of the year he said                                                                                                                                           \n",
       "483    did you know that the planet jupiter has a hurricane which is bigger than earth and has been spinning foryears more facts about hurricanes in our video                                                                                                           \n",
       "484    has caused catastrophic damage you can help today                                                                                                                                                                                                                 \n",
       "485    with hundreds of people still missing after a new tropical storm is approaching the bahamas                                                                                                                                                                       \n",
       "486    we re still in the bahamas doing rescue and relief aid in just a few hours it looks like we ll get hit with a tropical storm hunkering down for the weather please pray for these precious people who ve already been through so much                             \n",
       "487    nexthours critical for officials warn that flooding from new storm could hamper rescue and relief efforts                                                                                                                                                         \n",
       "490    rt i was deeply moved by my visit to a shelter for people displaced by where i heard terrible stories from those who lost loved ones or have no place to go i was also touched by the dedication compassion of                                                    \n",
       "491    help those affected by online shopping for disaster relief at                                                                                                                                                                                                     \n",
       "492    the worst natural disaster ive ever seen us search and rescue team describes impact on the viatime                                                                                                                                                                \n",
       "493    while not the greatest news for abaco the island and community rocked by it appears as though will avoid the florida mainland along with the southeast united states                                                                                              \n",
       "494    rt rt antonioguterres i was deeply moved by my visit to a shelter for people displaced by where i heard terrible stories from those who lost loved ones or have no place to go i was also touched by the dedication compassion                                    \n",
       "496    all my folk please help if you can my soror has arranged this opportunity to assist those in the who were affected by all details are on the flyer                                                                                                                \n",
       "497    why is it storming in atlanta i thought was long gone                                                                                                                                                                                                             \n",
       "498    we got back from bahamas for a planned vacation and it became so much more we worked with to help with relief i worked triage with amazing nurses doctors and search and rescue teams please volunteer or donate if you can                                       \n",
       "500    met with the people who were displaced by in and with the humanitarians helping them                                                                                                                                                                              \n",
       "501    rt antonioguterres i was deeply moved by my visit to a shelter for people displaced by where i heard terrible stories from those who lost loved ones or have no place to go i was also touched by the dedication compassion of the human                          \n",
       "503    the only good the to come out of she found me and with that she found a home my little dorian                                                                                                                                                                     \n",
       "506    a very emotional read in the a person personally tragically affected by in the may god help us                                                                                                                                                                    \n",
       "507    please if you or someone you know is missing andor trying to find someone else send your info and ill retweet to try and help signal boost                                                                                                                        \n",
       "510    the owner of the st francis inn in st augustine is hopeful this latest tropical depression stays away from him after he was forced to close fordays because of we have his story atp onfcn go                                                                     \n",
       "511    incredible voyage via                                                                                                                                                                                                                                             \n",
       "512    halfway to the goal of to help with the usf relief efforts for the hurricaneravaged every penny helps donate today learn more                                                                                                                                     \n",
       "513    sunset park is doing a hurricane relief fund for the bahamas we are doing a little friendly competition for the house that brings the most money let s help make a difference for those in need donation drive runs until septemberth                             \n",
       "514    trump said alabama was in harms way see your house is gone                                                                                                                                                                                                        \n",
       "515    look for loved ones asmissing after                                                                                                                                                                                                                               \n",
       "516    carnival corporation s cruise line brands resume regular sailings to the bahamas                                                                                                                                                                                  \n",
       "517    new storm threatening the two weeks after nine which could turn into a tropical cyclone within two days is already causing heavy rains and strong winds on the islands                                                                                            \n",
       "519    leaders in the say that while donations are appreciated continuing travel to the bahamas is the best way to help heres why                                                                                                                                        \n",
       "520    after dorian resolve marine group provides bahamas with a water purifying plant                                                                                                                                                                                   \n",
       "522    katrina i m going to go down as one of the most embarrassing hurricanes for any modern president to have blundered dorian hold my beer                                                                                                                            \n",
       "523    nearlyevacuees have come to south florida from the bahamas                                                                                                                                                                                                        \n",
       "524    the little house that paid out this stunner was as easypeasey as they come regarding the flip and rehab the sale took a bit longer then expected but really no complaints we just needed to dodge and pass theday flip                                            \n",
       "526    series dark times my life since                                                                                                                                                                                                                                   \n",
       "527    of proceeds from any bahamas beach bag or pillow sold please feel free to share this page thank you for any donations and efforts to help the bahamas marine grade line canvas materials machine washable custom designs                                          \n",
       "528    is going deep into the vault to dig up a previously unreleased song for a good cause                                                                                                                                                                              \n",
       "529    via iamepiscopalian thank you joe here s more info about christ episcopal church in miami and their relief effort                                                                                                                                                 \n",
       "530    i want to be safer from but said otherwise                                                                                                                                                                                                                        \n",
       "531    update                                                                                                                                                                                                                                                            \n",
       "532    drag is art artists should be paid for their work and an adult is with him what is the issue besides nosey joyless zealots that want to exploit for their own gain still have not seen am raise money for victims                                                 \n",
       "534    finally made some progress on the build had a little dent put on the operation by but with the power back on its full steam ahead all glued upand now we wait                                                                                                     \n",
       "535    it certainly is going to take a while to in the after it starts with good planning and coordination among local actors with support from external partners                                                                                                        \n",
       "536    thank you usa today for highlighting empacts work during our deployment in the heres a quick read to learn more about whats being done on the ground and to hear reactions from local bahamians                                                                   \n",
       "537    today was the last day of our donation drive for we can t say it enoughthank you hcso employees volunteers w boricuas de coraz n inc and super qfm handled the collection and will help get supplies to the                                                       \n",
       "538    because if you we were able in our first shipment to deliver overk lbs of relief into the island of grand bahama to bring help and hope to those affected by                                                                                                      \n",
       "539    icymi republican stealsfrom disaster relief fund to jail deport asylum seekers link                                                                                                                                                                               \n",
       "540    hey all as people are still cleaning up from there are still many animals that need rescued and transported to other shelters if not for and their volunteers these animals wouldn t be able                                                                      \n",
       "541    were on the ground in the working to help the communities hardesthit by get the latest on our response and find out how you can help                                                                                                                              \n",
       "542    fernand amandi should chef josandr s win the nobel peace prize                                                                                                                                                                                                    \n",
       "543    michael jordan donatesmillion to bahamas hurricane relief efforts                                                                                                                                                                                                 \n",
       "545    wedding bells candles banquet convention center                                                                                                                                                                                                                   \n",
       "546    survivors have been found in a remote area not far from airport theyve been without communicate or food since the storm                                                                                                                                           \n",
       "547    a tropical depression is poised to hit the same northern bahamian islands that hurricane dorian ravaged earlier this month and it may be a tropical storm when it does                                                                                            \n",
       "548    daytona beach fbo is offering discount fuel for anyone involved in relief flights in and out of the bahamas and waiving fees for those flights                                                                                                                    \n",
       "549    thanks to all who are serving in the as part of the effort to bring a measure of comfort to those afflicted by the team isbehind you special shout out to coresidents                                                                                             \n",
       "550    can you believe he is threatening to deport who fled from hint notvia                                                                                                                                                                                             \n",
       "551    florida man parks car in his kitchen to protect it from                                                                                                                                                                                                           \n",
       "553    this sunfrompm at thelincoln road stage is holding a free performance of pop light to benefit national association of the let s support those impacted by                                                                                                         \n",
       "554    right decision was made by all parties involved to move the game to tallahassee on saturday at noon is set to pack a punch to the eastern florida seaboard and people need time to evacuate asap                                                                  \n",
       "555    cbd moon rocks indoor special sauce kief                                                                                                                                                                                                                          \n",
       "557    i heard this story about manufactured brain organoids on the radio on my way home from work and thought to myself do i live in a bad disaster movie set in the future                                                                                             \n",
       "558    has already seen an increase in traffic at people trying to get out not coming in for this weekend with threat of                                                                                                                                                 \n",
       "559    fully stocked with an arsenal of bath body works candles for my house is going to smell like a mahogany teakwood eucalyptus rain fresh bamboo force to be reckoned with                                                                                           \n",
       "560    don t forget to stock up on condoms for the hurricane y all                                                                                                                                                                                                       \n",
       "561    remains a catwith max winds ofmph slow movement gives a good chance to hit catbefore landfall late into the holiday weekend expecting minimal effect on the viewing area next week                                                                                \n",
       "562    prep for                                                                                                                                                                                                                                                          \n",
       "563    can you discuss the effects of the gulf stream interacting w                                                                                                                                                                                                      \n",
       "564    prestes a viver o primeiro furac o                                                                                                                                                                                                                                \n",
       "565    i guess is out of water i just want water for me forget the hurricane                                                                                                                                                                                             \n",
       "567    here is where to go for coverage of                                                                                                                                                                                                                               \n",
       "568    i guess from now on i m going to have to start taking these storms seriously                                                                                                                                                                                      \n",
       "569    trump is calling off a planned trip to poland this weekend to instead oversee the response to which is expected to bear down on the southeastern us learn more                                                                                                    \n",
       "570    prayers for florida folks in dorians path                                                                                                                                                                                                                         \n",
       "571    so when hits maralago and the surrounding areas completely devastated them we can blame the libs right because they wished for it i mean they blame trump for all the other hurricanes so it s only fair                                                          \n",
       "572    the city of will be distributing sand bags tomorrow fri augfrom noon topm or until supplies last at mills pond parknwave limitbags per vehicle must show proof id you live in city                                                                                \n",
       "573    watch live were tracking hurricane dorian and looking at possible impacts to the east coast in this special livestream                                                                                                                                            \n",
       "574    i just think its so cool that hunting started because a pilotst did it on a bet it stuck now its probably one of the best sources we have heres to the brave men who fly through hurricanes                                                                       \n",
       "575    please send me and mittens your love while we await here in florida                                                                                                                                                                                               \n",
       "576    you re a bad person                                                                                                                                                                                                                                               \n",
       "577    oh what a crying shame it d be sad if hit and destroyed preview of coming a chorus of angels singing in unison hallelujah                                                                                                                                         \n",
       "578    thank you president trump                                                                                                                                                                                                                                         \n",
       "579    damnnnn i m lookin thick                                                                                                                                                                                                                                          \n",
       "581    anything thats orange means its out of gas holy buckets of balls this doesnt show every gas station s details but you get the gist                                                                                                                                \n",
       "582    you have to love it when work gets cancelled for and then it changes direction friday is now beach day love the tci                                                                                                                                               \n",
       "583    trying to reason with seasonwhat would do such beauty in the calm before the stormat davis island yacht club                                                                                                                                                      \n",
       "584    florida governor desantis has just declared a state of emergency in anticipation of                                                                                                                                                                               \n",
       "585    coincidentally just finished story weather add this to your reading list                                                                                                                                                                                          \n",
       "586    do you think will cause evacuations on the west coast of florida                                                                                                                                                                                                  \n",
       "587    some publix stores ran out of water very fast this morning all that s left are these cases of water forseems that no one wants to pay the high price                                                                                                              \n",
       "588    as a south florida resident and native theres a good chance i could lose my home to but it will all be worth it if we can just watch footage of maralago being washed out to sea                                                                                  \n",
       "589    colegio san benito de humacao hoy a laspm                                                                                                                                                                                                                         \n",
       "590    like to trade stocks long or short dont trade alone join us in the always free trade ideas trading room experienced mods on mic screen sharing ai scans charts live trade spy always free at                                                                      \n",
       "591    whether you re agnostic or atheist whether you believe in buddhism hinduism taoism christianity islam orjudaism surely we can all agree that it would be really cool if hit maralago                                                                              \n",
       "592    tdays until landfall beautiful evening skies with a steady breeze this is going to turn into a completely different scene this weekend                                                                                                                            \n",
       "593    i thought of a way we can stoppaint a picture of itshow it to dorian we could put copies of the painting on billboards along the coast or drop little paintings directly into the storm from a planedorian sees itself and dissipates thoughts                    \n",
       "594    stress is high we re hoarding stuff we don t need come on floridians we got this                                                                                                                                                                                  \n",
       "595    it could be worse at least it s not the wordmoist                                                                                                                                                                                                                 \n",
       "596    a totally normal grocery store aisle except this is the bottled water aisle                                                                                                                                                                                       \n",
       "597    well i mean theyre not wrong courtesy of our friends                                                                                                                                                                                                              \n",
       "598    getting some sandbags to prepare our house for the hurricane this weekend hurricanes are just another part of florida living hope everyone stays safe this weekend                                                                                                \n",
       "599    tropics dorian expected to steadily strengthen get ready                                                                                                                                                                                                          \n",
       "Name: text, dtype: object"
      ]
     },
     "execution_count": 252,
     "metadata": {},
     "output_type": "execute_result"
    }
   ],
   "source": [
    "df[\"text\"].head(500)"
   ]
  },
  {
   "cell_type": "code",
   "execution_count": 249,
   "metadata": {},
   "outputs": [
    {
     "ename": "LangDetectException",
     "evalue": "No features in text.",
     "output_type": "error",
     "traceback": [
      "\u001b[0;31m---------------------------------------------------------------------------\u001b[0m",
      "\u001b[0;31mLangDetectException\u001b[0m                       Traceback (most recent call last)",
      "\u001b[0;32m<ipython-input-249-3113969db086>\u001b[0m in \u001b[0;36m<module>\u001b[0;34m\u001b[0m\n\u001b[1;32m      1\u001b[0m \u001b[0;31m## filter for English tweets only\u001b[0m\u001b[0;34m\u001b[0m\u001b[0;34m\u001b[0m\u001b[0;34m\u001b[0m\u001b[0m\n\u001b[0;32m----> 2\u001b[0;31m \u001b[0mdf\u001b[0m\u001b[0;34m[\u001b[0m\u001b[0;34m\"language\"\u001b[0m\u001b[0;34m]\u001b[0m \u001b[0;34m=\u001b[0m \u001b[0mdf\u001b[0m\u001b[0;34m[\u001b[0m\u001b[0;34m\"text\"\u001b[0m\u001b[0;34m]\u001b[0m\u001b[0;34m.\u001b[0m\u001b[0mapply\u001b[0m\u001b[0;34m(\u001b[0m\u001b[0mdetect\u001b[0m\u001b[0;34m)\u001b[0m\u001b[0;34m\u001b[0m\u001b[0;34m\u001b[0m\u001b[0m\n\u001b[0m",
      "\u001b[0;32m/opt/anaconda3/lib/python3.7/site-packages/pandas/core/series.py\u001b[0m in \u001b[0;36mapply\u001b[0;34m(self, func, convert_dtype, args, **kwds)\u001b[0m\n\u001b[1;32m   4043\u001b[0m             \u001b[0;32melse\u001b[0m\u001b[0;34m:\u001b[0m\u001b[0;34m\u001b[0m\u001b[0;34m\u001b[0m\u001b[0m\n\u001b[1;32m   4044\u001b[0m                 \u001b[0mvalues\u001b[0m \u001b[0;34m=\u001b[0m \u001b[0mself\u001b[0m\u001b[0;34m.\u001b[0m\u001b[0mastype\u001b[0m\u001b[0;34m(\u001b[0m\u001b[0mobject\u001b[0m\u001b[0;34m)\u001b[0m\u001b[0;34m.\u001b[0m\u001b[0mvalues\u001b[0m\u001b[0;34m\u001b[0m\u001b[0;34m\u001b[0m\u001b[0m\n\u001b[0;32m-> 4045\u001b[0;31m                 \u001b[0mmapped\u001b[0m \u001b[0;34m=\u001b[0m \u001b[0mlib\u001b[0m\u001b[0;34m.\u001b[0m\u001b[0mmap_infer\u001b[0m\u001b[0;34m(\u001b[0m\u001b[0mvalues\u001b[0m\u001b[0;34m,\u001b[0m \u001b[0mf\u001b[0m\u001b[0;34m,\u001b[0m \u001b[0mconvert\u001b[0m\u001b[0;34m=\u001b[0m\u001b[0mconvert_dtype\u001b[0m\u001b[0;34m)\u001b[0m\u001b[0;34m\u001b[0m\u001b[0;34m\u001b[0m\u001b[0m\n\u001b[0m\u001b[1;32m   4046\u001b[0m \u001b[0;34m\u001b[0m\u001b[0m\n\u001b[1;32m   4047\u001b[0m         \u001b[0;32mif\u001b[0m \u001b[0mlen\u001b[0m\u001b[0;34m(\u001b[0m\u001b[0mmapped\u001b[0m\u001b[0;34m)\u001b[0m \u001b[0;32mand\u001b[0m \u001b[0misinstance\u001b[0m\u001b[0;34m(\u001b[0m\u001b[0mmapped\u001b[0m\u001b[0;34m[\u001b[0m\u001b[0;36m0\u001b[0m\u001b[0;34m]\u001b[0m\u001b[0;34m,\u001b[0m \u001b[0mSeries\u001b[0m\u001b[0;34m)\u001b[0m\u001b[0;34m:\u001b[0m\u001b[0;34m\u001b[0m\u001b[0;34m\u001b[0m\u001b[0m\n",
      "\u001b[0;32mpandas/_libs/lib.pyx\u001b[0m in \u001b[0;36mpandas._libs.lib.map_infer\u001b[0;34m()\u001b[0m\n",
      "\u001b[0;32m/opt/anaconda3/lib/python3.7/site-packages/langdetect/detector_factory.py\u001b[0m in \u001b[0;36mdetect\u001b[0;34m(text)\u001b[0m\n\u001b[1;32m    128\u001b[0m     \u001b[0mdetector\u001b[0m \u001b[0;34m=\u001b[0m \u001b[0m_factory\u001b[0m\u001b[0;34m.\u001b[0m\u001b[0mcreate\u001b[0m\u001b[0;34m(\u001b[0m\u001b[0;34m)\u001b[0m\u001b[0;34m\u001b[0m\u001b[0;34m\u001b[0m\u001b[0m\n\u001b[1;32m    129\u001b[0m     \u001b[0mdetector\u001b[0m\u001b[0;34m.\u001b[0m\u001b[0mappend\u001b[0m\u001b[0;34m(\u001b[0m\u001b[0mtext\u001b[0m\u001b[0;34m)\u001b[0m\u001b[0;34m\u001b[0m\u001b[0;34m\u001b[0m\u001b[0m\n\u001b[0;32m--> 130\u001b[0;31m     \u001b[0;32mreturn\u001b[0m \u001b[0mdetector\u001b[0m\u001b[0;34m.\u001b[0m\u001b[0mdetect\u001b[0m\u001b[0;34m(\u001b[0m\u001b[0;34m)\u001b[0m\u001b[0;34m\u001b[0m\u001b[0;34m\u001b[0m\u001b[0m\n\u001b[0m\u001b[1;32m    131\u001b[0m \u001b[0;34m\u001b[0m\u001b[0m\n\u001b[1;32m    132\u001b[0m \u001b[0;34m\u001b[0m\u001b[0m\n",
      "\u001b[0;32m/opt/anaconda3/lib/python3.7/site-packages/langdetect/detector.py\u001b[0m in \u001b[0;36mdetect\u001b[0;34m(self)\u001b[0m\n\u001b[1;32m    134\u001b[0m         \u001b[0mwhich\u001b[0m \u001b[0mhas\u001b[0m \u001b[0mthe\u001b[0m \u001b[0mhighest\u001b[0m \u001b[0mprobability\u001b[0m\u001b[0;34m.\u001b[0m\u001b[0;34m\u001b[0m\u001b[0;34m\u001b[0m\u001b[0m\n\u001b[1;32m    135\u001b[0m         '''\n\u001b[0;32m--> 136\u001b[0;31m         \u001b[0mprobabilities\u001b[0m \u001b[0;34m=\u001b[0m \u001b[0mself\u001b[0m\u001b[0;34m.\u001b[0m\u001b[0mget_probabilities\u001b[0m\u001b[0;34m(\u001b[0m\u001b[0;34m)\u001b[0m\u001b[0;34m\u001b[0m\u001b[0;34m\u001b[0m\u001b[0m\n\u001b[0m\u001b[1;32m    137\u001b[0m         \u001b[0;32mif\u001b[0m \u001b[0mprobabilities\u001b[0m\u001b[0;34m:\u001b[0m\u001b[0;34m\u001b[0m\u001b[0;34m\u001b[0m\u001b[0m\n\u001b[1;32m    138\u001b[0m             \u001b[0;32mreturn\u001b[0m \u001b[0mprobabilities\u001b[0m\u001b[0;34m[\u001b[0m\u001b[0;36m0\u001b[0m\u001b[0;34m]\u001b[0m\u001b[0;34m.\u001b[0m\u001b[0mlang\u001b[0m\u001b[0;34m\u001b[0m\u001b[0;34m\u001b[0m\u001b[0m\n",
      "\u001b[0;32m/opt/anaconda3/lib/python3.7/site-packages/langdetect/detector.py\u001b[0m in \u001b[0;36mget_probabilities\u001b[0;34m(self)\u001b[0m\n\u001b[1;32m    141\u001b[0m     \u001b[0;32mdef\u001b[0m \u001b[0mget_probabilities\u001b[0m\u001b[0;34m(\u001b[0m\u001b[0mself\u001b[0m\u001b[0;34m)\u001b[0m\u001b[0;34m:\u001b[0m\u001b[0;34m\u001b[0m\u001b[0;34m\u001b[0m\u001b[0m\n\u001b[1;32m    142\u001b[0m         \u001b[0;32mif\u001b[0m \u001b[0mself\u001b[0m\u001b[0;34m.\u001b[0m\u001b[0mlangprob\u001b[0m \u001b[0;32mis\u001b[0m \u001b[0;32mNone\u001b[0m\u001b[0;34m:\u001b[0m\u001b[0;34m\u001b[0m\u001b[0;34m\u001b[0m\u001b[0m\n\u001b[0;32m--> 143\u001b[0;31m             \u001b[0mself\u001b[0m\u001b[0;34m.\u001b[0m\u001b[0m_detect_block\u001b[0m\u001b[0;34m(\u001b[0m\u001b[0;34m)\u001b[0m\u001b[0;34m\u001b[0m\u001b[0;34m\u001b[0m\u001b[0m\n\u001b[0m\u001b[1;32m    144\u001b[0m         \u001b[0;32mreturn\u001b[0m \u001b[0mself\u001b[0m\u001b[0;34m.\u001b[0m\u001b[0m_sort_probability\u001b[0m\u001b[0;34m(\u001b[0m\u001b[0mself\u001b[0m\u001b[0;34m.\u001b[0m\u001b[0mlangprob\u001b[0m\u001b[0;34m)\u001b[0m\u001b[0;34m\u001b[0m\u001b[0;34m\u001b[0m\u001b[0m\n\u001b[1;32m    145\u001b[0m \u001b[0;34m\u001b[0m\u001b[0m\n",
      "\u001b[0;32m/opt/anaconda3/lib/python3.7/site-packages/langdetect/detector.py\u001b[0m in \u001b[0;36m_detect_block\u001b[0;34m(self)\u001b[0m\n\u001b[1;32m    148\u001b[0m         \u001b[0mngrams\u001b[0m \u001b[0;34m=\u001b[0m \u001b[0mself\u001b[0m\u001b[0;34m.\u001b[0m\u001b[0m_extract_ngrams\u001b[0m\u001b[0;34m(\u001b[0m\u001b[0;34m)\u001b[0m\u001b[0;34m\u001b[0m\u001b[0;34m\u001b[0m\u001b[0m\n\u001b[1;32m    149\u001b[0m         \u001b[0;32mif\u001b[0m \u001b[0;32mnot\u001b[0m \u001b[0mngrams\u001b[0m\u001b[0;34m:\u001b[0m\u001b[0;34m\u001b[0m\u001b[0;34m\u001b[0m\u001b[0m\n\u001b[0;32m--> 150\u001b[0;31m             \u001b[0;32mraise\u001b[0m \u001b[0mLangDetectException\u001b[0m\u001b[0;34m(\u001b[0m\u001b[0mErrorCode\u001b[0m\u001b[0;34m.\u001b[0m\u001b[0mCantDetectError\u001b[0m\u001b[0;34m,\u001b[0m \u001b[0;34m'No features in text.'\u001b[0m\u001b[0;34m)\u001b[0m\u001b[0;34m\u001b[0m\u001b[0;34m\u001b[0m\u001b[0m\n\u001b[0m\u001b[1;32m    151\u001b[0m \u001b[0;34m\u001b[0m\u001b[0m\n\u001b[1;32m    152\u001b[0m         \u001b[0mself\u001b[0m\u001b[0;34m.\u001b[0m\u001b[0mlangprob\u001b[0m \u001b[0;34m=\u001b[0m \u001b[0;34m[\u001b[0m\u001b[0;36m0.0\u001b[0m\u001b[0;34m]\u001b[0m \u001b[0;34m*\u001b[0m \u001b[0mlen\u001b[0m\u001b[0;34m(\u001b[0m\u001b[0mself\u001b[0m\u001b[0;34m.\u001b[0m\u001b[0mlanglist\u001b[0m\u001b[0;34m)\u001b[0m\u001b[0;34m\u001b[0m\u001b[0;34m\u001b[0m\u001b[0m\n",
      "\u001b[0;31mLangDetectException\u001b[0m: No features in text."
     ]
    }
   ],
   "source": [
    "## filter for English tweets only\n",
    "df[\"language\"] = df[\"text\"].apply(detect)"
   ]
  },
  {
   "cell_type": "code",
   "execution_count": null,
   "metadata": {},
   "outputs": [],
   "source": [
    "textlang = [detect(text) for text in df[\"text\"] if len(text) > 50]\n"
   ]
  },
  {
   "cell_type": "code",
   "execution_count": null,
   "metadata": {},
   "outputs": [],
   "source": [
    "foreign_langs = {}\n",
    "for text in df[\"text\"]:\n",
    "    try:\n",
    "        if detect(text) != \"en\":\n",
    "            foreignlangs[\"lang\"] = text\n",
    "        except:\n",
    "            \n",
    "            "
   ]
  },
  {
   "cell_type": "code",
   "execution_count": 117,
   "metadata": {},
   "outputs": [
    {
     "data": {
      "text/plain": [
       "text        0\n",
       "disaster    3\n",
       "dtype: int64"
      ]
     },
     "execution_count": 117,
     "metadata": {},
     "output_type": "execute_result"
    }
   ],
   "source": [
    "for key, valu in onlyText.items():\n",
    "        try:\n",
    "            if detect(val[0]) !=\"en\":\n",
    "                foreignLangs[key]= val\n",
    "                foreignLangs[key].append(detect(val[0]))\n",
    "\n",
    "        except:\n",
    "            noLang[key] = val"
   ]
  },
  {
   "cell_type": "code",
   "execution_count": 118,
   "metadata": {},
   "outputs": [],
   "source": [
    "def isEnglish(s):\n",
    "    return s.translate(None, string.punctuation).isalnum()"
   ]
  },
  {
   "cell_type": "code",
   "execution_count": 124,
   "metadata": {},
   "outputs": [
    {
     "data": {
      "text/plain": [
       "0    offically tropical storm dorian where is it going tropical depressionhurricane dorian trackthe latest on the storms track in the above youtube link rpmn ewuls\n",
       "0    lord i hope not we don t need anotheryear flood down here in louisiana                                                                                        \n",
       "0    sonomas wineries and restaurants reopen their doors to returning visitors and thevintage has survived the                                                     \n",
       "Name: text, dtype: object"
      ]
     },
     "execution_count": 124,
     "metadata": {},
     "output_type": "execute_result"
    }
   ],
   "source": [
    "for text in df[\"text\"]"
   ]
  },
  {
   "cell_type": "code",
   "execution_count": 122,
   "metadata": {},
   "outputs": [
    {
     "ename": "AttributeError",
     "evalue": "'Series' object has no attribute 'translate'",
     "output_type": "error",
     "traceback": [
      "\u001b[0;31m---------------------------------------------------------------------------\u001b[0m",
      "\u001b[0;31mAttributeError\u001b[0m                            Traceback (most recent call last)",
      "\u001b[0;32m<ipython-input-122-2770fbabc73a>\u001b[0m in \u001b[0;36m<module>\u001b[0;34m\u001b[0m\n\u001b[0;32m----> 1\u001b[0;31m \u001b[0misEnglish\u001b[0m\u001b[0;34m(\u001b[0m\u001b[0mdf\u001b[0m\u001b[0;34m[\u001b[0m\u001b[0;34m\"text\"\u001b[0m\u001b[0;34m]\u001b[0m\u001b[0;34m[\u001b[0m\u001b[0;36m0\u001b[0m\u001b[0;34m]\u001b[0m\u001b[0;34m)\u001b[0m\u001b[0;34m\u001b[0m\u001b[0;34m\u001b[0m\u001b[0m\n\u001b[0m",
      "\u001b[0;32m<ipython-input-118-3edfe547bf68>\u001b[0m in \u001b[0;36misEnglish\u001b[0;34m(s)\u001b[0m\n\u001b[1;32m      1\u001b[0m \u001b[0;32mdef\u001b[0m \u001b[0misEnglish\u001b[0m\u001b[0;34m(\u001b[0m\u001b[0ms\u001b[0m\u001b[0;34m)\u001b[0m\u001b[0;34m:\u001b[0m\u001b[0;34m\u001b[0m\u001b[0;34m\u001b[0m\u001b[0m\n\u001b[0;32m----> 2\u001b[0;31m     \u001b[0;32mreturn\u001b[0m \u001b[0ms\u001b[0m\u001b[0;34m.\u001b[0m\u001b[0mtranslate\u001b[0m\u001b[0;34m(\u001b[0m\u001b[0;32mNone\u001b[0m\u001b[0;34m,\u001b[0m \u001b[0mstring\u001b[0m\u001b[0;34m.\u001b[0m\u001b[0mpunctuation\u001b[0m\u001b[0;34m)\u001b[0m\u001b[0;34m.\u001b[0m\u001b[0misalnum\u001b[0m\u001b[0;34m(\u001b[0m\u001b[0;34m)\u001b[0m\u001b[0;34m\u001b[0m\u001b[0;34m\u001b[0m\u001b[0m\n\u001b[0m",
      "\u001b[0;32m/opt/anaconda3/lib/python3.7/site-packages/pandas/core/generic.py\u001b[0m in \u001b[0;36m__getattr__\u001b[0;34m(self, name)\u001b[0m\n\u001b[1;32m   5177\u001b[0m             \u001b[0;32mif\u001b[0m \u001b[0mself\u001b[0m\u001b[0;34m.\u001b[0m\u001b[0m_info_axis\u001b[0m\u001b[0;34m.\u001b[0m\u001b[0m_can_hold_identifiers_and_holds_name\u001b[0m\u001b[0;34m(\u001b[0m\u001b[0mname\u001b[0m\u001b[0;34m)\u001b[0m\u001b[0;34m:\u001b[0m\u001b[0;34m\u001b[0m\u001b[0;34m\u001b[0m\u001b[0m\n\u001b[1;32m   5178\u001b[0m                 \u001b[0;32mreturn\u001b[0m \u001b[0mself\u001b[0m\u001b[0;34m[\u001b[0m\u001b[0mname\u001b[0m\u001b[0;34m]\u001b[0m\u001b[0;34m\u001b[0m\u001b[0;34m\u001b[0m\u001b[0m\n\u001b[0;32m-> 5179\u001b[0;31m             \u001b[0;32mreturn\u001b[0m \u001b[0mobject\u001b[0m\u001b[0;34m.\u001b[0m\u001b[0m__getattribute__\u001b[0m\u001b[0;34m(\u001b[0m\u001b[0mself\u001b[0m\u001b[0;34m,\u001b[0m \u001b[0mname\u001b[0m\u001b[0;34m)\u001b[0m\u001b[0;34m\u001b[0m\u001b[0;34m\u001b[0m\u001b[0m\n\u001b[0m\u001b[1;32m   5180\u001b[0m \u001b[0;34m\u001b[0m\u001b[0m\n\u001b[1;32m   5181\u001b[0m     \u001b[0;32mdef\u001b[0m \u001b[0m__setattr__\u001b[0m\u001b[0;34m(\u001b[0m\u001b[0mself\u001b[0m\u001b[0;34m,\u001b[0m \u001b[0mname\u001b[0m\u001b[0;34m,\u001b[0m \u001b[0mvalue\u001b[0m\u001b[0;34m)\u001b[0m\u001b[0;34m:\u001b[0m\u001b[0;34m\u001b[0m\u001b[0;34m\u001b[0m\u001b[0m\n",
      "\u001b[0;31mAttributeError\u001b[0m: 'Series' object has no attribute 'translate'"
     ]
    }
   ],
   "source": [
    "isEnglish(df[\"text\"][0])"
   ]
  },
  {
   "cell_type": "markdown",
   "metadata": {},
   "source": [
    "## Write to CSV"
   ]
  },
  {
   "cell_type": "code",
   "execution_count": 379,
   "metadata": {},
   "outputs": [],
   "source": [
    "df.to_csv(\"../Data/all_tweets_clean2.csv\", index = False)"
   ]
  }
 ],
 "metadata": {
  "kernelspec": {
   "display_name": "Python 3",
   "language": "python",
   "name": "python3"
  },
  "language_info": {
   "codemirror_mode": {
    "name": "ipython",
    "version": 3
   },
   "file_extension": ".py",
   "mimetype": "text/x-python",
   "name": "python",
   "nbconvert_exporter": "python",
   "pygments_lexer": "ipython3",
   "version": "3.7.4"
  }
 },
 "nbformat": 4,
 "nbformat_minor": 2
}
